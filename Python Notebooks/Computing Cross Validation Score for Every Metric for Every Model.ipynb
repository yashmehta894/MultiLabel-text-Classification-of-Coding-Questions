{
 "cells": [
  {
   "cell_type": "code",
   "execution_count": 6,
   "metadata": {},
   "outputs": [],
   "source": [
    "import warnings\n",
    "warnings.filterwarnings('always')\n",
    "warnings.filterwarnings('ignore')\n",
    "\n",
    "import numpy as np\n",
    "import pandas as pd\n",
    "import matplotlib\n",
    "matplotlib.use('TkAgg')\n",
    "import matplotlib.pyplot as plt\n",
    "from matplotlib import style\n",
    "import seaborn as sns\n",
    "import missingno as msno\n",
    "import re\n",
    "import os.path\n",
    "import math\n",
    "from sklearn.model_selection import StratifiedShuffleSplit\n",
    "from sklearn.model_selection import KFold\n",
    "from sklearn.naive_bayes import MultinomialNB\n",
    "from sklearn.pipeline import Pipeline\n",
    "from sklearn.svm import LinearSVC\n",
    "from sklearn.svm import SVC\n",
    "from sklearn.multiclass import OneVsRestClassifier\n",
    "from sklearn.metrics import classification_report\n",
    "from sklearn.model_selection import GridSearchCV\n",
    "from scipy import sparse\n",
    "from sklearn.metrics import make_scorer\n",
    "from sklearn.metrics import f1_score\n",
    "from sklearn.linear_model import LogisticRegression\n",
    "from skmultilearn.problem_transform import LabelPowerset\n",
    "from sklearn.cluster import KMeans\n",
    "from sklearn.decomposition import PCA\n",
    "from sklearn.ensemble import RandomForestClassifier\n",
    "\n",
    "\n",
    "import nltk\n",
    "from wordcloud import WordCloud\n",
    "from nltk.stem.snowball import SnowballStemmer\n",
    "from nltk.stem import WordNetLemmatizer\n",
    "from nltk.corpus import stopwords\n",
    "import unicodedata\n",
    "\n",
    "from sklearn.feature_extraction.text import TfidfVectorizer\n",
    "from sklearn.feature_extraction.text import CountVectorizer\n",
    "\n",
    "\n",
    "#plt.style.use('fivethirtyeight')\n",
    "sns.set_style(\"whitegrid\")\n",
    "sns.set_context(\"talk\", font_scale=0.8)\n",
    "\n",
    "from helper_functions import *"
   ]
  },
  {
   "cell_type": "code",
   "execution_count": 7,
   "metadata": {},
   "outputs": [],
   "source": [
    "df = pd.read_csv(\"leetcode_questions.csv\", encoding = \"ISO-8859-1\")"
   ]
  },
  {
   "cell_type": "code",
   "execution_count": 8,
   "metadata": {},
   "outputs": [],
   "source": [
    "df = df.drop(['Question Title', 'Question Description', 'Examples','Similar Questions Titles','Similar Questions Links'], axis=1)"
   ]
  },
  {
   "cell_type": "code",
   "execution_count": 9,
   "metadata": {},
   "outputs": [],
   "source": [
    "df = df.drop(['Unnamed: 40'], axis=1)\n",
    "df = df.drop(['Unnamed: 41'], axis=1)"
   ]
  },
  {
   "cell_type": "code",
   "execution_count": 10,
   "metadata": {},
   "outputs": [],
   "source": [
    "train, test = train_test_split(df, random_state=42, test_size=0.10, shuffle=True)"
   ]
  },
  {
   "cell_type": "code",
   "execution_count": 13,
   "metadata": {},
   "outputs": [],
   "source": [
    "train = train.rename(columns={'Question Title Plus Description': 'Question_Title_Plus_Description'})\n",
    "test = test.rename(columns={'Question Title Plus Description': 'Question_Title_Plus_Description'})"
   ]
  },
  {
   "cell_type": "code",
   "execution_count": 18,
   "metadata": {},
   "outputs": [],
   "source": [
    "train_X, train_y = train['Question_Title_Plus_Description'], train.drop(['Question_Title_Plus_Description'], axis=1)\n",
    "test_X, test_y = test['Question_Title_Plus_Description'], test.drop(['Question_Title_Plus_Description'], axis=1)"
   ]
  },
  {
   "cell_type": "code",
   "execution_count": 44,
   "metadata": {},
   "outputs": [],
   "source": [
    "from sklearn.metrics import f1_score\n",
    "from sklearn.metrics import accuracy_score\n",
    "from sklearn.metrics import precision_score\n",
    "from sklearn.metrics import recall_score"
   ]
  },
  {
   "cell_type": "code",
   "execution_count": 162,
   "metadata": {},
   "outputs": [
    {
     "name": "stdout",
     "output_type": "stream",
     "text": [
      "Fitting 2 folds for each of 5 candidates, totalling 10 fits\n",
      "[CV] tfidf__max_df=0.5, clf__C=5, tfidf__ngram_range=(1, 2), tfidf__min_df=2 \n"
     ]
    },
    {
     "name": "stderr",
     "output_type": "stream",
     "text": [
      "[Parallel(n_jobs=1)]: Using backend SequentialBackend with 1 concurrent workers.\n"
     ]
    },
    {
     "name": "stdout",
     "output_type": "stream",
     "text": [
      "[CV]  tfidf__max_df=0.5, clf__C=5, tfidf__ngram_range=(1, 2), tfidf__min_df=2, score=0, total=   1.1s\n",
      "[CV] tfidf__max_df=0.5, clf__C=5, tfidf__ngram_range=(1, 2), tfidf__min_df=2 \n"
     ]
    },
    {
     "name": "stderr",
     "output_type": "stream",
     "text": [
      "[Parallel(n_jobs=1)]: Done   1 out of   1 | elapsed:    1.4s remaining:    0.0s\n"
     ]
    },
    {
     "name": "stdout",
     "output_type": "stream",
     "text": [
      "[CV]  tfidf__max_df=0.5, clf__C=5, tfidf__ngram_range=(1, 2), tfidf__min_df=2, score=0, total=   1.5s\n",
      "[CV] tfidf__max_df=0.5, clf__C=10, tfidf__ngram_range=(1, 2), tfidf__min_df=2 \n"
     ]
    },
    {
     "name": "stderr",
     "output_type": "stream",
     "text": [
      "[Parallel(n_jobs=1)]: Done   2 out of   2 | elapsed:    3.3s remaining:    0.0s\n"
     ]
    },
    {
     "name": "stdout",
     "output_type": "stream",
     "text": [
      "[CV]  tfidf__max_df=0.5, clf__C=10, tfidf__ngram_range=(1, 2), tfidf__min_df=2, score=0, total=   1.0s\n",
      "[CV] tfidf__max_df=0.5, clf__C=10, tfidf__ngram_range=(1, 2), tfidf__min_df=2 \n"
     ]
    },
    {
     "name": "stderr",
     "output_type": "stream",
     "text": [
      "[Parallel(n_jobs=1)]: Done   3 out of   3 | elapsed:    4.5s remaining:    0.0s\n"
     ]
    },
    {
     "name": "stdout",
     "output_type": "stream",
     "text": [
      "[CV]  tfidf__max_df=0.5, clf__C=10, tfidf__ngram_range=(1, 2), tfidf__min_df=2, score=0, total=   1.5s\n",
      "[CV] tfidf__max_df=0.5, clf__C=20, tfidf__ngram_range=(1, 2), tfidf__min_df=2 \n"
     ]
    },
    {
     "name": "stderr",
     "output_type": "stream",
     "text": [
      "[Parallel(n_jobs=1)]: Done   4 out of   4 | elapsed:    6.4s remaining:    0.0s\n"
     ]
    },
    {
     "name": "stdout",
     "output_type": "stream",
     "text": [
      "[CV]  tfidf__max_df=0.5, clf__C=20, tfidf__ngram_range=(1, 2), tfidf__min_df=2, score=0, total=   1.1s\n",
      "[CV] tfidf__max_df=0.5, clf__C=20, tfidf__ngram_range=(1, 2), tfidf__min_df=2 \n"
     ]
    },
    {
     "name": "stderr",
     "output_type": "stream",
     "text": [
      "[Parallel(n_jobs=1)]: Done   5 out of   5 | elapsed:    7.8s remaining:    0.0s\n",
      "/anaconda2/envs/problemsClassifierEnv/lib/python2.7/site-packages/sklearn/svm/base.py:931: ConvergenceWarning: Liblinear failed to converge, increase the number of iterations.\n",
      "  \"the number of iterations.\", ConvergenceWarning)\n"
     ]
    },
    {
     "name": "stdout",
     "output_type": "stream",
     "text": [
      "[CV]  tfidf__max_df=0.5, clf__C=20, tfidf__ngram_range=(1, 2), tfidf__min_df=2, score=0, total=   1.8s\n",
      "[CV] tfidf__max_df=0.5, clf__C=50, tfidf__ngram_range=(1, 2), tfidf__min_df=2 \n"
     ]
    },
    {
     "name": "stderr",
     "output_type": "stream",
     "text": [
      "[Parallel(n_jobs=1)]: Done   6 out of   6 | elapsed:   10.0s remaining:    0.0s\n"
     ]
    },
    {
     "name": "stdout",
     "output_type": "stream",
     "text": [
      "[CV]  tfidf__max_df=0.5, clf__C=50, tfidf__ngram_range=(1, 2), tfidf__min_df=2, score=0, total=   1.2s\n",
      "[CV] tfidf__max_df=0.5, clf__C=50, tfidf__ngram_range=(1, 2), tfidf__min_df=2 \n"
     ]
    },
    {
     "name": "stderr",
     "output_type": "stream",
     "text": [
      "[Parallel(n_jobs=1)]: Done   7 out of   7 | elapsed:   11.5s remaining:    0.0s\n",
      "/anaconda2/envs/problemsClassifierEnv/lib/python2.7/site-packages/sklearn/svm/base.py:931: ConvergenceWarning: Liblinear failed to converge, increase the number of iterations.\n",
      "  \"the number of iterations.\", ConvergenceWarning)\n"
     ]
    },
    {
     "name": "stdout",
     "output_type": "stream",
     "text": [
      "[CV]  tfidf__max_df=0.5, clf__C=50, tfidf__ngram_range=(1, 2), tfidf__min_df=2, score=0, total=   1.8s\n",
      "[CV] tfidf__max_df=0.5, clf__C=100, tfidf__ngram_range=(1, 2), tfidf__min_df=2 \n"
     ]
    },
    {
     "name": "stderr",
     "output_type": "stream",
     "text": [
      "[Parallel(n_jobs=1)]: Done   8 out of   8 | elapsed:   13.6s remaining:    0.0s\n"
     ]
    },
    {
     "name": "stdout",
     "output_type": "stream",
     "text": [
      "[CV]  tfidf__max_df=0.5, clf__C=100, tfidf__ngram_range=(1, 2), tfidf__min_df=2, score=0, total=   1.2s\n",
      "[CV] tfidf__max_df=0.5, clf__C=100, tfidf__ngram_range=(1, 2), tfidf__min_df=2 \n"
     ]
    },
    {
     "name": "stderr",
     "output_type": "stream",
     "text": [
      "[Parallel(n_jobs=1)]: Done   9 out of   9 | elapsed:   15.1s remaining:    0.0s\n",
      "/anaconda2/envs/problemsClassifierEnv/lib/python2.7/site-packages/sklearn/svm/base.py:931: ConvergenceWarning: Liblinear failed to converge, increase the number of iterations.\n",
      "  \"the number of iterations.\", ConvergenceWarning)\n"
     ]
    },
    {
     "name": "stdout",
     "output_type": "stream",
     "text": [
      "[CV]  tfidf__max_df=0.5, clf__C=100, tfidf__ngram_range=(1, 2), tfidf__min_df=2, score=0, total=   2.0s\n"
     ]
    },
    {
     "name": "stderr",
     "output_type": "stream",
     "text": [
      "[Parallel(n_jobs=1)]: Done  10 out of  10 | elapsed:   17.5s finished\n"
     ]
    },
    {
     "name": "stdout",
     "output_type": "stream",
     "text": [
      "Best parameters set:\n",
      "[('tfidf', TfidfVectorizer(analyzer=u'word', binary=False, decode_error=u'strict',\n",
      "        dtype=<type 'numpy.float64'>, encoding=u'utf-8', input=u'content',\n",
      "        lowercase=True, max_df=0.5, max_features=None, min_df=2,\n",
      "        ngram_range=(1, 2), norm=u'l2', preprocessor=None, smooth_idf=True,\n",
      "        stop_words=None, strip_accents=None, sublinear_tf=False,\n",
      "        token_pattern=u'(?u)\\\\b\\\\w\\\\w+\\\\b', tokenizer=None, use_idf=True,\n",
      "        vocabulary=None)), ('clf', LinearSVC(C=5, class_weight='balanced', dual=True, fit_intercept=True,\n",
      "     intercept_scaling=1, loss='squared_hinge', max_iter=1000,\n",
      "     multi_class='ovr', penalty='l2', random_state=None, tol=0.0001,\n",
      "     verbose=0))]\n",
      "Applying best classifier on test data:\n"
     ]
    },
    {
     "name": "stderr",
     "output_type": "stream",
     "text": [
      "/anaconda2/envs/problemsClassifierEnv/lib/python2.7/site-packages/sklearn/metrics/classification.py:1143: UndefinedMetricWarning: Precision and F-score are ill-defined and being set to 0.0 in labels with no predicted samples.\n",
      "  'precision', 'predicted', average, warn_for)\n",
      "/anaconda2/envs/problemsClassifierEnv/lib/python2.7/site-packages/sklearn/metrics/classification.py:1145: UndefinedMetricWarning: Recall and F-score are ill-defined and being set to 0.0 in labels with no true samples.\n",
      "  'recall', 'true', average, warn_for)\n",
      "/anaconda2/envs/problemsClassifierEnv/lib/python2.7/site-packages/sklearn/metrics/classification.py:1143: UndefinedMetricWarning: Precision and F-score are ill-defined and being set to 0.0 in labels with no predicted samples.\n",
      "  'precision', 'predicted', average, warn_for)\n",
      "/anaconda2/envs/problemsClassifierEnv/lib/python2.7/site-packages/sklearn/metrics/classification.py:1145: UndefinedMetricWarning: Recall and F-score are ill-defined and being set to 0.0 in labels with no true samples.\n",
      "  'recall', 'true', average, warn_for)\n",
      "/anaconda2/envs/problemsClassifierEnv/lib/python2.7/site-packages/sklearn/metrics/classification.py:1143: UndefinedMetricWarning: Precision and F-score are ill-defined and being set to 0.0 in labels with no predicted samples.\n",
      "  'precision', 'predicted', average, warn_for)\n",
      "/anaconda2/envs/problemsClassifierEnv/lib/python2.7/site-packages/sklearn/metrics/classification.py:1145: UndefinedMetricWarning: Recall and F-score are ill-defined and being set to 0.0 in labels with no true samples.\n",
      "  'recall', 'true', average, warn_for)\n",
      "/anaconda2/envs/problemsClassifierEnv/lib/python2.7/site-packages/sklearn/metrics/classification.py:1143: UndefinedMetricWarning: Precision and F-score are ill-defined and being set to 0.0 in samples with no predicted labels.\n",
      "  'precision', 'predicted', average, warn_for)\n",
      "/anaconda2/envs/problemsClassifierEnv/lib/python2.7/site-packages/sklearn/metrics/classification.py:1145: UndefinedMetricWarning: Recall and F-score are ill-defined and being set to 0.0 in samples with no true labels.\n",
      "  'recall', 'true', average, warn_for)\n",
      "[Parallel(n_jobs=1)]: Using backend SequentialBackend with 1 concurrent workers.\n"
     ]
    },
    {
     "name": "stdout",
     "output_type": "stream",
     "text": [
      "[]\n",
      "--------\n",
      "[u'Segment Tree']\n",
      "--------\n",
      "[u'Segment Tree', u'Binary Search Tree']\n",
      "--------\n",
      "[u'Segment Tree', u'Binary Search Tree', u'Recursion']\n",
      "--------\n",
      "[u'Segment Tree', u'Memoization', u'Binary Search Tree', u'Recursion']\n",
      "--------\n",
      "[u'Segment Tree', u'Memoization', u'Design', u'Binary Search Tree', u'Recursion']\n",
      "--------\n",
      "[u'Topological Sort', u'Recursion', u'Memoization', u'Binary Search Tree', u'Design', u'Segment Tree']\n",
      "--------\n",
      "[u'Topological Sort', u'Trie', u'Recursion', u'Memoization', u'Binary Search Tree', u'Design', u'Segment Tree']\n",
      "--------\n",
      "[u'Topological Sort', u'Trie', u'Recursion', u'Memoization', u'Binary Search Tree', u'Design', u'Segment Tree', u'Binary Indexed Tree']\n",
      "--------\n",
      "[u'Topological Sort', u'Trie', u'Recursion', u'Memoization', u'Binary Search Tree', u'Queue', u'Design', u'Segment Tree', u'Binary Indexed Tree']\n",
      "--------\n",
      "[u'Topological Sort', u'Trie', u'Recursion', u'Minimax', u'Memoization', u'Binary Search Tree', u'Queue', u'Design', u'Segment Tree', u'Binary Indexed Tree']\n",
      "--------\n",
      "[u'Topological Sort', u'Trie', u'Recursion', u'Minimax', u'Memoization', u'Binary Search Tree', u'Queue', u'Design', u'Hash Table', u'Segment Tree', u'Binary Indexed Tree']\n",
      "--------\n",
      "[u'Topological Sort', u'Trie', u'Recursion', u'Minimax', u'Memoization', u'Binary Search Tree', u'Queue', u'Design', u'Hash Table', u'Segment Tree', u'Array', u'Binary Indexed Tree']\n",
      "--------\n",
      "[u'Topological Sort', u'Trie', u'Recursion', u'Minimax', u'Memoization', u'Binary Search Tree', u'Queue', u'Design', u'Hash Table', u'Segment Tree', u'Array', u'Math', u'Binary Indexed Tree']\n",
      "--------\n",
      "[u'Topological Sort', u'Trie', u'Recursion', u'Minimax', u'Memoization', u'Binary Search Tree', u'Queue', u'Linked List', u'Design', u'Hash Table', u'Segment Tree', u'Array', u'Math', u'Binary Indexed Tree']\n",
      "--------\n",
      "[u'Topological Sort', u'String', u'Trie', u'Recursion', u'Minimax', u'Memoization', u'Binary Search Tree', u'Queue', u'Linked List', u'Design', u'Hash Table', u'Segment Tree', u'Array', u'Math', u'Binary Indexed Tree']\n",
      "--------\n",
      "[u'Topological Sort', u'String', u'Trie', u'Recursion', u'Minimax', u'Memoization', u'Binary Search Tree', u'Queue', u'Two Pointers', u'Linked List', u'Design', u'Hash Table', u'Segment Tree', u'Array', u'Math', u'Binary Indexed Tree']\n",
      "--------\n",
      "[u'Topological Sort', u'String', u'Trie', u'Recursion', u'Minimax', u'Divide and Conquer', u'Memoization', u'Binary Search Tree', u'Queue', u'Two Pointers', u'Linked List', u'Design', u'Hash Table', u'Segment Tree', u'Array', u'Math', u'Binary Indexed Tree']\n",
      "--------\n",
      "[u'Topological Sort', u'String', u'Trie', u'Recursion', u'Minimax', u'Divide and Conquer', u'Memoization', u'Binary Search Tree', u'Queue', u'Two Pointers', u'Linked List', u'Design', u'Hash Table', u'Binary Search', u'Segment Tree', u'Array', u'Math', u'Binary Indexed Tree']\n",
      "--------\n",
      "[u'Topological Sort', u'String', u'Trie', u'Recursion', u'Minimax', u'Divide and Conquer', u'Memoization', u'Binary Search Tree', u'Queue', u'Two Pointers', u'Linked List', u'Design', u'Backtracking', u'Hash Table', u'Binary Search', u'Segment Tree', u'Array', u'Math', u'Binary Indexed Tree']\n",
      "--------\n",
      "[u'Topological Sort', u'String', u'Trie', u'Recursion', u'Minimax', u'Divide and Conquer', u'Memoization', u'Binary Search Tree', u'Queue', u'Two Pointers', u'Linked List', u'Dynamic Programming', u'Design', u'Backtracking', u'Hash Table', u'Binary Search', u'Segment Tree', u'Array', u'Math', u'Binary Indexed Tree']\n",
      "--------\n",
      "[u'Topological Sort', u'String', u'Trie', u'Recursion', u'Minimax', u'Divide and Conquer', u'Memoization', u'Heap', u'Binary Search Tree', u'Queue', u'Two Pointers', u'Linked List', u'Dynamic Programming', u'Design', u'Backtracking', u'Hash Table', u'Binary Search', u'Segment Tree', u'Array', u'Math', u'Binary Indexed Tree']\n",
      "--------\n",
      "[u'Two Pointers', u'Recursion', u'Minimax', u'Math', u'String', u'Heap', u'Binary Search', u'Stack', u'Binary Indexed Tree', u'Hash Table', u'Divide and Conquer', u'Memoization', u'Binary Search Tree', u'Queue', u'Linked List', u'Dynamic Programming', u'Topological Sort', u'Trie', u'Design', u'Segment Tree', u'Array', u'Backtracking']\n",
      "--------\n",
      "[u'Two Pointers', u'Recursion', u'Minimax', u'Math', u'Sort', u'String', u'Heap', u'Binary Search', u'Stack', u'Binary Indexed Tree', u'Hash Table', u'Divide and Conquer', u'Memoization', u'Binary Search Tree', u'Queue', u'Linked List', u'Dynamic Programming', u'Topological Sort', u'Trie', u'Design', u'Segment Tree', u'Array', u'Backtracking']\n",
      "--------\n",
      "[u'Two Pointers', u'Recursion', u'Minimax', u'Math', u'Sort', u'String', u'Greedy', u'Heap', u'Binary Search', u'Stack', u'Binary Indexed Tree', u'Hash Table', u'Divide and Conquer', u'Memoization', u'Binary Search Tree', u'Queue', u'Linked List', u'Dynamic Programming', u'Topological Sort', u'Trie', u'Design', u'Segment Tree', u'Array', u'Backtracking']\n",
      "--------\n",
      "[u'Two Pointers', u'Recursion', u'Minimax', u'Math', u'Sort', u'String', u'Greedy', u'Heap', u'Binary Search', u'Stack', u'Binary Indexed Tree', u'Hash Table', u'Divide and Conquer', u'Tree', u'Memoization', u'Binary Search Tree', u'Queue', u'Linked List', u'Dynamic Programming', u'Topological Sort', u'Trie', u'Design', u'Segment Tree', u'Array', u'Backtracking']\n",
      "--------\n",
      "[u'Two Pointers', u'Recursion', u'Minimax', u'Math', u'Sort', u'String', u'Greedy', u'Heap', u'Binary Search', u'Stack', u'Binary Indexed Tree', u'Hash Table', u'Divide and Conquer', u'Tree', u'Memoization', u'Binary Search Tree', u'Queue', u'Linked List', u'Dynamic Programming', u'Topological Sort', u'Trie', u'Design', u'Bit Manipulation', u'Segment Tree', u'Array', u'Backtracking']\n",
      "--------\n",
      "[u'Two Pointers', u'Recursion', u'Minimax', u'Math', u'Sort', u'String', u'Greedy', u'Heap', u'Binary Search', u'Stack', u'Binary Indexed Tree', u'Hash Table', u'Divide and Conquer', u'Tree', u'Memoization', u'Binary Search Tree', u'Queue', u'Linked List', u'Dynamic Programming', u'Topological Sort', u'Breadth-first Search', u'Trie', u'Design', u'Bit Manipulation', u'Segment Tree', u'Array', u'Backtracking']\n",
      "--------\n",
      "[u'Two Pointers', u'Recursion', u'Minimax', u'Math', u'Sort', u'String', u'Greedy', u'Heap', u'Binary Search', u'Stack', u'Binary Indexed Tree', u'Hash Table', u'Divide and Conquer', u'Tree', u'Memoization', u'Binary Search Tree', u'Queue', u'Linked List', u'Dynamic Programming', u'Topological Sort', u'Breadth-first Search', u'Trie', u'Design', u'Bit Manipulation', u'Segment Tree', u'Array', u'Depth-first Search', u'Backtracking']\n",
      "--------\n",
      "[u'Two Pointers', u'Recursion', u'Minimax', u'Math', u'Sort', u'String', u'Greedy', u'Heap', u'Graph', u'Binary Search', u'Stack', u'Binary Indexed Tree', u'Hash Table', u'Divide and Conquer', u'Tree', u'Memoization', u'Binary Search Tree', u'Queue', u'Linked List', u'Dynamic Programming', u'Topological Sort', u'Breadth-first Search', u'Trie', u'Design', u'Bit Manipulation', u'Segment Tree', u'Array', u'Depth-first Search', u'Backtracking']\n",
      "--------\n",
      "[u'Two Pointers', u'Recursion', u'Minimax', u'Math', u'Sort', u'String', u'Greedy', u'Union Find', u'Heap', u'Graph', u'Binary Search', u'Stack', u'Binary Indexed Tree', u'Hash Table', u'Divide and Conquer', u'Tree', u'Memoization', u'Binary Search Tree', u'Queue', u'Linked List', u'Dynamic Programming', u'Topological Sort', u'Breadth-first Search', u'Trie', u'Design', u'Bit Manipulation', u'Segment Tree', u'Array', u'Depth-first Search', u'Backtracking']\n",
      "--------\n",
      "[u'Two Pointers', u'Recursion', u'Minimax', u'Math', u'Sort', u'String', u'Greedy', u'Union Find', u'Heap', u'Graph', u'Binary Search', u'Stack', u'Binary Indexed Tree', u'Hash Table', u'Divide and Conquer', u'Tree', u'Memoization', u'Binary Search Tree', u'Queue', u'Linked List', u'Dynamic Programming', u'Topological Sort', u'Breadth-first Search', u'Trie', u'Random', u'Design', u'Bit Manipulation', u'Segment Tree', u'Array', u'Depth-first Search', u'Backtracking']\n",
      "--------\n",
      "[u'Two Pointers', u'Recursion', u'Minimax', u'Math', u'Sort', u'Map', u'String', u'Greedy', u'Union Find', u'Heap', u'Graph', u'Binary Search', u'Stack', u'Binary Indexed Tree', u'Hash Table', u'Divide and Conquer', u'Tree', u'Memoization', u'Binary Search Tree', u'Queue', u'Linked List', u'Dynamic Programming', u'Topological Sort', u'Breadth-first Search', u'Trie', u'Random', u'Design', u'Bit Manipulation', u'Segment Tree', u'Array', u'Depth-first Search', u'Backtracking']\n",
      "--------\n",
      "[u'Two Pointers', u'Recursion', u'Minimax', u'Math', u'Sort', u'Map', u'String', u'Greedy', u'Union Find', u'Heap', u'Graph', u'Binary Search', u'Stack', u'Binary Indexed Tree', u'Hash Table', u'Divide and Conquer', u'Tree', u'Memoization', u'Binary Search Tree', u'Queue', u'Linked List', u'Dynamic Programming', u'Topological Sort', u'Breadth-first Search', u'Trie', u'Random', u'Searching', u'Design', u'Bit Manipulation', u'Segment Tree', u'Array', u'Depth-first Search', u'Backtracking']\n",
      "--------\n",
      "Fitting 2 folds for each of 5 candidates, totalling 10 fits\n",
      "[CV] tfidf__max_df=0.5, clf__C=5, tfidf__ngram_range=(1, 2), tfidf__min_df=2 \n"
     ]
    },
    {
     "name": "stdout",
     "output_type": "stream",
     "text": [
      "[CV]  tfidf__max_df=0.5, clf__C=5, tfidf__ngram_range=(1, 2), tfidf__min_df=2, score=0, total=   1.2s\n",
      "[CV] tfidf__max_df=0.5, clf__C=5, tfidf__ngram_range=(1, 2), tfidf__min_df=2 \n"
     ]
    },
    {
     "name": "stderr",
     "output_type": "stream",
     "text": [
      "[Parallel(n_jobs=1)]: Done   1 out of   1 | elapsed:    1.5s remaining:    0.0s\n"
     ]
    },
    {
     "name": "stdout",
     "output_type": "stream",
     "text": [
      "[CV]  tfidf__max_df=0.5, clf__C=5, tfidf__ngram_range=(1, 2), tfidf__min_df=2, score=0, total=   1.6s\n",
      "[CV] tfidf__max_df=0.5, clf__C=10, tfidf__ngram_range=(1, 2), tfidf__min_df=2 \n"
     ]
    },
    {
     "name": "stderr",
     "output_type": "stream",
     "text": [
      "[Parallel(n_jobs=1)]: Done   2 out of   2 | elapsed:    3.6s remaining:    0.0s\n"
     ]
    },
    {
     "name": "stdout",
     "output_type": "stream",
     "text": [
      "[CV]  tfidf__max_df=0.5, clf__C=10, tfidf__ngram_range=(1, 2), tfidf__min_df=2, score=0, total=   1.1s\n",
      "[CV] tfidf__max_df=0.5, clf__C=10, tfidf__ngram_range=(1, 2), tfidf__min_df=2 \n"
     ]
    },
    {
     "name": "stderr",
     "output_type": "stream",
     "text": [
      "[Parallel(n_jobs=1)]: Done   3 out of   3 | elapsed:    5.0s remaining:    0.0s\n"
     ]
    },
    {
     "name": "stdout",
     "output_type": "stream",
     "text": [
      "[CV]  tfidf__max_df=0.5, clf__C=10, tfidf__ngram_range=(1, 2), tfidf__min_df=2, score=0, total=   1.7s\n",
      "[CV] tfidf__max_df=0.5, clf__C=20, tfidf__ngram_range=(1, 2), tfidf__min_df=2 \n"
     ]
    },
    {
     "name": "stderr",
     "output_type": "stream",
     "text": [
      "[Parallel(n_jobs=1)]: Done   4 out of   4 | elapsed:    7.2s remaining:    0.0s\n"
     ]
    },
    {
     "name": "stdout",
     "output_type": "stream",
     "text": [
      "[CV]  tfidf__max_df=0.5, clf__C=20, tfidf__ngram_range=(1, 2), tfidf__min_df=2, score=0, total=   1.2s\n",
      "[CV] tfidf__max_df=0.5, clf__C=20, tfidf__ngram_range=(1, 2), tfidf__min_df=2 \n"
     ]
    },
    {
     "name": "stderr",
     "output_type": "stream",
     "text": [
      "[Parallel(n_jobs=1)]: Done   5 out of   5 | elapsed:    8.6s remaining:    0.0s\n"
     ]
    },
    {
     "name": "stdout",
     "output_type": "stream",
     "text": [
      "[CV]  tfidf__max_df=0.5, clf__C=20, tfidf__ngram_range=(1, 2), tfidf__min_df=2, score=0, total=   1.7s\n",
      "[CV] tfidf__max_df=0.5, clf__C=50, tfidf__ngram_range=(1, 2), tfidf__min_df=2 \n"
     ]
    },
    {
     "name": "stderr",
     "output_type": "stream",
     "text": [
      "[Parallel(n_jobs=1)]: Done   6 out of   6 | elapsed:   10.7s remaining:    0.0s\n"
     ]
    },
    {
     "name": "stdout",
     "output_type": "stream",
     "text": [
      "[CV]  tfidf__max_df=0.5, clf__C=50, tfidf__ngram_range=(1, 2), tfidf__min_df=2, score=0, total=   1.3s\n",
      "[CV] tfidf__max_df=0.5, clf__C=50, tfidf__ngram_range=(1, 2), tfidf__min_df=2 \n"
     ]
    },
    {
     "name": "stderr",
     "output_type": "stream",
     "text": [
      "[Parallel(n_jobs=1)]: Done   7 out of   7 | elapsed:   12.3s remaining:    0.0s\n"
     ]
    },
    {
     "name": "stdout",
     "output_type": "stream",
     "text": [
      "[CV]  tfidf__max_df=0.5, clf__C=50, tfidf__ngram_range=(1, 2), tfidf__min_df=2, score=0, total=   1.6s\n",
      "[CV] tfidf__max_df=0.5, clf__C=100, tfidf__ngram_range=(1, 2), tfidf__min_df=2 \n"
     ]
    },
    {
     "name": "stderr",
     "output_type": "stream",
     "text": [
      "[Parallel(n_jobs=1)]: Done   8 out of   8 | elapsed:   14.2s remaining:    0.0s\n"
     ]
    },
    {
     "name": "stdout",
     "output_type": "stream",
     "text": [
      "[CV]  tfidf__max_df=0.5, clf__C=100, tfidf__ngram_range=(1, 2), tfidf__min_df=2, score=0, total=   1.3s\n",
      "[CV] tfidf__max_df=0.5, clf__C=100, tfidf__ngram_range=(1, 2), tfidf__min_df=2 \n"
     ]
    },
    {
     "name": "stderr",
     "output_type": "stream",
     "text": [
      "[Parallel(n_jobs=1)]: Done   9 out of   9 | elapsed:   15.8s remaining:    0.0s\n"
     ]
    },
    {
     "name": "stdout",
     "output_type": "stream",
     "text": [
      "[CV]  tfidf__max_df=0.5, clf__C=100, tfidf__ngram_range=(1, 2), tfidf__min_df=2, score=0, total=   1.7s\n"
     ]
    },
    {
     "name": "stderr",
     "output_type": "stream",
     "text": [
      "[Parallel(n_jobs=1)]: Done  10 out of  10 | elapsed:   18.0s finished\n"
     ]
    },
    {
     "name": "stdout",
     "output_type": "stream",
     "text": [
      "Best parameters set:\n",
      "[('tfidf', TfidfVectorizer(analyzer=u'word', binary=False, decode_error=u'strict',\n",
      "        dtype=<type 'numpy.float64'>, encoding=u'utf-8', input=u'content',\n",
      "        lowercase=True, max_df=0.5, max_features=None, min_df=2,\n",
      "        ngram_range=(1, 2), norm=u'l2', preprocessor=None, smooth_idf=True,\n",
      "        stop_words=None, strip_accents=None, sublinear_tf=False,\n",
      "        token_pattern=u'(?u)\\\\b\\\\w\\\\w+\\\\b', tokenizer=None, use_idf=True,\n",
      "        vocabulary=None)), ('clf', LinearSVC(C=5, class_weight='balanced', dual=True, fit_intercept=True,\n",
      "     intercept_scaling=1, loss='squared_hinge', max_iter=1000,\n",
      "     multi_class='ovr', penalty='l2', random_state=None, tol=0.0001,\n",
      "     verbose=0))]\n",
      "Applying best classifier on test data:\n",
      "[u'Two Pointers', u'Recursion', u'Minimax', u'Sliding Window', u'Math', u'Sort', u'Map', u'String', u'Greedy', u'Union Find', u'Heap', u'Graph', u'Binary Search', u'Stack', u'Binary Indexed Tree', u'Hash Table', u'Divide and Conquer', u'Tree', u'Memoization', u'Binary Search Tree', u'Queue', u'Linked List', u'Dynamic Programming', u'Topological Sort', u'Breadth-first Search', u'Trie', u'Random', u'Searching', u'Design', u'Bit Manipulation', u'Segment Tree', u'Array', u'Depth-first Search', u'Backtracking']\n",
      "*****************\n",
      "[u'Two Pointers', u'Recursion', u'Minimax', u'Sliding Window', u'Math', u'Sort', u'Map', u'String', u'Greedy', u'Union Find', u'Heap', u'Graph', u'Binary Search', u'Stack', u'Binary Indexed Tree', u'Hash Table', u'Divide and Conquer', u'Tree', u'Memoization', u'Binary Search Tree', u'Queue', u'Linked List', u'Dynamic Programming', u'Topological Sort', u'Breadth-first Search', u'Trie', u'Random', u'Searching', u'Design', u'Bit Manipulation', u'Segment Tree', u'Array', u'Depth-first Search', u'Backtracking']\n",
      "*****************\n",
      "[u'Two Pointers', u'Recursion', u'Minimax', u'Sliding Window', u'Math', u'Sort', u'Map', u'String', u'Greedy', u'Union Find', u'Heap', u'Graph', u'Binary Search', u'Stack', u'Binary Indexed Tree', u'Hash Table', u'Divide and Conquer', u'Tree', u'Memoization', u'Binary Search Tree', u'Queue', u'Linked List', u'Dynamic Programming', u'Topological Sort', u'Breadth-first Search', u'Trie', u'Random', u'Searching', u'Design', u'Bit Manipulation', u'Segment Tree', u'Array', u'Depth-first Search', u'Backtracking']\n",
      "*****************\n",
      "[u'Two Pointers', u'Recursion', u'Minimax', u'Sliding Window', u'Math', u'Sort', u'Map', u'String', u'Greedy', u'Union Find', u'Heap', u'Graph', u'Binary Search', u'Stack', u'Binary Indexed Tree', u'Hash Table', u'Divide and Conquer', u'Tree', u'Memoization', u'Binary Search Tree', u'Queue', u'Linked List', u'Dynamic Programming', u'Topological Sort', u'Breadth-first Search', u'Trie', u'Random', u'Searching', u'Design', u'Bit Manipulation', u'Segment Tree', u'Array', u'Depth-first Search', u'Backtracking']\n",
      "*****************\n",
      "[u'Two Pointers', u'Recursion', u'Minimax', u'Sliding Window', u'Math', u'Sort', u'Map', u'String', u'Greedy', u'Union Find', u'Heap', u'Graph', u'Binary Search', u'Stack', u'Binary Indexed Tree', u'Hash Table', u'Divide and Conquer', u'Tree', u'Memoization', u'Binary Search Tree', u'Queue', u'Linked List', u'Dynamic Programming', u'Topological Sort', u'Breadth-first Search', u'Trie', u'Random', u'Searching', u'Design', u'Bit Manipulation', u'Segment Tree', u'Array', u'Depth-first Search', u'Backtracking']\n",
      "*****************\n",
      "[u'Two Pointers', u'Recursion', u'Minimax', u'Sliding Window', u'Math', u'Sort', u'Map', u'String', u'Greedy', u'Union Find', u'Heap', u'Graph', u'Binary Search', u'Stack', u'Binary Indexed Tree', u'Hash Table', u'Divide and Conquer', u'Tree', u'Memoization', u'Binary Search Tree', u'Queue', u'Linked List', u'Dynamic Programming', u'Topological Sort', u'Breadth-first Search', u'Trie', u'Random', u'Searching', u'Design', u'Bit Manipulation', u'Segment Tree', u'Array', u'Depth-first Search', u'Backtracking']\n",
      "*****************\n",
      "[u'Two Pointers', u'Recursion', u'Minimax', u'Sliding Window', u'Math', u'Sort', u'Map', u'String', u'Greedy', u'Union Find', u'Heap', u'Graph', u'Binary Search', u'Stack', u'Binary Indexed Tree', u'Hash Table', u'Divide and Conquer', u'Tree', u'Memoization', u'Binary Search Tree', u'Queue', u'Linked List', u'Dynamic Programming', u'Topological Sort', u'Breadth-first Search', u'Trie', u'Random', u'Searching', u'Design', u'Bit Manipulation', u'Segment Tree', u'Array', u'Depth-first Search', u'Backtracking']\n",
      "*****************\n",
      "[u'Two Pointers', u'Recursion', u'Minimax', u'Sliding Window', u'Math', u'Sort', u'Map', u'String', u'Greedy', u'Union Find', u'Heap', u'Graph', u'Binary Search', u'Stack', u'Binary Indexed Tree', u'Hash Table', u'Divide and Conquer', u'Tree', u'Memoization', u'Binary Search Tree', u'Queue', u'Linked List', u'Dynamic Programming', u'Topological Sort', u'Breadth-first Search', u'Trie', u'Random', u'Searching', u'Design', u'Bit Manipulation', u'Segment Tree', u'Array', u'Depth-first Search', u'Backtracking']\n",
      "*****************\n",
      "[u'Two Pointers', u'Recursion', u'Minimax', u'Sliding Window', u'Math', u'Sort', u'Map', u'String', u'Greedy', u'Union Find', u'Heap', u'Graph', u'Binary Search', u'Stack', u'Binary Indexed Tree', u'Hash Table', u'Divide and Conquer', u'Tree', u'Memoization', u'Binary Search Tree', u'Queue', u'Linked List', u'Dynamic Programming', u'Topological Sort', u'Breadth-first Search', u'Trie', u'Random', u'Searching', u'Design', u'Bit Manipulation', u'Segment Tree', u'Array', u'Depth-first Search', u'Backtracking']\n",
      "*****************\n",
      "[u'Two Pointers', u'Recursion', u'Minimax', u'Sliding Window', u'Math', u'Sort', u'Map', u'String', u'Greedy', u'Union Find', u'Heap', u'Graph', u'Binary Search', u'Stack', u'Binary Indexed Tree', u'Hash Table', u'Divide and Conquer', u'Tree', u'Memoization', u'Binary Search Tree', u'Queue', u'Linked List', u'Dynamic Programming', u'Topological Sort', u'Breadth-first Search', u'Trie', u'Random', u'Searching', u'Design', u'Bit Manipulation', u'Segment Tree', u'Array', u'Depth-first Search', u'Backtracking']\n",
      "*****************\n",
      "[u'Two Pointers', u'Recursion', u'Minimax', u'Sliding Window', u'Math', u'Sort', u'Map', u'String', u'Greedy', u'Union Find', u'Heap', u'Graph', u'Binary Search', u'Stack', u'Binary Indexed Tree', u'Hash Table', u'Divide and Conquer', u'Tree', u'Memoization', u'Binary Search Tree', u'Queue', u'Linked List', u'Dynamic Programming', u'Topological Sort', u'Breadth-first Search', u'Trie', u'Random', u'Searching', u'Design', u'Bit Manipulation', u'Segment Tree', u'Array', u'Depth-first Search', u'Backtracking']\n",
      "*****************\n",
      "[u'Two Pointers', u'Recursion', u'Minimax', u'Sliding Window', u'Math', u'Sort', u'Map', u'String', u'Greedy', u'Union Find', u'Heap', u'Graph', u'Binary Search', u'Stack', u'Binary Indexed Tree', u'Hash Table', u'Divide and Conquer', u'Tree', u'Memoization', u'Binary Search Tree', u'Queue', u'Linked List', u'Dynamic Programming', u'Topological Sort', u'Breadth-first Search', u'Trie', u'Random', u'Searching', u'Design', u'Bit Manipulation', u'Segment Tree', u'Array', u'Depth-first Search', u'Backtracking']\n",
      "*****************\n",
      "[u'Two Pointers', u'Recursion', u'Minimax', u'Sliding Window', u'Math', u'Sort', u'Map', u'String', u'Greedy', u'Union Find', u'Heap', u'Graph', u'Binary Search', u'Stack', u'Binary Indexed Tree', u'Hash Table', u'Divide and Conquer', u'Tree', u'Memoization', u'Binary Search Tree', u'Queue', u'Linked List', u'Dynamic Programming', u'Topological Sort', u'Breadth-first Search', u'Trie', u'Random', u'Searching', u'Design', u'Bit Manipulation', u'Segment Tree', u'Array', u'Depth-first Search', u'Backtracking']\n",
      "*****************\n",
      "[u'Two Pointers', u'Recursion', u'Minimax', u'Sliding Window', u'Math', u'Sort', u'Map', u'String', u'Greedy', u'Union Find', u'Heap', u'Graph', u'Binary Search', u'Stack', u'Binary Indexed Tree', u'Hash Table', u'Divide and Conquer', u'Tree', u'Memoization', u'Binary Search Tree', u'Queue', u'Linked List', u'Dynamic Programming', u'Topological Sort', u'Breadth-first Search', u'Trie', u'Random', u'Searching', u'Design', u'Bit Manipulation', u'Segment Tree', u'Array', u'Depth-first Search', u'Backtracking']\n",
      "*****************\n",
      "[u'Two Pointers', u'Recursion', u'Minimax', u'Sliding Window', u'Math', u'Sort', u'Map', u'String', u'Greedy', u'Union Find', u'Heap', u'Graph', u'Binary Search', u'Stack', u'Binary Indexed Tree', u'Hash Table', u'Divide and Conquer', u'Tree', u'Memoization', u'Binary Search Tree', u'Queue', u'Linked List', u'Dynamic Programming', u'Topological Sort', u'Breadth-first Search', u'Trie', u'Random', u'Searching', u'Design', u'Bit Manipulation', u'Segment Tree', u'Array', u'Depth-first Search', u'Backtracking']\n",
      "*****************\n",
      "[u'Two Pointers', u'Recursion', u'Minimax', u'Sliding Window', u'Math', u'Sort', u'Map', u'String', u'Greedy', u'Union Find', u'Heap', u'Graph', u'Binary Search', u'Stack', u'Binary Indexed Tree', u'Hash Table', u'Divide and Conquer', u'Tree', u'Memoization', u'Binary Search Tree', u'Queue', u'Linked List', u'Dynamic Programming', u'Topological Sort', u'Breadth-first Search', u'Trie', u'Random', u'Searching', u'Design', u'Bit Manipulation', u'Segment Tree', u'Array', u'Depth-first Search', u'Backtracking']\n",
      "*****************\n",
      "[u'Two Pointers', u'Recursion', u'Minimax', u'Sliding Window', u'Math', u'Sort', u'Map', u'String', u'Greedy', u'Union Find', u'Heap', u'Graph', u'Binary Search', u'Stack', u'Binary Indexed Tree', u'Hash Table', u'Divide and Conquer', u'Tree', u'Memoization', u'Binary Search Tree', u'Queue', u'Linked List', u'Dynamic Programming', u'Topological Sort', u'Breadth-first Search', u'Trie', u'Random', u'Searching', u'Design', u'Bit Manipulation', u'Segment Tree', u'Array', u'Depth-first Search', u'Backtracking']\n",
      "*****************\n",
      "[u'Two Pointers', u'Recursion', u'Minimax', u'Sliding Window', u'Math', u'Sort', u'Map', u'String', u'Greedy', u'Union Find', u'Heap', u'Graph', u'Binary Search', u'Stack', u'Binary Indexed Tree', u'Hash Table', u'Divide and Conquer', u'Tree', u'Memoization', u'Binary Search Tree', u'Queue', u'Linked List', u'Dynamic Programming', u'Topological Sort', u'Breadth-first Search', u'Trie', u'Random', u'Searching', u'Design', u'Bit Manipulation', u'Segment Tree', u'Array', u'Depth-first Search', u'Backtracking']\n",
      "*****************\n",
      "[u'Two Pointers', u'Recursion', u'Minimax', u'Sliding Window', u'Math', u'Sort', u'Map', u'String', u'Greedy', u'Union Find', u'Heap', u'Graph', u'Binary Search', u'Stack', u'Binary Indexed Tree', u'Hash Table', u'Divide and Conquer', u'Tree', u'Memoization', u'Binary Search Tree', u'Queue', u'Linked List', u'Dynamic Programming', u'Topological Sort', u'Breadth-first Search', u'Trie', u'Random', u'Searching', u'Design', u'Bit Manipulation', u'Segment Tree', u'Array', u'Depth-first Search', u'Backtracking']\n",
      "*****************\n",
      "[u'Two Pointers', u'Recursion', u'Minimax', u'Sliding Window', u'Math', u'Sort', u'Map', u'String', u'Greedy', u'Union Find', u'Heap', u'Graph', u'Binary Search', u'Stack', u'Binary Indexed Tree', u'Hash Table', u'Divide and Conquer', u'Tree', u'Memoization', u'Binary Search Tree', u'Queue', u'Linked List', u'Dynamic Programming', u'Topological Sort', u'Breadth-first Search', u'Trie', u'Random', u'Searching', u'Design', u'Bit Manipulation', u'Segment Tree', u'Array', u'Depth-first Search', u'Backtracking']\n",
      "*****************\n",
      "[u'Two Pointers', u'Recursion', u'Minimax', u'Sliding Window', u'Math', u'Sort', u'Map', u'String', u'Greedy', u'Union Find', u'Heap', u'Graph', u'Binary Search', u'Stack', u'Binary Indexed Tree', u'Hash Table', u'Divide and Conquer', u'Tree', u'Memoization', u'Binary Search Tree', u'Queue', u'Linked List', u'Dynamic Programming', u'Topological Sort', u'Breadth-first Search', u'Trie', u'Random', u'Searching', u'Design', u'Bit Manipulation', u'Segment Tree', u'Array', u'Depth-first Search', u'Backtracking']\n",
      "*****************\n",
      "[u'Two Pointers', u'Recursion', u'Minimax', u'Sliding Window', u'Math', u'Sort', u'Map', u'String', u'Greedy', u'Union Find', u'Heap', u'Graph', u'Binary Search', u'Stack', u'Binary Indexed Tree', u'Hash Table', u'Divide and Conquer', u'Tree', u'Memoization', u'Binary Search Tree', u'Queue', u'Linked List', u'Dynamic Programming', u'Topological Sort', u'Breadth-first Search', u'Trie', u'Random', u'Searching', u'Design', u'Bit Manipulation', u'Segment Tree', u'Array', u'Depth-first Search', u'Backtracking']\n",
      "*****************\n",
      "[u'Two Pointers', u'Recursion', u'Minimax', u'Sliding Window', u'Math', u'Sort', u'Map', u'String', u'Greedy', u'Union Find', u'Heap', u'Graph', u'Binary Search', u'Stack', u'Binary Indexed Tree', u'Hash Table', u'Divide and Conquer', u'Tree', u'Memoization', u'Binary Search Tree', u'Queue', u'Linked List', u'Dynamic Programming', u'Topological Sort', u'Breadth-first Search', u'Trie', u'Random', u'Searching', u'Design', u'Bit Manipulation', u'Segment Tree', u'Array', u'Depth-first Search', u'Backtracking']\n",
      "*****************\n",
      "[u'Two Pointers', u'Recursion', u'Minimax', u'Sliding Window', u'Math', u'Sort', u'Map', u'String', u'Greedy', u'Union Find', u'Heap', u'Graph', u'Binary Search', u'Stack', u'Binary Indexed Tree', u'Hash Table', u'Divide and Conquer', u'Tree', u'Memoization', u'Binary Search Tree', u'Queue', u'Linked List', u'Dynamic Programming', u'Topological Sort', u'Breadth-first Search', u'Trie', u'Random', u'Searching', u'Design', u'Bit Manipulation', u'Segment Tree', u'Array', u'Depth-first Search', u'Backtracking']\n",
      "*****************\n",
      "[u'Two Pointers', u'Recursion', u'Minimax', u'Sliding Window', u'Math', u'Sort', u'Map', u'String', u'Greedy', u'Union Find', u'Heap', u'Graph', u'Binary Search', u'Stack', u'Binary Indexed Tree', u'Hash Table', u'Divide and Conquer', u'Tree', u'Memoization', u'Binary Search Tree', u'Queue', u'Linked List', u'Dynamic Programming', u'Topological Sort', u'Breadth-first Search', u'Trie', u'Random', u'Searching', u'Design', u'Bit Manipulation', u'Segment Tree', u'Array', u'Depth-first Search', u'Backtracking']\n",
      "*****************\n",
      "[u'Two Pointers', u'Recursion', u'Minimax', u'Sliding Window', u'Math', u'Sort', u'Map', u'String', u'Greedy', u'Union Find', u'Heap', u'Graph', u'Binary Search', u'Stack', u'Binary Indexed Tree', u'Hash Table', u'Divide and Conquer', u'Tree', u'Memoization', u'Binary Search Tree', u'Queue', u'Linked List', u'Dynamic Programming', u'Topological Sort', u'Breadth-first Search', u'Trie', u'Random', u'Searching', u'Design', u'Bit Manipulation', u'Segment Tree', u'Array', u'Depth-first Search', u'Backtracking']\n",
      "*****************\n",
      "[u'Two Pointers', u'Recursion', u'Minimax', u'Sliding Window', u'Math', u'Sort', u'Map', u'String', u'Greedy', u'Union Find', u'Heap', u'Graph', u'Binary Search', u'Stack', u'Binary Indexed Tree', u'Hash Table', u'Divide and Conquer', u'Tree', u'Memoization', u'Binary Search Tree', u'Queue', u'Linked List', u'Dynamic Programming', u'Topological Sort', u'Breadth-first Search', u'Trie', u'Random', u'Searching', u'Design', u'Bit Manipulation', u'Segment Tree', u'Array', u'Depth-first Search', u'Backtracking']\n",
      "*****************\n",
      "[u'Two Pointers', u'Recursion', u'Minimax', u'Sliding Window', u'Math', u'Sort', u'Map', u'String', u'Greedy', u'Union Find', u'Heap', u'Graph', u'Binary Search', u'Stack', u'Binary Indexed Tree', u'Hash Table', u'Divide and Conquer', u'Tree', u'Memoization', u'Binary Search Tree', u'Queue', u'Linked List', u'Dynamic Programming', u'Topological Sort', u'Breadth-first Search', u'Trie', u'Random', u'Searching', u'Design', u'Bit Manipulation', u'Segment Tree', u'Array', u'Depth-first Search', u'Backtracking']\n",
      "*****************\n",
      "[u'Two Pointers', u'Recursion', u'Minimax', u'Sliding Window', u'Math', u'Sort', u'Map', u'String', u'Greedy', u'Union Find', u'Heap', u'Graph', u'Binary Search', u'Stack', u'Binary Indexed Tree', u'Hash Table', u'Divide and Conquer', u'Tree', u'Memoization', u'Binary Search Tree', u'Queue', u'Linked List', u'Dynamic Programming', u'Topological Sort', u'Breadth-first Search', u'Trie', u'Random', u'Searching', u'Design', u'Bit Manipulation', u'Segment Tree', u'Array', u'Depth-first Search', u'Backtracking']\n",
      "*****************\n",
      "[u'Two Pointers', u'Recursion', u'Minimax', u'Sliding Window', u'Math', u'Sort', u'Map', u'String', u'Greedy', u'Union Find', u'Heap', u'Graph', u'Binary Search', u'Stack', u'Binary Indexed Tree', u'Hash Table', u'Divide and Conquer', u'Tree', u'Memoization', u'Binary Search Tree', u'Queue', u'Linked List', u'Dynamic Programming', u'Topological Sort', u'Breadth-first Search', u'Trie', u'Random', u'Searching', u'Design', u'Bit Manipulation', u'Segment Tree', u'Array', u'Depth-first Search', u'Backtracking']\n",
      "*****************\n",
      "[u'Two Pointers', u'Recursion', u'Minimax', u'Sliding Window', u'Math', u'Sort', u'Map', u'String', u'Greedy', u'Union Find', u'Heap', u'Graph', u'Binary Search', u'Stack', u'Binary Indexed Tree', u'Hash Table', u'Divide and Conquer', u'Tree', u'Memoization', u'Binary Search Tree', u'Queue', u'Linked List', u'Dynamic Programming', u'Topological Sort', u'Breadth-first Search', u'Trie', u'Random', u'Searching', u'Design', u'Bit Manipulation', u'Segment Tree', u'Array', u'Depth-first Search', u'Backtracking']\n",
      "*****************\n",
      "[u'Two Pointers', u'Recursion', u'Minimax', u'Sliding Window', u'Math', u'Sort', u'Map', u'String', u'Greedy', u'Union Find', u'Heap', u'Graph', u'Binary Search', u'Stack', u'Binary Indexed Tree', u'Hash Table', u'Divide and Conquer', u'Tree', u'Memoization', u'Binary Search Tree', u'Queue', u'Linked List', u'Dynamic Programming', u'Topological Sort', u'Breadth-first Search', u'Trie', u'Random', u'Searching', u'Design', u'Bit Manipulation', u'Segment Tree', u'Array', u'Depth-first Search', u'Backtracking']\n",
      "*****************\n",
      "[u'Two Pointers', u'Recursion', u'Minimax', u'Sliding Window', u'Math', u'Sort', u'Map', u'String', u'Greedy', u'Union Find', u'Heap', u'Graph', u'Binary Search', u'Stack', u'Binary Indexed Tree', u'Hash Table', u'Divide and Conquer', u'Tree', u'Memoization', u'Binary Search Tree', u'Queue', u'Linked List', u'Dynamic Programming', u'Topological Sort', u'Breadth-first Search', u'Trie', u'Random', u'Searching', u'Design', u'Bit Manipulation', u'Segment Tree', u'Array', u'Depth-first Search', u'Backtracking']\n",
      "*****************\n",
      "[u'Two Pointers', u'Recursion', u'Minimax', u'Sliding Window', u'Math', u'Sort', u'Map', u'String', u'Greedy', u'Union Find', u'Heap', u'Graph', u'Binary Search', u'Stack', u'Binary Indexed Tree', u'Hash Table', u'Divide and Conquer', u'Tree', u'Memoization', u'Binary Search Tree', u'Queue', u'Linked List', u'Dynamic Programming', u'Topological Sort', u'Breadth-first Search', u'Trie', u'Random', u'Searching', u'Design', u'Bit Manipulation', u'Segment Tree', u'Array', u'Depth-first Search', u'Backtracking']\n",
      "*****************\n"
     ]
    },
    {
     "name": "stderr",
     "output_type": "stream",
     "text": [
      "/anaconda2/envs/problemsClassifierEnv/lib/python2.7/site-packages/sklearn/metrics/classification.py:1143: UndefinedMetricWarning: Precision and F-score are ill-defined and being set to 0.0 in labels with no predicted samples.\n",
      "  'precision', 'predicted', average, warn_for)\n",
      "/anaconda2/envs/problemsClassifierEnv/lib/python2.7/site-packages/sklearn/metrics/classification.py:1145: UndefinedMetricWarning: Recall and F-score are ill-defined and being set to 0.0 in labels with no true samples.\n",
      "  'recall', 'true', average, warn_for)\n",
      "/anaconda2/envs/problemsClassifierEnv/lib/python2.7/site-packages/sklearn/metrics/classification.py:1143: UndefinedMetricWarning: Precision and F-score are ill-defined and being set to 0.0 in labels with no predicted samples.\n",
      "  'precision', 'predicted', average, warn_for)\n",
      "/anaconda2/envs/problemsClassifierEnv/lib/python2.7/site-packages/sklearn/metrics/classification.py:1145: UndefinedMetricWarning: Recall and F-score are ill-defined and being set to 0.0 in labels with no true samples.\n",
      "  'recall', 'true', average, warn_for)\n",
      "/anaconda2/envs/problemsClassifierEnv/lib/python2.7/site-packages/sklearn/metrics/classification.py:1143: UndefinedMetricWarning: Precision and F-score are ill-defined and being set to 0.0 in labels with no predicted samples.\n",
      "  'precision', 'predicted', average, warn_for)\n",
      "/anaconda2/envs/problemsClassifierEnv/lib/python2.7/site-packages/sklearn/metrics/classification.py:1145: UndefinedMetricWarning: Recall and F-score are ill-defined and being set to 0.0 in labels with no true samples.\n",
      "  'recall', 'true', average, warn_for)\n",
      "/anaconda2/envs/problemsClassifierEnv/lib/python2.7/site-packages/sklearn/metrics/classification.py:1143: UndefinedMetricWarning: Precision and F-score are ill-defined and being set to 0.0 in samples with no predicted labels.\n",
      "  'precision', 'predicted', average, warn_for)\n",
      "/anaconda2/envs/problemsClassifierEnv/lib/python2.7/site-packages/sklearn/metrics/classification.py:1145: UndefinedMetricWarning: Recall and F-score are ill-defined and being set to 0.0 in samples with no true labels.\n",
      "  'recall', 'true', average, warn_for)\n",
      "[Parallel(n_jobs=1)]: Using backend SequentialBackend with 1 concurrent workers.\n"
     ]
    },
    {
     "name": "stdout",
     "output_type": "stream",
     "text": [
      "Fitting 2 folds for each of 5 candidates, totalling 10 fits\n",
      "[CV] tfidf__max_df=0.5, clf__C=5, tfidf__ngram_range=(1, 2), tfidf__min_df=2 \n",
      "[CV]  tfidf__max_df=0.5, clf__C=5, tfidf__ngram_range=(1, 2), tfidf__min_df=2, score=0, total=   1.0s\n",
      "[CV] tfidf__max_df=0.5, clf__C=5, tfidf__ngram_range=(1, 2), tfidf__min_df=2 \n"
     ]
    },
    {
     "name": "stderr",
     "output_type": "stream",
     "text": [
      "[Parallel(n_jobs=1)]: Done   1 out of   1 | elapsed:    1.3s remaining:    0.0s\n"
     ]
    },
    {
     "name": "stdout",
     "output_type": "stream",
     "text": [
      "[CV]  tfidf__max_df=0.5, clf__C=5, tfidf__ngram_range=(1, 2), tfidf__min_df=2, score=0, total=   1.5s\n",
      "[CV] tfidf__max_df=0.5, clf__C=10, tfidf__ngram_range=(1, 2), tfidf__min_df=2 \n"
     ]
    },
    {
     "name": "stderr",
     "output_type": "stream",
     "text": [
      "[Parallel(n_jobs=1)]: Done   2 out of   2 | elapsed:    3.3s remaining:    0.0s\n"
     ]
    },
    {
     "name": "stdout",
     "output_type": "stream",
     "text": [
      "[CV]  tfidf__max_df=0.5, clf__C=10, tfidf__ngram_range=(1, 2), tfidf__min_df=2, score=0, total=   1.1s\n",
      "[CV] tfidf__max_df=0.5, clf__C=10, tfidf__ngram_range=(1, 2), tfidf__min_df=2 \n"
     ]
    },
    {
     "name": "stderr",
     "output_type": "stream",
     "text": [
      "[Parallel(n_jobs=1)]: Done   3 out of   3 | elapsed:    4.7s remaining:    0.0s\n"
     ]
    },
    {
     "name": "stdout",
     "output_type": "stream",
     "text": [
      "[CV]  tfidf__max_df=0.5, clf__C=10, tfidf__ngram_range=(1, 2), tfidf__min_df=2, score=0, total=   1.6s\n",
      "[CV] tfidf__max_df=0.5, clf__C=20, tfidf__ngram_range=(1, 2), tfidf__min_df=2 \n"
     ]
    },
    {
     "name": "stderr",
     "output_type": "stream",
     "text": [
      "[Parallel(n_jobs=1)]: Done   4 out of   4 | elapsed:    6.7s remaining:    0.0s\n"
     ]
    },
    {
     "name": "stdout",
     "output_type": "stream",
     "text": [
      "[CV]  tfidf__max_df=0.5, clf__C=20, tfidf__ngram_range=(1, 2), tfidf__min_df=2, score=0, total=   1.2s\n",
      "[CV] tfidf__max_df=0.5, clf__C=20, tfidf__ngram_range=(1, 2), tfidf__min_df=2 \n"
     ]
    },
    {
     "name": "stderr",
     "output_type": "stream",
     "text": [
      "[Parallel(n_jobs=1)]: Done   5 out of   5 | elapsed:    8.2s remaining:    0.0s\n"
     ]
    },
    {
     "name": "stdout",
     "output_type": "stream",
     "text": [
      "[CV]  tfidf__max_df=0.5, clf__C=20, tfidf__ngram_range=(1, 2), tfidf__min_df=2, score=0, total=   1.6s\n",
      "[CV] tfidf__max_df=0.5, clf__C=50, tfidf__ngram_range=(1, 2), tfidf__min_df=2 \n"
     ]
    },
    {
     "name": "stderr",
     "output_type": "stream",
     "text": [
      "[Parallel(n_jobs=1)]: Done   6 out of   6 | elapsed:   10.1s remaining:    0.0s\n"
     ]
    },
    {
     "name": "stdout",
     "output_type": "stream",
     "text": [
      "[CV]  tfidf__max_df=0.5, clf__C=50, tfidf__ngram_range=(1, 2), tfidf__min_df=2, score=0, total=   1.2s\n",
      "[CV] tfidf__max_df=0.5, clf__C=50, tfidf__ngram_range=(1, 2), tfidf__min_df=2 \n"
     ]
    },
    {
     "name": "stderr",
     "output_type": "stream",
     "text": [
      "[Parallel(n_jobs=1)]: Done   7 out of   7 | elapsed:   11.6s remaining:    0.0s\n",
      "/anaconda2/envs/problemsClassifierEnv/lib/python2.7/site-packages/sklearn/svm/base.py:931: ConvergenceWarning: Liblinear failed to converge, increase the number of iterations.\n",
      "  \"the number of iterations.\", ConvergenceWarning)\n"
     ]
    },
    {
     "name": "stdout",
     "output_type": "stream",
     "text": [
      "[CV]  tfidf__max_df=0.5, clf__C=50, tfidf__ngram_range=(1, 2), tfidf__min_df=2, score=0, total=   1.8s\n",
      "[CV] tfidf__max_df=0.5, clf__C=100, tfidf__ngram_range=(1, 2), tfidf__min_df=2 \n"
     ]
    },
    {
     "name": "stderr",
     "output_type": "stream",
     "text": [
      "[Parallel(n_jobs=1)]: Done   8 out of   8 | elapsed:   13.8s remaining:    0.0s\n"
     ]
    },
    {
     "name": "stdout",
     "output_type": "stream",
     "text": [
      "[CV]  tfidf__max_df=0.5, clf__C=100, tfidf__ngram_range=(1, 2), tfidf__min_df=2, score=0, total=   1.3s\n",
      "[CV] tfidf__max_df=0.5, clf__C=100, tfidf__ngram_range=(1, 2), tfidf__min_df=2 \n"
     ]
    },
    {
     "name": "stderr",
     "output_type": "stream",
     "text": [
      "[Parallel(n_jobs=1)]: Done   9 out of   9 | elapsed:   15.4s remaining:    0.0s\n",
      "/anaconda2/envs/problemsClassifierEnv/lib/python2.7/site-packages/sklearn/svm/base.py:931: ConvergenceWarning: Liblinear failed to converge, increase the number of iterations.\n",
      "  \"the number of iterations.\", ConvergenceWarning)\n"
     ]
    },
    {
     "name": "stdout",
     "output_type": "stream",
     "text": [
      "[CV]  tfidf__max_df=0.5, clf__C=100, tfidf__ngram_range=(1, 2), tfidf__min_df=2, score=0, total=   1.6s\n"
     ]
    },
    {
     "name": "stderr",
     "output_type": "stream",
     "text": [
      "[Parallel(n_jobs=1)]: Done  10 out of  10 | elapsed:   17.5s finished\n"
     ]
    },
    {
     "name": "stdout",
     "output_type": "stream",
     "text": [
      "Best parameters set:\n",
      "[('tfidf', TfidfVectorizer(analyzer=u'word', binary=False, decode_error=u'strict',\n",
      "        dtype=<type 'numpy.float64'>, encoding=u'utf-8', input=u'content',\n",
      "        lowercase=True, max_df=0.5, max_features=None, min_df=2,\n",
      "        ngram_range=(1, 2), norm=u'l2', preprocessor=None, smooth_idf=True,\n",
      "        stop_words=None, strip_accents=None, sublinear_tf=False,\n",
      "        token_pattern=u'(?u)\\\\b\\\\w\\\\w+\\\\b', tokenizer=None, use_idf=True,\n",
      "        vocabulary=None)), ('clf', LinearSVC(C=5, class_weight='balanced', dual=True, fit_intercept=True,\n",
      "     intercept_scaling=1, loss='squared_hinge', max_iter=1000,\n",
      "     multi_class='ovr', penalty='l2', random_state=None, tol=0.0001,\n",
      "     verbose=0))]\n",
      "Applying best classifier on test data:\n"
     ]
    },
    {
     "name": "stderr",
     "output_type": "stream",
     "text": [
      "/anaconda2/envs/problemsClassifierEnv/lib/python2.7/site-packages/sklearn/metrics/classification.py:1143: UndefinedMetricWarning: Precision and F-score are ill-defined and being set to 0.0 in labels with no predicted samples.\n",
      "  'precision', 'predicted', average, warn_for)\n",
      "/anaconda2/envs/problemsClassifierEnv/lib/python2.7/site-packages/sklearn/metrics/classification.py:1145: UndefinedMetricWarning: Recall and F-score are ill-defined and being set to 0.0 in labels with no true samples.\n",
      "  'recall', 'true', average, warn_for)\n",
      "/anaconda2/envs/problemsClassifierEnv/lib/python2.7/site-packages/sklearn/metrics/classification.py:1143: UndefinedMetricWarning: Precision and F-score are ill-defined and being set to 0.0 in labels with no predicted samples.\n",
      "  'precision', 'predicted', average, warn_for)\n",
      "/anaconda2/envs/problemsClassifierEnv/lib/python2.7/site-packages/sklearn/metrics/classification.py:1145: UndefinedMetricWarning: Recall and F-score are ill-defined and being set to 0.0 in labels with no true samples.\n",
      "  'recall', 'true', average, warn_for)\n",
      "/anaconda2/envs/problemsClassifierEnv/lib/python2.7/site-packages/sklearn/metrics/classification.py:1143: UndefinedMetricWarning: Precision and F-score are ill-defined and being set to 0.0 in labels with no predicted samples.\n",
      "  'precision', 'predicted', average, warn_for)\n",
      "/anaconda2/envs/problemsClassifierEnv/lib/python2.7/site-packages/sklearn/metrics/classification.py:1145: UndefinedMetricWarning: Recall and F-score are ill-defined and being set to 0.0 in labels with no true samples.\n",
      "  'recall', 'true', average, warn_for)\n",
      "/anaconda2/envs/problemsClassifierEnv/lib/python2.7/site-packages/sklearn/metrics/classification.py:1143: UndefinedMetricWarning: Precision and F-score are ill-defined and being set to 0.0 in samples with no predicted labels.\n",
      "  'precision', 'predicted', average, warn_for)\n",
      "/anaconda2/envs/problemsClassifierEnv/lib/python2.7/site-packages/sklearn/metrics/classification.py:1145: UndefinedMetricWarning: Recall and F-score are ill-defined and being set to 0.0 in samples with no true labels.\n",
      "  'recall', 'true', average, warn_for)\n",
      "[Parallel(n_jobs=1)]: Using backend SequentialBackend with 1 concurrent workers.\n"
     ]
    },
    {
     "name": "stdout",
     "output_type": "stream",
     "text": [
      "[u'Two Pointers', u'Recursion', u'Minimax', u'Sliding Window', u'Math', u'Sort', u'Map', u'String', u'Greedy', u'Union Find', u'Heap', u'Graph', u'Binary Search', u'Stack', u'Binary Indexed Tree', u'Hash Table', u'Divide and Conquer', u'Tree', u'Memoization', u'Binary Search Tree', u'Queue', u'Linked List', u'Dynamic Programming', u'Topological Sort', u'Breadth-first Search', u'Trie', u'Random', u'Searching', u'Design', u'Bit Manipulation', u'Segment Tree', u'Array', u'Depth-first Search', u'Backtracking']\n",
      "*****************\n",
      "[u'Two Pointers', u'Recursion', u'Minimax', u'Sliding Window', u'Math', u'Sort', u'Map', u'String', u'Greedy', u'Union Find', u'Heap', u'Graph', u'Binary Search', u'Stack', u'Binary Indexed Tree', u'Hash Table', u'Divide and Conquer', u'Tree', u'Memoization', u'Binary Search Tree', u'Queue', u'Linked List', u'Dynamic Programming', u'Topological Sort', u'Breadth-first Search', u'Trie', u'Random', u'Searching', u'Design', u'Bit Manipulation', u'Segment Tree', u'Array', u'Depth-first Search', u'Backtracking']\n",
      "*****************\n",
      "[u'Two Pointers', u'Recursion', u'Minimax', u'Sliding Window', u'Math', u'Sort', u'Map', u'String', u'Greedy', u'Union Find', u'Heap', u'Graph', u'Binary Search', u'Stack', u'Binary Indexed Tree', u'Hash Table', u'Divide and Conquer', u'Tree', u'Memoization', u'Binary Search Tree', u'Queue', u'Linked List', u'Dynamic Programming', u'Topological Sort', u'Breadth-first Search', u'Trie', u'Random', u'Searching', u'Design', u'Bit Manipulation', u'Segment Tree', u'Array', u'Depth-first Search', u'Backtracking']\n",
      "*****************\n",
      "[u'Two Pointers', u'Recursion', u'Minimax', u'Sliding Window', u'Math', u'Sort', u'Map', u'String', u'Greedy', u'Union Find', u'Heap', u'Graph', u'Binary Search', u'Stack', u'Binary Indexed Tree', u'Hash Table', u'Divide and Conquer', u'Tree', u'Memoization', u'Binary Search Tree', u'Queue', u'Linked List', u'Dynamic Programming', u'Topological Sort', u'Breadth-first Search', u'Trie', u'Random', u'Searching', u'Design', u'Bit Manipulation', u'Segment Tree', u'Array', u'Depth-first Search', u'Backtracking']\n",
      "*****************\n",
      "[u'Two Pointers', u'Recursion', u'Minimax', u'Sliding Window', u'Math', u'Sort', u'Map', u'String', u'Greedy', u'Union Find', u'Heap', u'Graph', u'Binary Search', u'Stack', u'Binary Indexed Tree', u'Hash Table', u'Divide and Conquer', u'Tree', u'Memoization', u'Binary Search Tree', u'Queue', u'Linked List', u'Dynamic Programming', u'Topological Sort', u'Breadth-first Search', u'Trie', u'Random', u'Searching', u'Design', u'Bit Manipulation', u'Segment Tree', u'Array', u'Depth-first Search', u'Backtracking']\n",
      "*****************\n",
      "[u'Two Pointers', u'Recursion', u'Minimax', u'Sliding Window', u'Math', u'Sort', u'Map', u'String', u'Greedy', u'Union Find', u'Heap', u'Graph', u'Binary Search', u'Stack', u'Binary Indexed Tree', u'Hash Table', u'Divide and Conquer', u'Tree', u'Memoization', u'Binary Search Tree', u'Queue', u'Linked List', u'Dynamic Programming', u'Topological Sort', u'Breadth-first Search', u'Trie', u'Random', u'Searching', u'Design', u'Bit Manipulation', u'Segment Tree', u'Array', u'Depth-first Search', u'Backtracking']\n",
      "*****************\n",
      "[u'Two Pointers', u'Recursion', u'Minimax', u'Sliding Window', u'Math', u'Sort', u'Map', u'String', u'Greedy', u'Union Find', u'Heap', u'Graph', u'Binary Search', u'Stack', u'Binary Indexed Tree', u'Hash Table', u'Divide and Conquer', u'Tree', u'Memoization', u'Binary Search Tree', u'Queue', u'Linked List', u'Dynamic Programming', u'Topological Sort', u'Breadth-first Search', u'Trie', u'Random', u'Searching', u'Design', u'Bit Manipulation', u'Segment Tree', u'Array', u'Depth-first Search', u'Backtracking']\n",
      "*****************\n",
      "[u'Two Pointers', u'Recursion', u'Minimax', u'Sliding Window', u'Math', u'Sort', u'Map', u'String', u'Greedy', u'Union Find', u'Heap', u'Graph', u'Binary Search', u'Stack', u'Binary Indexed Tree', u'Hash Table', u'Divide and Conquer', u'Tree', u'Memoization', u'Binary Search Tree', u'Queue', u'Linked List', u'Dynamic Programming', u'Topological Sort', u'Breadth-first Search', u'Trie', u'Random', u'Searching', u'Design', u'Bit Manipulation', u'Segment Tree', u'Array', u'Depth-first Search', u'Backtracking']\n",
      "*****************\n",
      "[u'Two Pointers', u'Recursion', u'Minimax', u'Sliding Window', u'Math', u'Sort', u'Map', u'String', u'Greedy', u'Union Find', u'Heap', u'Graph', u'Binary Search', u'Stack', u'Binary Indexed Tree', u'Hash Table', u'Divide and Conquer', u'Tree', u'Memoization', u'Binary Search Tree', u'Queue', u'Linked List', u'Dynamic Programming', u'Topological Sort', u'Breadth-first Search', u'Trie', u'Random', u'Searching', u'Design', u'Bit Manipulation', u'Segment Tree', u'Array', u'Depth-first Search', u'Backtracking']\n",
      "*****************\n",
      "[u'Two Pointers', u'Recursion', u'Minimax', u'Sliding Window', u'Math', u'Sort', u'Map', u'String', u'Greedy', u'Union Find', u'Heap', u'Graph', u'Binary Search', u'Stack', u'Binary Indexed Tree', u'Hash Table', u'Divide and Conquer', u'Tree', u'Memoization', u'Binary Search Tree', u'Queue', u'Linked List', u'Dynamic Programming', u'Topological Sort', u'Breadth-first Search', u'Trie', u'Random', u'Searching', u'Design', u'Bit Manipulation', u'Segment Tree', u'Array', u'Depth-first Search', u'Backtracking']\n",
      "*****************\n",
      "[u'Two Pointers', u'Recursion', u'Minimax', u'Sliding Window', u'Math', u'Sort', u'Map', u'String', u'Greedy', u'Union Find', u'Heap', u'Graph', u'Binary Search', u'Stack', u'Binary Indexed Tree', u'Hash Table', u'Divide and Conquer', u'Tree', u'Memoization', u'Binary Search Tree', u'Queue', u'Linked List', u'Dynamic Programming', u'Topological Sort', u'Breadth-first Search', u'Trie', u'Random', u'Searching', u'Design', u'Bit Manipulation', u'Segment Tree', u'Array', u'Depth-first Search', u'Backtracking']\n",
      "*****************\n",
      "[u'Two Pointers', u'Recursion', u'Minimax', u'Sliding Window', u'Math', u'Sort', u'Map', u'String', u'Greedy', u'Union Find', u'Heap', u'Graph', u'Binary Search', u'Stack', u'Binary Indexed Tree', u'Hash Table', u'Divide and Conquer', u'Tree', u'Memoization', u'Binary Search Tree', u'Queue', u'Linked List', u'Dynamic Programming', u'Topological Sort', u'Breadth-first Search', u'Trie', u'Random', u'Searching', u'Design', u'Bit Manipulation', u'Segment Tree', u'Array', u'Depth-first Search', u'Backtracking']\n",
      "*****************\n",
      "[u'Two Pointers', u'Recursion', u'Minimax', u'Sliding Window', u'Math', u'Sort', u'Map', u'String', u'Greedy', u'Union Find', u'Heap', u'Graph', u'Binary Search', u'Stack', u'Binary Indexed Tree', u'Hash Table', u'Divide and Conquer', u'Tree', u'Memoization', u'Binary Search Tree', u'Queue', u'Linked List', u'Dynamic Programming', u'Topological Sort', u'Breadth-first Search', u'Trie', u'Random', u'Searching', u'Design', u'Bit Manipulation', u'Segment Tree', u'Array', u'Depth-first Search', u'Backtracking']\n",
      "*****************\n",
      "[u'Two Pointers', u'Recursion', u'Minimax', u'Sliding Window', u'Math', u'Sort', u'Map', u'String', u'Greedy', u'Union Find', u'Heap', u'Graph', u'Binary Search', u'Stack', u'Binary Indexed Tree', u'Hash Table', u'Divide and Conquer', u'Tree', u'Memoization', u'Binary Search Tree', u'Queue', u'Linked List', u'Dynamic Programming', u'Topological Sort', u'Breadth-first Search', u'Trie', u'Random', u'Searching', u'Design', u'Bit Manipulation', u'Segment Tree', u'Array', u'Depth-first Search', u'Backtracking']\n",
      "*****************\n",
      "[u'Two Pointers', u'Recursion', u'Minimax', u'Sliding Window', u'Math', u'Sort', u'Map', u'String', u'Greedy', u'Union Find', u'Heap', u'Graph', u'Binary Search', u'Stack', u'Binary Indexed Tree', u'Hash Table', u'Divide and Conquer', u'Tree', u'Memoization', u'Binary Search Tree', u'Queue', u'Linked List', u'Dynamic Programming', u'Topological Sort', u'Breadth-first Search', u'Trie', u'Random', u'Searching', u'Design', u'Bit Manipulation', u'Segment Tree', u'Array', u'Depth-first Search', u'Backtracking']\n",
      "*****************\n",
      "[u'Two Pointers', u'Recursion', u'Minimax', u'Sliding Window', u'Math', u'Sort', u'Map', u'String', u'Greedy', u'Union Find', u'Heap', u'Graph', u'Binary Search', u'Stack', u'Binary Indexed Tree', u'Hash Table', u'Divide and Conquer', u'Tree', u'Memoization', u'Binary Search Tree', u'Queue', u'Linked List', u'Dynamic Programming', u'Topological Sort', u'Breadth-first Search', u'Trie', u'Random', u'Searching', u'Design', u'Bit Manipulation', u'Segment Tree', u'Array', u'Depth-first Search', u'Backtracking']\n",
      "*****************\n",
      "[u'Two Pointers', u'Recursion', u'Minimax', u'Sliding Window', u'Math', u'Sort', u'Map', u'String', u'Greedy', u'Union Find', u'Heap', u'Graph', u'Binary Search', u'Stack', u'Binary Indexed Tree', u'Hash Table', u'Divide and Conquer', u'Tree', u'Memoization', u'Binary Search Tree', u'Queue', u'Linked List', u'Dynamic Programming', u'Topological Sort', u'Breadth-first Search', u'Trie', u'Random', u'Searching', u'Design', u'Bit Manipulation', u'Segment Tree', u'Array', u'Depth-first Search', u'Backtracking']\n",
      "*****************\n",
      "[u'Two Pointers', u'Recursion', u'Minimax', u'Sliding Window', u'Math', u'Sort', u'Map', u'String', u'Greedy', u'Union Find', u'Heap', u'Graph', u'Binary Search', u'Stack', u'Binary Indexed Tree', u'Hash Table', u'Divide and Conquer', u'Tree', u'Memoization', u'Binary Search Tree', u'Queue', u'Linked List', u'Dynamic Programming', u'Topological Sort', u'Breadth-first Search', u'Trie', u'Random', u'Searching', u'Design', u'Bit Manipulation', u'Segment Tree', u'Array', u'Depth-first Search', u'Backtracking']\n",
      "*****************\n",
      "[u'Two Pointers', u'Recursion', u'Minimax', u'Sliding Window', u'Math', u'Sort', u'Map', u'String', u'Greedy', u'Union Find', u'Heap', u'Graph', u'Binary Search', u'Stack', u'Binary Indexed Tree', u'Hash Table', u'Divide and Conquer', u'Tree', u'Memoization', u'Binary Search Tree', u'Queue', u'Linked List', u'Dynamic Programming', u'Topological Sort', u'Breadth-first Search', u'Trie', u'Random', u'Searching', u'Design', u'Bit Manipulation', u'Segment Tree', u'Array', u'Depth-first Search', u'Backtracking']\n",
      "*****************\n",
      "[u'Two Pointers', u'Recursion', u'Minimax', u'Sliding Window', u'Math', u'Sort', u'Map', u'String', u'Greedy', u'Union Find', u'Heap', u'Graph', u'Binary Search', u'Stack', u'Binary Indexed Tree', u'Hash Table', u'Divide and Conquer', u'Tree', u'Memoization', u'Binary Search Tree', u'Queue', u'Linked List', u'Dynamic Programming', u'Topological Sort', u'Breadth-first Search', u'Trie', u'Random', u'Searching', u'Design', u'Bit Manipulation', u'Segment Tree', u'Array', u'Depth-first Search', u'Backtracking']\n",
      "*****************\n",
      "[u'Two Pointers', u'Recursion', u'Minimax', u'Sliding Window', u'Math', u'Sort', u'Map', u'String', u'Greedy', u'Union Find', u'Heap', u'Graph', u'Binary Search', u'Stack', u'Binary Indexed Tree', u'Hash Table', u'Divide and Conquer', u'Tree', u'Memoization', u'Binary Search Tree', u'Queue', u'Linked List', u'Dynamic Programming', u'Topological Sort', u'Breadth-first Search', u'Trie', u'Random', u'Searching', u'Design', u'Bit Manipulation', u'Segment Tree', u'Array', u'Depth-first Search', u'Backtracking']\n",
      "*****************\n",
      "[u'Two Pointers', u'Recursion', u'Minimax', u'Sliding Window', u'Math', u'Sort', u'Map', u'String', u'Greedy', u'Union Find', u'Heap', u'Graph', u'Binary Search', u'Stack', u'Binary Indexed Tree', u'Hash Table', u'Divide and Conquer', u'Tree', u'Memoization', u'Binary Search Tree', u'Queue', u'Linked List', u'Dynamic Programming', u'Topological Sort', u'Breadth-first Search', u'Trie', u'Random', u'Searching', u'Design', u'Bit Manipulation', u'Segment Tree', u'Array', u'Depth-first Search', u'Backtracking']\n",
      "*****************\n",
      "[u'Two Pointers', u'Recursion', u'Minimax', u'Sliding Window', u'Math', u'Sort', u'Map', u'String', u'Greedy', u'Union Find', u'Heap', u'Graph', u'Binary Search', u'Stack', u'Binary Indexed Tree', u'Hash Table', u'Divide and Conquer', u'Tree', u'Memoization', u'Binary Search Tree', u'Queue', u'Linked List', u'Dynamic Programming', u'Topological Sort', u'Breadth-first Search', u'Trie', u'Random', u'Searching', u'Design', u'Bit Manipulation', u'Segment Tree', u'Array', u'Depth-first Search', u'Backtracking']\n",
      "*****************\n",
      "[u'Two Pointers', u'Recursion', u'Minimax', u'Sliding Window', u'Math', u'Sort', u'Map', u'String', u'Greedy', u'Union Find', u'Heap', u'Graph', u'Binary Search', u'Stack', u'Binary Indexed Tree', u'Hash Table', u'Divide and Conquer', u'Tree', u'Memoization', u'Binary Search Tree', u'Queue', u'Linked List', u'Dynamic Programming', u'Topological Sort', u'Breadth-first Search', u'Trie', u'Random', u'Searching', u'Design', u'Bit Manipulation', u'Segment Tree', u'Array', u'Depth-first Search', u'Backtracking']\n",
      "*****************\n",
      "[u'Two Pointers', u'Recursion', u'Minimax', u'Sliding Window', u'Math', u'Sort', u'Map', u'String', u'Greedy', u'Union Find', u'Heap', u'Graph', u'Binary Search', u'Stack', u'Binary Indexed Tree', u'Hash Table', u'Divide and Conquer', u'Tree', u'Memoization', u'Binary Search Tree', u'Queue', u'Linked List', u'Dynamic Programming', u'Topological Sort', u'Breadth-first Search', u'Trie', u'Random', u'Searching', u'Design', u'Bit Manipulation', u'Segment Tree', u'Array', u'Depth-first Search', u'Backtracking']\n",
      "*****************\n",
      "[u'Two Pointers', u'Recursion', u'Minimax', u'Sliding Window', u'Math', u'Sort', u'Map', u'String', u'Greedy', u'Union Find', u'Heap', u'Graph', u'Binary Search', u'Stack', u'Binary Indexed Tree', u'Hash Table', u'Divide and Conquer', u'Tree', u'Memoization', u'Binary Search Tree', u'Queue', u'Linked List', u'Dynamic Programming', u'Topological Sort', u'Breadth-first Search', u'Trie', u'Random', u'Searching', u'Design', u'Bit Manipulation', u'Segment Tree', u'Array', u'Depth-first Search', u'Backtracking']\n",
      "*****************\n",
      "[u'Two Pointers', u'Recursion', u'Minimax', u'Sliding Window', u'Math', u'Sort', u'Map', u'String', u'Greedy', u'Union Find', u'Heap', u'Graph', u'Binary Search', u'Stack', u'Binary Indexed Tree', u'Hash Table', u'Divide and Conquer', u'Tree', u'Memoization', u'Binary Search Tree', u'Queue', u'Linked List', u'Dynamic Programming', u'Topological Sort', u'Breadth-first Search', u'Trie', u'Random', u'Searching', u'Design', u'Bit Manipulation', u'Segment Tree', u'Array', u'Depth-first Search', u'Backtracking']\n",
      "*****************\n",
      "[u'Two Pointers', u'Recursion', u'Minimax', u'Sliding Window', u'Math', u'Sort', u'Map', u'String', u'Greedy', u'Union Find', u'Heap', u'Graph', u'Binary Search', u'Stack', u'Binary Indexed Tree', u'Hash Table', u'Divide and Conquer', u'Tree', u'Memoization', u'Binary Search Tree', u'Queue', u'Linked List', u'Dynamic Programming', u'Topological Sort', u'Breadth-first Search', u'Trie', u'Random', u'Searching', u'Design', u'Bit Manipulation', u'Segment Tree', u'Array', u'Depth-first Search', u'Backtracking']\n",
      "*****************\n",
      "[u'Two Pointers', u'Recursion', u'Minimax', u'Sliding Window', u'Math', u'Sort', u'Map', u'String', u'Greedy', u'Union Find', u'Heap', u'Graph', u'Binary Search', u'Stack', u'Binary Indexed Tree', u'Hash Table', u'Divide and Conquer', u'Tree', u'Memoization', u'Binary Search Tree', u'Queue', u'Linked List', u'Dynamic Programming', u'Topological Sort', u'Breadth-first Search', u'Trie', u'Random', u'Searching', u'Design', u'Bit Manipulation', u'Segment Tree', u'Array', u'Depth-first Search', u'Backtracking']\n",
      "*****************\n",
      "[u'Two Pointers', u'Recursion', u'Minimax', u'Sliding Window', u'Math', u'Sort', u'Map', u'String', u'Greedy', u'Union Find', u'Heap', u'Graph', u'Binary Search', u'Stack', u'Binary Indexed Tree', u'Hash Table', u'Divide and Conquer', u'Tree', u'Memoization', u'Binary Search Tree', u'Queue', u'Linked List', u'Dynamic Programming', u'Topological Sort', u'Breadth-first Search', u'Trie', u'Random', u'Searching', u'Design', u'Bit Manipulation', u'Segment Tree', u'Array', u'Depth-first Search', u'Backtracking']\n",
      "*****************\n",
      "[u'Two Pointers', u'Recursion', u'Minimax', u'Sliding Window', u'Math', u'Sort', u'Map', u'String', u'Greedy', u'Union Find', u'Heap', u'Graph', u'Binary Search', u'Stack', u'Binary Indexed Tree', u'Hash Table', u'Divide and Conquer', u'Tree', u'Memoization', u'Binary Search Tree', u'Queue', u'Linked List', u'Dynamic Programming', u'Topological Sort', u'Breadth-first Search', u'Trie', u'Random', u'Searching', u'Design', u'Bit Manipulation', u'Segment Tree', u'Array', u'Depth-first Search', u'Backtracking']\n",
      "*****************\n",
      "[u'Two Pointers', u'Recursion', u'Minimax', u'Sliding Window', u'Math', u'Sort', u'Map', u'String', u'Greedy', u'Union Find', u'Heap', u'Graph', u'Binary Search', u'Stack', u'Binary Indexed Tree', u'Hash Table', u'Divide and Conquer', u'Tree', u'Memoization', u'Binary Search Tree', u'Queue', u'Linked List', u'Dynamic Programming', u'Topological Sort', u'Breadth-first Search', u'Trie', u'Random', u'Searching', u'Design', u'Bit Manipulation', u'Segment Tree', u'Array', u'Depth-first Search', u'Backtracking']\n",
      "*****************\n",
      "[u'Two Pointers', u'Recursion', u'Minimax', u'Sliding Window', u'Math', u'Sort', u'Map', u'String', u'Greedy', u'Union Find', u'Heap', u'Graph', u'Binary Search', u'Stack', u'Binary Indexed Tree', u'Hash Table', u'Divide and Conquer', u'Tree', u'Memoization', u'Binary Search Tree', u'Queue', u'Linked List', u'Dynamic Programming', u'Topological Sort', u'Breadth-first Search', u'Trie', u'Random', u'Searching', u'Design', u'Bit Manipulation', u'Segment Tree', u'Array', u'Depth-first Search', u'Backtracking']\n",
      "*****************\n",
      "[u'Two Pointers', u'Recursion', u'Minimax', u'Sliding Window', u'Math', u'Sort', u'Map', u'String', u'Greedy', u'Union Find', u'Heap', u'Graph', u'Binary Search', u'Stack', u'Binary Indexed Tree', u'Hash Table', u'Divide and Conquer', u'Tree', u'Memoization', u'Binary Search Tree', u'Queue', u'Linked List', u'Dynamic Programming', u'Topological Sort', u'Breadth-first Search', u'Trie', u'Random', u'Searching', u'Design', u'Bit Manipulation', u'Segment Tree', u'Array', u'Depth-first Search', u'Backtracking']\n",
      "*****************\n",
      "Fitting 2 folds for each of 5 candidates, totalling 10 fits\n",
      "[CV] tfidf__max_df=0.5, clf__C=5, tfidf__ngram_range=(1, 2), tfidf__min_df=2 \n"
     ]
    },
    {
     "name": "stdout",
     "output_type": "stream",
     "text": [
      "[CV]  tfidf__max_df=0.5, clf__C=5, tfidf__ngram_range=(1, 2), tfidf__min_df=2, score=0, total=   1.0s\n",
      "[CV] tfidf__max_df=0.5, clf__C=5, tfidf__ngram_range=(1, 2), tfidf__min_df=2 \n"
     ]
    },
    {
     "name": "stderr",
     "output_type": "stream",
     "text": [
      "[Parallel(n_jobs=1)]: Done   1 out of   1 | elapsed:    1.2s remaining:    0.0s\n"
     ]
    },
    {
     "name": "stdout",
     "output_type": "stream",
     "text": [
      "[CV]  tfidf__max_df=0.5, clf__C=5, tfidf__ngram_range=(1, 2), tfidf__min_df=2, score=0, total=   1.5s\n",
      "[CV] tfidf__max_df=0.5, clf__C=10, tfidf__ngram_range=(1, 2), tfidf__min_df=2 \n"
     ]
    },
    {
     "name": "stderr",
     "output_type": "stream",
     "text": [
      "[Parallel(n_jobs=1)]: Done   2 out of   2 | elapsed:    3.1s remaining:    0.0s\n"
     ]
    },
    {
     "name": "stdout",
     "output_type": "stream",
     "text": [
      "[CV]  tfidf__max_df=0.5, clf__C=10, tfidf__ngram_range=(1, 2), tfidf__min_df=2, score=0, total=   1.0s\n",
      "[CV] tfidf__max_df=0.5, clf__C=10, tfidf__ngram_range=(1, 2), tfidf__min_df=2 \n"
     ]
    },
    {
     "name": "stderr",
     "output_type": "stream",
     "text": [
      "[Parallel(n_jobs=1)]: Done   3 out of   3 | elapsed:    4.3s remaining:    0.0s\n"
     ]
    },
    {
     "name": "stdout",
     "output_type": "stream",
     "text": [
      "[CV]  tfidf__max_df=0.5, clf__C=10, tfidf__ngram_range=(1, 2), tfidf__min_df=2, score=0, total=   1.5s\n",
      "[CV] tfidf__max_df=0.5, clf__C=20, tfidf__ngram_range=(1, 2), tfidf__min_df=2 \n"
     ]
    },
    {
     "name": "stderr",
     "output_type": "stream",
     "text": [
      "[Parallel(n_jobs=1)]: Done   4 out of   4 | elapsed:    6.2s remaining:    0.0s\n"
     ]
    },
    {
     "name": "stdout",
     "output_type": "stream",
     "text": [
      "[CV]  tfidf__max_df=0.5, clf__C=20, tfidf__ngram_range=(1, 2), tfidf__min_df=2, score=0, total=   1.0s\n",
      "[CV] tfidf__max_df=0.5, clf__C=20, tfidf__ngram_range=(1, 2), tfidf__min_df=2 \n"
     ]
    },
    {
     "name": "stderr",
     "output_type": "stream",
     "text": [
      "[Parallel(n_jobs=1)]: Done   5 out of   5 | elapsed:    7.5s remaining:    0.0s\n",
      "/anaconda2/envs/problemsClassifierEnv/lib/python2.7/site-packages/sklearn/svm/base.py:931: ConvergenceWarning: Liblinear failed to converge, increase the number of iterations.\n",
      "  \"the number of iterations.\", ConvergenceWarning)\n"
     ]
    },
    {
     "name": "stdout",
     "output_type": "stream",
     "text": [
      "[CV]  tfidf__max_df=0.5, clf__C=20, tfidf__ngram_range=(1, 2), tfidf__min_df=2, score=0, total=   1.6s\n",
      "[CV] tfidf__max_df=0.5, clf__C=50, tfidf__ngram_range=(1, 2), tfidf__min_df=2 \n"
     ]
    },
    {
     "name": "stderr",
     "output_type": "stream",
     "text": [
      "[Parallel(n_jobs=1)]: Done   6 out of   6 | elapsed:    9.5s remaining:    0.0s\n"
     ]
    },
    {
     "name": "stdout",
     "output_type": "stream",
     "text": [
      "[CV]  tfidf__max_df=0.5, clf__C=50, tfidf__ngram_range=(1, 2), tfidf__min_df=2, score=0, total=   1.1s\n",
      "[CV] tfidf__max_df=0.5, clf__C=50, tfidf__ngram_range=(1, 2), tfidf__min_df=2 \n"
     ]
    },
    {
     "name": "stderr",
     "output_type": "stream",
     "text": [
      "[Parallel(n_jobs=1)]: Done   7 out of   7 | elapsed:   10.9s remaining:    0.0s\n",
      "/anaconda2/envs/problemsClassifierEnv/lib/python2.7/site-packages/sklearn/svm/base.py:931: ConvergenceWarning: Liblinear failed to converge, increase the number of iterations.\n",
      "  \"the number of iterations.\", ConvergenceWarning)\n"
     ]
    },
    {
     "name": "stdout",
     "output_type": "stream",
     "text": [
      "[CV]  tfidf__max_df=0.5, clf__C=50, tfidf__ngram_range=(1, 2), tfidf__min_df=2, score=0, total=   1.7s\n",
      "[CV] tfidf__max_df=0.5, clf__C=100, tfidf__ngram_range=(1, 2), tfidf__min_df=2 \n"
     ]
    },
    {
     "name": "stderr",
     "output_type": "stream",
     "text": [
      "[Parallel(n_jobs=1)]: Done   8 out of   8 | elapsed:   13.0s remaining:    0.0s\n"
     ]
    },
    {
     "name": "stdout",
     "output_type": "stream",
     "text": [
      "[CV]  tfidf__max_df=0.5, clf__C=100, tfidf__ngram_range=(1, 2), tfidf__min_df=2, score=0, total=   1.2s\n",
      "[CV] tfidf__max_df=0.5, clf__C=100, tfidf__ngram_range=(1, 2), tfidf__min_df=2 \n"
     ]
    },
    {
     "name": "stderr",
     "output_type": "stream",
     "text": [
      "[Parallel(n_jobs=1)]: Done   9 out of   9 | elapsed:   14.4s remaining:    0.0s\n",
      "/anaconda2/envs/problemsClassifierEnv/lib/python2.7/site-packages/sklearn/svm/base.py:931: ConvergenceWarning: Liblinear failed to converge, increase the number of iterations.\n",
      "  \"the number of iterations.\", ConvergenceWarning)\n"
     ]
    },
    {
     "name": "stdout",
     "output_type": "stream",
     "text": [
      "[CV]  tfidf__max_df=0.5, clf__C=100, tfidf__ngram_range=(1, 2), tfidf__min_df=2, score=0, total=   1.9s\n"
     ]
    },
    {
     "name": "stderr",
     "output_type": "stream",
     "text": [
      "[Parallel(n_jobs=1)]: Done  10 out of  10 | elapsed:   16.7s finished\n"
     ]
    },
    {
     "name": "stdout",
     "output_type": "stream",
     "text": [
      "Best parameters set:\n",
      "[('tfidf', TfidfVectorizer(analyzer=u'word', binary=False, decode_error=u'strict',\n",
      "        dtype=<type 'numpy.float64'>, encoding=u'utf-8', input=u'content',\n",
      "        lowercase=True, max_df=0.5, max_features=None, min_df=2,\n",
      "        ngram_range=(1, 2), norm=u'l2', preprocessor=None, smooth_idf=True,\n",
      "        stop_words=None, strip_accents=None, sublinear_tf=False,\n",
      "        token_pattern=u'(?u)\\\\b\\\\w\\\\w+\\\\b', tokenizer=None, use_idf=True,\n",
      "        vocabulary=None)), ('clf', LinearSVC(C=5, class_weight='balanced', dual=True, fit_intercept=True,\n",
      "     intercept_scaling=1, loss='squared_hinge', max_iter=1000,\n",
      "     multi_class='ovr', penalty='l2', random_state=None, tol=0.0001,\n",
      "     verbose=0))]\n",
      "Applying best classifier on test data:\n"
     ]
    },
    {
     "name": "stderr",
     "output_type": "stream",
     "text": [
      "/anaconda2/envs/problemsClassifierEnv/lib/python2.7/site-packages/sklearn/metrics/classification.py:1143: UndefinedMetricWarning: Precision and F-score are ill-defined and being set to 0.0 in labels with no predicted samples.\n",
      "  'precision', 'predicted', average, warn_for)\n",
      "/anaconda2/envs/problemsClassifierEnv/lib/python2.7/site-packages/sklearn/metrics/classification.py:1145: UndefinedMetricWarning: Recall and F-score are ill-defined and being set to 0.0 in labels with no true samples.\n",
      "  'recall', 'true', average, warn_for)\n",
      "/anaconda2/envs/problemsClassifierEnv/lib/python2.7/site-packages/sklearn/metrics/classification.py:1143: UndefinedMetricWarning: Precision and F-score are ill-defined and being set to 0.0 in labels with no predicted samples.\n",
      "  'precision', 'predicted', average, warn_for)\n",
      "/anaconda2/envs/problemsClassifierEnv/lib/python2.7/site-packages/sklearn/metrics/classification.py:1145: UndefinedMetricWarning: Recall and F-score are ill-defined and being set to 0.0 in labels with no true samples.\n",
      "  'recall', 'true', average, warn_for)\n",
      "/anaconda2/envs/problemsClassifierEnv/lib/python2.7/site-packages/sklearn/metrics/classification.py:1143: UndefinedMetricWarning: Precision and F-score are ill-defined and being set to 0.0 in labels with no predicted samples.\n",
      "  'precision', 'predicted', average, warn_for)\n",
      "/anaconda2/envs/problemsClassifierEnv/lib/python2.7/site-packages/sklearn/metrics/classification.py:1145: UndefinedMetricWarning: Recall and F-score are ill-defined and being set to 0.0 in labels with no true samples.\n",
      "  'recall', 'true', average, warn_for)\n",
      "/anaconda2/envs/problemsClassifierEnv/lib/python2.7/site-packages/sklearn/metrics/classification.py:1143: UndefinedMetricWarning: Precision and F-score are ill-defined and being set to 0.0 in samples with no predicted labels.\n",
      "  'precision', 'predicted', average, warn_for)\n",
      "/anaconda2/envs/problemsClassifierEnv/lib/python2.7/site-packages/sklearn/metrics/classification.py:1145: UndefinedMetricWarning: Recall and F-score are ill-defined and being set to 0.0 in samples with no true labels.\n",
      "  'recall', 'true', average, warn_for)\n",
      "[Parallel(n_jobs=1)]: Using backend SequentialBackend with 1 concurrent workers.\n"
     ]
    },
    {
     "name": "stdout",
     "output_type": "stream",
     "text": [
      "[u'Two Pointers', u'Recursion', u'Minimax', u'Sliding Window', u'Math', u'Sort', u'Map', u'String', u'Greedy', u'Union Find', u'Heap', u'Graph', u'Binary Search', u'Stack', u'Binary Indexed Tree', u'Hash Table', u'Divide and Conquer', u'Tree', u'Memoization', u'Binary Search Tree', u'Queue', u'Linked List', u'Dynamic Programming', u'Topological Sort', u'Breadth-first Search', u'Trie', u'Random', u'Searching', u'Design', u'Bit Manipulation', u'Segment Tree', u'Array', u'Depth-first Search', u'Backtracking']\n",
      "*****************\n",
      "[u'Two Pointers', u'Recursion', u'Minimax', u'Sliding Window', u'Math', u'Sort', u'Map', u'String', u'Greedy', u'Union Find', u'Heap', u'Graph', u'Binary Search', u'Stack', u'Binary Indexed Tree', u'Hash Table', u'Divide and Conquer', u'Tree', u'Memoization', u'Binary Search Tree', u'Queue', u'Linked List', u'Dynamic Programming', u'Topological Sort', u'Breadth-first Search', u'Trie', u'Random', u'Searching', u'Design', u'Bit Manipulation', u'Segment Tree', u'Array', u'Depth-first Search', u'Backtracking']\n",
      "*****************\n",
      "[u'Two Pointers', u'Recursion', u'Minimax', u'Sliding Window', u'Math', u'Sort', u'Map', u'String', u'Greedy', u'Union Find', u'Heap', u'Graph', u'Binary Search', u'Stack', u'Binary Indexed Tree', u'Hash Table', u'Divide and Conquer', u'Tree', u'Memoization', u'Binary Search Tree', u'Queue', u'Linked List', u'Dynamic Programming', u'Topological Sort', u'Breadth-first Search', u'Trie', u'Random', u'Searching', u'Design', u'Bit Manipulation', u'Segment Tree', u'Array', u'Depth-first Search', u'Backtracking']\n",
      "*****************\n",
      "[u'Two Pointers', u'Recursion', u'Minimax', u'Sliding Window', u'Math', u'Sort', u'Map', u'String', u'Greedy', u'Union Find', u'Heap', u'Graph', u'Binary Search', u'Stack', u'Binary Indexed Tree', u'Hash Table', u'Divide and Conquer', u'Tree', u'Memoization', u'Binary Search Tree', u'Queue', u'Linked List', u'Dynamic Programming', u'Topological Sort', u'Breadth-first Search', u'Trie', u'Random', u'Searching', u'Design', u'Bit Manipulation', u'Segment Tree', u'Array', u'Depth-first Search', u'Backtracking']\n",
      "*****************\n",
      "[u'Two Pointers', u'Recursion', u'Minimax', u'Sliding Window', u'Math', u'Sort', u'Map', u'String', u'Greedy', u'Union Find', u'Heap', u'Graph', u'Binary Search', u'Stack', u'Binary Indexed Tree', u'Hash Table', u'Divide and Conquer', u'Tree', u'Memoization', u'Binary Search Tree', u'Queue', u'Linked List', u'Dynamic Programming', u'Topological Sort', u'Breadth-first Search', u'Trie', u'Random', u'Searching', u'Design', u'Bit Manipulation', u'Segment Tree', u'Array', u'Depth-first Search', u'Backtracking']\n",
      "*****************\n",
      "[u'Two Pointers', u'Recursion', u'Minimax', u'Sliding Window', u'Math', u'Sort', u'Map', u'String', u'Greedy', u'Union Find', u'Heap', u'Graph', u'Binary Search', u'Stack', u'Binary Indexed Tree', u'Hash Table', u'Divide and Conquer', u'Tree', u'Memoization', u'Binary Search Tree', u'Queue', u'Linked List', u'Dynamic Programming', u'Topological Sort', u'Breadth-first Search', u'Trie', u'Random', u'Searching', u'Design', u'Bit Manipulation', u'Segment Tree', u'Array', u'Depth-first Search', u'Backtracking']\n",
      "*****************\n",
      "[u'Two Pointers', u'Recursion', u'Minimax', u'Sliding Window', u'Math', u'Sort', u'Map', u'String', u'Greedy', u'Union Find', u'Heap', u'Graph', u'Binary Search', u'Stack', u'Binary Indexed Tree', u'Hash Table', u'Divide and Conquer', u'Tree', u'Memoization', u'Binary Search Tree', u'Queue', u'Linked List', u'Dynamic Programming', u'Topological Sort', u'Breadth-first Search', u'Trie', u'Random', u'Searching', u'Design', u'Bit Manipulation', u'Segment Tree', u'Array', u'Depth-first Search', u'Backtracking']\n",
      "*****************\n",
      "[u'Two Pointers', u'Recursion', u'Minimax', u'Sliding Window', u'Math', u'Sort', u'Map', u'String', u'Greedy', u'Union Find', u'Heap', u'Graph', u'Binary Search', u'Stack', u'Binary Indexed Tree', u'Hash Table', u'Divide and Conquer', u'Tree', u'Memoization', u'Binary Search Tree', u'Queue', u'Linked List', u'Dynamic Programming', u'Topological Sort', u'Breadth-first Search', u'Trie', u'Random', u'Searching', u'Design', u'Bit Manipulation', u'Segment Tree', u'Array', u'Depth-first Search', u'Backtracking']\n",
      "*****************\n",
      "[u'Two Pointers', u'Recursion', u'Minimax', u'Sliding Window', u'Math', u'Sort', u'Map', u'String', u'Greedy', u'Union Find', u'Heap', u'Graph', u'Binary Search', u'Stack', u'Binary Indexed Tree', u'Hash Table', u'Divide and Conquer', u'Tree', u'Memoization', u'Binary Search Tree', u'Queue', u'Linked List', u'Dynamic Programming', u'Topological Sort', u'Breadth-first Search', u'Trie', u'Random', u'Searching', u'Design', u'Bit Manipulation', u'Segment Tree', u'Array', u'Depth-first Search', u'Backtracking']\n",
      "*****************\n",
      "[u'Two Pointers', u'Recursion', u'Minimax', u'Sliding Window', u'Math', u'Sort', u'Map', u'String', u'Greedy', u'Union Find', u'Heap', u'Graph', u'Binary Search', u'Stack', u'Binary Indexed Tree', u'Hash Table', u'Divide and Conquer', u'Tree', u'Memoization', u'Binary Search Tree', u'Queue', u'Linked List', u'Dynamic Programming', u'Topological Sort', u'Breadth-first Search', u'Trie', u'Random', u'Searching', u'Design', u'Bit Manipulation', u'Segment Tree', u'Array', u'Depth-first Search', u'Backtracking']\n",
      "*****************\n",
      "[u'Two Pointers', u'Recursion', u'Minimax', u'Sliding Window', u'Math', u'Sort', u'Map', u'String', u'Greedy', u'Union Find', u'Heap', u'Graph', u'Binary Search', u'Stack', u'Binary Indexed Tree', u'Hash Table', u'Divide and Conquer', u'Tree', u'Memoization', u'Binary Search Tree', u'Queue', u'Linked List', u'Dynamic Programming', u'Topological Sort', u'Breadth-first Search', u'Trie', u'Random', u'Searching', u'Design', u'Bit Manipulation', u'Segment Tree', u'Array', u'Depth-first Search', u'Backtracking']\n",
      "*****************\n",
      "[u'Two Pointers', u'Recursion', u'Minimax', u'Sliding Window', u'Math', u'Sort', u'Map', u'String', u'Greedy', u'Union Find', u'Heap', u'Graph', u'Binary Search', u'Stack', u'Binary Indexed Tree', u'Hash Table', u'Divide and Conquer', u'Tree', u'Memoization', u'Binary Search Tree', u'Queue', u'Linked List', u'Dynamic Programming', u'Topological Sort', u'Breadth-first Search', u'Trie', u'Random', u'Searching', u'Design', u'Bit Manipulation', u'Segment Tree', u'Array', u'Depth-first Search', u'Backtracking']\n",
      "*****************\n",
      "[u'Two Pointers', u'Recursion', u'Minimax', u'Sliding Window', u'Math', u'Sort', u'Map', u'String', u'Greedy', u'Union Find', u'Heap', u'Graph', u'Binary Search', u'Stack', u'Binary Indexed Tree', u'Hash Table', u'Divide and Conquer', u'Tree', u'Memoization', u'Binary Search Tree', u'Queue', u'Linked List', u'Dynamic Programming', u'Topological Sort', u'Breadth-first Search', u'Trie', u'Random', u'Searching', u'Design', u'Bit Manipulation', u'Segment Tree', u'Array', u'Depth-first Search', u'Backtracking']\n",
      "*****************\n",
      "[u'Two Pointers', u'Recursion', u'Minimax', u'Sliding Window', u'Math', u'Sort', u'Map', u'String', u'Greedy', u'Union Find', u'Heap', u'Graph', u'Binary Search', u'Stack', u'Binary Indexed Tree', u'Hash Table', u'Divide and Conquer', u'Tree', u'Memoization', u'Binary Search Tree', u'Queue', u'Linked List', u'Dynamic Programming', u'Topological Sort', u'Breadth-first Search', u'Trie', u'Random', u'Searching', u'Design', u'Bit Manipulation', u'Segment Tree', u'Array', u'Depth-first Search', u'Backtracking']\n",
      "*****************\n",
      "[u'Two Pointers', u'Recursion', u'Minimax', u'Sliding Window', u'Math', u'Sort', u'Map', u'String', u'Greedy', u'Union Find', u'Heap', u'Graph', u'Binary Search', u'Stack', u'Binary Indexed Tree', u'Hash Table', u'Divide and Conquer', u'Tree', u'Memoization', u'Binary Search Tree', u'Queue', u'Linked List', u'Dynamic Programming', u'Topological Sort', u'Breadth-first Search', u'Trie', u'Random', u'Searching', u'Design', u'Bit Manipulation', u'Segment Tree', u'Array', u'Depth-first Search', u'Backtracking']\n",
      "*****************\n",
      "[u'Two Pointers', u'Recursion', u'Minimax', u'Sliding Window', u'Math', u'Sort', u'Map', u'String', u'Greedy', u'Union Find', u'Heap', u'Graph', u'Binary Search', u'Stack', u'Binary Indexed Tree', u'Hash Table', u'Divide and Conquer', u'Tree', u'Memoization', u'Binary Search Tree', u'Queue', u'Linked List', u'Dynamic Programming', u'Topological Sort', u'Breadth-first Search', u'Trie', u'Random', u'Searching', u'Design', u'Bit Manipulation', u'Segment Tree', u'Array', u'Depth-first Search', u'Backtracking']\n",
      "*****************\n",
      "[u'Two Pointers', u'Recursion', u'Minimax', u'Sliding Window', u'Math', u'Sort', u'Map', u'String', u'Greedy', u'Union Find', u'Heap', u'Graph', u'Binary Search', u'Stack', u'Binary Indexed Tree', u'Hash Table', u'Divide and Conquer', u'Tree', u'Memoization', u'Binary Search Tree', u'Queue', u'Linked List', u'Dynamic Programming', u'Topological Sort', u'Breadth-first Search', u'Trie', u'Random', u'Searching', u'Design', u'Bit Manipulation', u'Segment Tree', u'Array', u'Depth-first Search', u'Backtracking']\n",
      "*****************\n",
      "[u'Two Pointers', u'Recursion', u'Minimax', u'Sliding Window', u'Math', u'Sort', u'Map', u'String', u'Greedy', u'Union Find', u'Heap', u'Graph', u'Binary Search', u'Stack', u'Binary Indexed Tree', u'Hash Table', u'Divide and Conquer', u'Tree', u'Memoization', u'Binary Search Tree', u'Queue', u'Linked List', u'Dynamic Programming', u'Topological Sort', u'Breadth-first Search', u'Trie', u'Random', u'Searching', u'Design', u'Bit Manipulation', u'Segment Tree', u'Array', u'Depth-first Search', u'Backtracking']\n",
      "*****************\n",
      "[u'Two Pointers', u'Recursion', u'Minimax', u'Sliding Window', u'Math', u'Sort', u'Map', u'String', u'Greedy', u'Union Find', u'Heap', u'Graph', u'Binary Search', u'Stack', u'Binary Indexed Tree', u'Hash Table', u'Divide and Conquer', u'Tree', u'Memoization', u'Binary Search Tree', u'Queue', u'Linked List', u'Dynamic Programming', u'Topological Sort', u'Breadth-first Search', u'Trie', u'Random', u'Searching', u'Design', u'Bit Manipulation', u'Segment Tree', u'Array', u'Depth-first Search', u'Backtracking']\n",
      "*****************\n",
      "[u'Two Pointers', u'Recursion', u'Minimax', u'Sliding Window', u'Math', u'Sort', u'Map', u'String', u'Greedy', u'Union Find', u'Heap', u'Graph', u'Binary Search', u'Stack', u'Binary Indexed Tree', u'Hash Table', u'Divide and Conquer', u'Tree', u'Memoization', u'Binary Search Tree', u'Queue', u'Linked List', u'Dynamic Programming', u'Topological Sort', u'Breadth-first Search', u'Trie', u'Random', u'Searching', u'Design', u'Bit Manipulation', u'Segment Tree', u'Array', u'Depth-first Search', u'Backtracking']\n",
      "*****************\n",
      "[u'Two Pointers', u'Recursion', u'Minimax', u'Sliding Window', u'Math', u'Sort', u'Map', u'String', u'Greedy', u'Union Find', u'Heap', u'Graph', u'Binary Search', u'Stack', u'Binary Indexed Tree', u'Hash Table', u'Divide and Conquer', u'Tree', u'Memoization', u'Binary Search Tree', u'Queue', u'Linked List', u'Dynamic Programming', u'Topological Sort', u'Breadth-first Search', u'Trie', u'Random', u'Searching', u'Design', u'Bit Manipulation', u'Segment Tree', u'Array', u'Depth-first Search', u'Backtracking']\n",
      "*****************\n",
      "[u'Two Pointers', u'Recursion', u'Minimax', u'Sliding Window', u'Math', u'Sort', u'Map', u'String', u'Greedy', u'Union Find', u'Heap', u'Graph', u'Binary Search', u'Stack', u'Binary Indexed Tree', u'Hash Table', u'Divide and Conquer', u'Tree', u'Memoization', u'Binary Search Tree', u'Queue', u'Linked List', u'Dynamic Programming', u'Topological Sort', u'Breadth-first Search', u'Trie', u'Random', u'Searching', u'Design', u'Bit Manipulation', u'Segment Tree', u'Array', u'Depth-first Search', u'Backtracking']\n",
      "*****************\n",
      "[u'Two Pointers', u'Recursion', u'Minimax', u'Sliding Window', u'Math', u'Sort', u'Map', u'String', u'Greedy', u'Union Find', u'Heap', u'Graph', u'Binary Search', u'Stack', u'Binary Indexed Tree', u'Hash Table', u'Divide and Conquer', u'Tree', u'Memoization', u'Binary Search Tree', u'Queue', u'Linked List', u'Dynamic Programming', u'Topological Sort', u'Breadth-first Search', u'Trie', u'Random', u'Searching', u'Design', u'Bit Manipulation', u'Segment Tree', u'Array', u'Depth-first Search', u'Backtracking']\n",
      "*****************\n",
      "[u'Two Pointers', u'Recursion', u'Minimax', u'Sliding Window', u'Math', u'Sort', u'Map', u'String', u'Greedy', u'Union Find', u'Heap', u'Graph', u'Binary Search', u'Stack', u'Binary Indexed Tree', u'Hash Table', u'Divide and Conquer', u'Tree', u'Memoization', u'Binary Search Tree', u'Queue', u'Linked List', u'Dynamic Programming', u'Topological Sort', u'Breadth-first Search', u'Trie', u'Random', u'Searching', u'Design', u'Bit Manipulation', u'Segment Tree', u'Array', u'Depth-first Search', u'Backtracking']\n",
      "*****************\n",
      "[u'Two Pointers', u'Recursion', u'Minimax', u'Sliding Window', u'Math', u'Sort', u'Map', u'String', u'Greedy', u'Union Find', u'Heap', u'Graph', u'Binary Search', u'Stack', u'Binary Indexed Tree', u'Hash Table', u'Divide and Conquer', u'Tree', u'Memoization', u'Binary Search Tree', u'Queue', u'Linked List', u'Dynamic Programming', u'Topological Sort', u'Breadth-first Search', u'Trie', u'Random', u'Searching', u'Design', u'Bit Manipulation', u'Segment Tree', u'Array', u'Depth-first Search', u'Backtracking']\n",
      "*****************\n",
      "[u'Two Pointers', u'Recursion', u'Minimax', u'Sliding Window', u'Math', u'Sort', u'Map', u'String', u'Greedy', u'Union Find', u'Heap', u'Graph', u'Binary Search', u'Stack', u'Binary Indexed Tree', u'Hash Table', u'Divide and Conquer', u'Tree', u'Memoization', u'Binary Search Tree', u'Queue', u'Linked List', u'Dynamic Programming', u'Topological Sort', u'Breadth-first Search', u'Trie', u'Random', u'Searching', u'Design', u'Bit Manipulation', u'Segment Tree', u'Array', u'Depth-first Search', u'Backtracking']\n",
      "*****************\n",
      "[u'Two Pointers', u'Recursion', u'Minimax', u'Sliding Window', u'Math', u'Sort', u'Map', u'String', u'Greedy', u'Union Find', u'Heap', u'Graph', u'Binary Search', u'Stack', u'Binary Indexed Tree', u'Hash Table', u'Divide and Conquer', u'Tree', u'Memoization', u'Binary Search Tree', u'Queue', u'Linked List', u'Dynamic Programming', u'Topological Sort', u'Breadth-first Search', u'Trie', u'Random', u'Searching', u'Design', u'Bit Manipulation', u'Segment Tree', u'Array', u'Depth-first Search', u'Backtracking']\n",
      "*****************\n",
      "[u'Two Pointers', u'Recursion', u'Minimax', u'Sliding Window', u'Math', u'Sort', u'Map', u'String', u'Greedy', u'Union Find', u'Heap', u'Graph', u'Binary Search', u'Stack', u'Binary Indexed Tree', u'Hash Table', u'Divide and Conquer', u'Tree', u'Memoization', u'Binary Search Tree', u'Queue', u'Linked List', u'Dynamic Programming', u'Topological Sort', u'Breadth-first Search', u'Trie', u'Random', u'Searching', u'Design', u'Bit Manipulation', u'Segment Tree', u'Array', u'Depth-first Search', u'Backtracking']\n",
      "*****************\n",
      "[u'Two Pointers', u'Recursion', u'Minimax', u'Sliding Window', u'Math', u'Sort', u'Map', u'String', u'Greedy', u'Union Find', u'Heap', u'Graph', u'Binary Search', u'Stack', u'Binary Indexed Tree', u'Hash Table', u'Divide and Conquer', u'Tree', u'Memoization', u'Binary Search Tree', u'Queue', u'Linked List', u'Dynamic Programming', u'Topological Sort', u'Breadth-first Search', u'Trie', u'Random', u'Searching', u'Design', u'Bit Manipulation', u'Segment Tree', u'Array', u'Depth-first Search', u'Backtracking']\n",
      "*****************\n",
      "[u'Two Pointers', u'Recursion', u'Minimax', u'Sliding Window', u'Math', u'Sort', u'Map', u'String', u'Greedy', u'Union Find', u'Heap', u'Graph', u'Binary Search', u'Stack', u'Binary Indexed Tree', u'Hash Table', u'Divide and Conquer', u'Tree', u'Memoization', u'Binary Search Tree', u'Queue', u'Linked List', u'Dynamic Programming', u'Topological Sort', u'Breadth-first Search', u'Trie', u'Random', u'Searching', u'Design', u'Bit Manipulation', u'Segment Tree', u'Array', u'Depth-first Search', u'Backtracking']\n",
      "*****************\n",
      "[u'Two Pointers', u'Recursion', u'Minimax', u'Sliding Window', u'Math', u'Sort', u'Map', u'String', u'Greedy', u'Union Find', u'Heap', u'Graph', u'Binary Search', u'Stack', u'Binary Indexed Tree', u'Hash Table', u'Divide and Conquer', u'Tree', u'Memoization', u'Binary Search Tree', u'Queue', u'Linked List', u'Dynamic Programming', u'Topological Sort', u'Breadth-first Search', u'Trie', u'Random', u'Searching', u'Design', u'Bit Manipulation', u'Segment Tree', u'Array', u'Depth-first Search', u'Backtracking']\n",
      "*****************\n",
      "[u'Two Pointers', u'Recursion', u'Minimax', u'Sliding Window', u'Math', u'Sort', u'Map', u'String', u'Greedy', u'Union Find', u'Heap', u'Graph', u'Binary Search', u'Stack', u'Binary Indexed Tree', u'Hash Table', u'Divide and Conquer', u'Tree', u'Memoization', u'Binary Search Tree', u'Queue', u'Linked List', u'Dynamic Programming', u'Topological Sort', u'Breadth-first Search', u'Trie', u'Random', u'Searching', u'Design', u'Bit Manipulation', u'Segment Tree', u'Array', u'Depth-first Search', u'Backtracking']\n",
      "*****************\n",
      "[u'Two Pointers', u'Recursion', u'Minimax', u'Sliding Window', u'Math', u'Sort', u'Map', u'String', u'Greedy', u'Union Find', u'Heap', u'Graph', u'Binary Search', u'Stack', u'Binary Indexed Tree', u'Hash Table', u'Divide and Conquer', u'Tree', u'Memoization', u'Binary Search Tree', u'Queue', u'Linked List', u'Dynamic Programming', u'Topological Sort', u'Breadth-first Search', u'Trie', u'Random', u'Searching', u'Design', u'Bit Manipulation', u'Segment Tree', u'Array', u'Depth-first Search', u'Backtracking']\n",
      "*****************\n",
      "[u'Two Pointers', u'Recursion', u'Minimax', u'Sliding Window', u'Math', u'Sort', u'Map', u'String', u'Greedy', u'Union Find', u'Heap', u'Graph', u'Binary Search', u'Stack', u'Binary Indexed Tree', u'Hash Table', u'Divide and Conquer', u'Tree', u'Memoization', u'Binary Search Tree', u'Queue', u'Linked List', u'Dynamic Programming', u'Topological Sort', u'Breadth-first Search', u'Trie', u'Random', u'Searching', u'Design', u'Bit Manipulation', u'Segment Tree', u'Array', u'Depth-first Search', u'Backtracking']\n",
      "*****************\n",
      "Fitting 2 folds for each of 5 candidates, totalling 10 fits\n",
      "[CV] tfidf__max_df=0.5, clf__C=5, tfidf__ngram_range=(1, 2), tfidf__min_df=2 \n"
     ]
    },
    {
     "name": "stdout",
     "output_type": "stream",
     "text": [
      "[CV]  tfidf__max_df=0.5, clf__C=5, tfidf__ngram_range=(1, 2), tfidf__min_df=2, score=0, total=   1.0s\n",
      "[CV] tfidf__max_df=0.5, clf__C=5, tfidf__ngram_range=(1, 2), tfidf__min_df=2 \n"
     ]
    },
    {
     "name": "stderr",
     "output_type": "stream",
     "text": [
      "[Parallel(n_jobs=1)]: Done   1 out of   1 | elapsed:    1.2s remaining:    0.0s\n"
     ]
    },
    {
     "name": "stdout",
     "output_type": "stream",
     "text": [
      "[CV]  tfidf__max_df=0.5, clf__C=5, tfidf__ngram_range=(1, 2), tfidf__min_df=2, score=0, total=   1.4s\n",
      "[CV] tfidf__max_df=0.5, clf__C=10, tfidf__ngram_range=(1, 2), tfidf__min_df=2 \n"
     ]
    },
    {
     "name": "stderr",
     "output_type": "stream",
     "text": [
      "[Parallel(n_jobs=1)]: Done   2 out of   2 | elapsed:    3.1s remaining:    0.0s\n"
     ]
    },
    {
     "name": "stdout",
     "output_type": "stream",
     "text": [
      "[CV]  tfidf__max_df=0.5, clf__C=10, tfidf__ngram_range=(1, 2), tfidf__min_df=2, score=0, total=   1.1s\n",
      "[CV] tfidf__max_df=0.5, clf__C=10, tfidf__ngram_range=(1, 2), tfidf__min_df=2 \n"
     ]
    },
    {
     "name": "stderr",
     "output_type": "stream",
     "text": [
      "[Parallel(n_jobs=1)]: Done   3 out of   3 | elapsed:    4.5s remaining:    0.0s\n"
     ]
    },
    {
     "name": "stdout",
     "output_type": "stream",
     "text": [
      "[CV]  tfidf__max_df=0.5, clf__C=10, tfidf__ngram_range=(1, 2), tfidf__min_df=2, score=0, total=   1.7s\n",
      "[CV] tfidf__max_df=0.5, clf__C=20, tfidf__ngram_range=(1, 2), tfidf__min_df=2 \n"
     ]
    },
    {
     "name": "stderr",
     "output_type": "stream",
     "text": [
      "[Parallel(n_jobs=1)]: Done   4 out of   4 | elapsed:    6.6s remaining:    0.0s\n"
     ]
    },
    {
     "name": "stdout",
     "output_type": "stream",
     "text": [
      "[CV]  tfidf__max_df=0.5, clf__C=20, tfidf__ngram_range=(1, 2), tfidf__min_df=2, score=0, total=   1.2s\n",
      "[CV] tfidf__max_df=0.5, clf__C=20, tfidf__ngram_range=(1, 2), tfidf__min_df=2 \n"
     ]
    },
    {
     "name": "stderr",
     "output_type": "stream",
     "text": [
      "[Parallel(n_jobs=1)]: Done   5 out of   5 | elapsed:    8.1s remaining:    0.0s\n",
      "/anaconda2/envs/problemsClassifierEnv/lib/python2.7/site-packages/sklearn/svm/base.py:931: ConvergenceWarning: Liblinear failed to converge, increase the number of iterations.\n",
      "  \"the number of iterations.\", ConvergenceWarning)\n"
     ]
    },
    {
     "name": "stdout",
     "output_type": "stream",
     "text": [
      "[CV]  tfidf__max_df=0.5, clf__C=20, tfidf__ngram_range=(1, 2), tfidf__min_df=2, score=0, total=   1.9s\n",
      "[CV] tfidf__max_df=0.5, clf__C=50, tfidf__ngram_range=(1, 2), tfidf__min_df=2 \n"
     ]
    },
    {
     "name": "stderr",
     "output_type": "stream",
     "text": [
      "[Parallel(n_jobs=1)]: Done   6 out of   6 | elapsed:   10.4s remaining:    0.0s\n"
     ]
    },
    {
     "name": "stdout",
     "output_type": "stream",
     "text": [
      "[CV]  tfidf__max_df=0.5, clf__C=50, tfidf__ngram_range=(1, 2), tfidf__min_df=2, score=0, total=   1.2s\n",
      "[CV] tfidf__max_df=0.5, clf__C=50, tfidf__ngram_range=(1, 2), tfidf__min_df=2 \n"
     ]
    },
    {
     "name": "stderr",
     "output_type": "stream",
     "text": [
      "[Parallel(n_jobs=1)]: Done   7 out of   7 | elapsed:   11.9s remaining:    0.0s\n",
      "/anaconda2/envs/problemsClassifierEnv/lib/python2.7/site-packages/sklearn/svm/base.py:931: ConvergenceWarning: Liblinear failed to converge, increase the number of iterations.\n",
      "  \"the number of iterations.\", ConvergenceWarning)\n"
     ]
    },
    {
     "name": "stdout",
     "output_type": "stream",
     "text": [
      "[CV]  tfidf__max_df=0.5, clf__C=50, tfidf__ngram_range=(1, 2), tfidf__min_df=2, score=0, total=   1.9s\n",
      "[CV] tfidf__max_df=0.5, clf__C=100, tfidf__ngram_range=(1, 2), tfidf__min_df=2 \n"
     ]
    },
    {
     "name": "stderr",
     "output_type": "stream",
     "text": [
      "[Parallel(n_jobs=1)]: Done   8 out of   8 | elapsed:   14.1s remaining:    0.0s\n"
     ]
    },
    {
     "name": "stdout",
     "output_type": "stream",
     "text": [
      "[CV]  tfidf__max_df=0.5, clf__C=100, tfidf__ngram_range=(1, 2), tfidf__min_df=2, score=0, total=   1.1s\n",
      "[CV] tfidf__max_df=0.5, clf__C=100, tfidf__ngram_range=(1, 2), tfidf__min_df=2 \n"
     ]
    },
    {
     "name": "stderr",
     "output_type": "stream",
     "text": [
      "[Parallel(n_jobs=1)]: Done   9 out of   9 | elapsed:   15.6s remaining:    0.0s\n",
      "/anaconda2/envs/problemsClassifierEnv/lib/python2.7/site-packages/sklearn/svm/base.py:931: ConvergenceWarning: Liblinear failed to converge, increase the number of iterations.\n",
      "  \"the number of iterations.\", ConvergenceWarning)\n"
     ]
    },
    {
     "name": "stdout",
     "output_type": "stream",
     "text": [
      "[CV]  tfidf__max_df=0.5, clf__C=100, tfidf__ngram_range=(1, 2), tfidf__min_df=2, score=0, total=   2.1s\n"
     ]
    },
    {
     "name": "stderr",
     "output_type": "stream",
     "text": [
      "[Parallel(n_jobs=1)]: Done  10 out of  10 | elapsed:   18.0s finished\n"
     ]
    },
    {
     "name": "stdout",
     "output_type": "stream",
     "text": [
      "Best parameters set:\n",
      "[('tfidf', TfidfVectorizer(analyzer=u'word', binary=False, decode_error=u'strict',\n",
      "        dtype=<type 'numpy.float64'>, encoding=u'utf-8', input=u'content',\n",
      "        lowercase=True, max_df=0.5, max_features=None, min_df=2,\n",
      "        ngram_range=(1, 2), norm=u'l2', preprocessor=None, smooth_idf=True,\n",
      "        stop_words=None, strip_accents=None, sublinear_tf=False,\n",
      "        token_pattern=u'(?u)\\\\b\\\\w\\\\w+\\\\b', tokenizer=None, use_idf=True,\n",
      "        vocabulary=None)), ('clf', LinearSVC(C=5, class_weight='balanced', dual=True, fit_intercept=True,\n",
      "     intercept_scaling=1, loss='squared_hinge', max_iter=1000,\n",
      "     multi_class='ovr', penalty='l2', random_state=None, tol=0.0001,\n",
      "     verbose=0))]\n",
      "Applying best classifier on test data:\n"
     ]
    },
    {
     "name": "stderr",
     "output_type": "stream",
     "text": [
      "/anaconda2/envs/problemsClassifierEnv/lib/python2.7/site-packages/sklearn/metrics/classification.py:1143: UndefinedMetricWarning: Precision and F-score are ill-defined and being set to 0.0 in labels with no predicted samples.\n",
      "  'precision', 'predicted', average, warn_for)\n",
      "/anaconda2/envs/problemsClassifierEnv/lib/python2.7/site-packages/sklearn/metrics/classification.py:1145: UndefinedMetricWarning: Recall and F-score are ill-defined and being set to 0.0 in labels with no true samples.\n",
      "  'recall', 'true', average, warn_for)\n",
      "/anaconda2/envs/problemsClassifierEnv/lib/python2.7/site-packages/sklearn/metrics/classification.py:1143: UndefinedMetricWarning: Precision and F-score are ill-defined and being set to 0.0 in labels with no predicted samples.\n",
      "  'precision', 'predicted', average, warn_for)\n",
      "/anaconda2/envs/problemsClassifierEnv/lib/python2.7/site-packages/sklearn/metrics/classification.py:1145: UndefinedMetricWarning: Recall and F-score are ill-defined and being set to 0.0 in labels with no true samples.\n",
      "  'recall', 'true', average, warn_for)\n",
      "/anaconda2/envs/problemsClassifierEnv/lib/python2.7/site-packages/sklearn/metrics/classification.py:1143: UndefinedMetricWarning: Precision and F-score are ill-defined and being set to 0.0 in labels with no predicted samples.\n",
      "  'precision', 'predicted', average, warn_for)\n",
      "/anaconda2/envs/problemsClassifierEnv/lib/python2.7/site-packages/sklearn/metrics/classification.py:1145: UndefinedMetricWarning: Recall and F-score are ill-defined and being set to 0.0 in labels with no true samples.\n",
      "  'recall', 'true', average, warn_for)\n",
      "/anaconda2/envs/problemsClassifierEnv/lib/python2.7/site-packages/sklearn/metrics/classification.py:1143: UndefinedMetricWarning: Precision and F-score are ill-defined and being set to 0.0 in samples with no predicted labels.\n",
      "  'precision', 'predicted', average, warn_for)\n",
      "/anaconda2/envs/problemsClassifierEnv/lib/python2.7/site-packages/sklearn/metrics/classification.py:1145: UndefinedMetricWarning: Recall and F-score are ill-defined and being set to 0.0 in samples with no true labels.\n",
      "  'recall', 'true', average, warn_for)\n",
      "[Parallel(n_jobs=1)]: Using backend SequentialBackend with 1 concurrent workers.\n"
     ]
    },
    {
     "name": "stdout",
     "output_type": "stream",
     "text": [
      "[u'Two Pointers', u'Recursion', u'Minimax', u'Sliding Window', u'Math', u'Sort', u'Map', u'String', u'Greedy', u'Union Find', u'Heap', u'Graph', u'Binary Search', u'Stack', u'Binary Indexed Tree', u'Hash Table', u'Divide and Conquer', u'Tree', u'Memoization', u'Binary Search Tree', u'Queue', u'Linked List', u'Dynamic Programming', u'Topological Sort', u'Breadth-first Search', u'Trie', u'Random', u'Searching', u'Design', u'Bit Manipulation', u'Segment Tree', u'Array', u'Depth-first Search', u'Backtracking']\n",
      "*****************\n",
      "[u'Two Pointers', u'Recursion', u'Minimax', u'Sliding Window', u'Math', u'Sort', u'Map', u'String', u'Greedy', u'Union Find', u'Heap', u'Graph', u'Binary Search', u'Stack', u'Binary Indexed Tree', u'Hash Table', u'Divide and Conquer', u'Tree', u'Memoization', u'Binary Search Tree', u'Queue', u'Linked List', u'Dynamic Programming', u'Topological Sort', u'Breadth-first Search', u'Trie', u'Random', u'Searching', u'Design', u'Bit Manipulation', u'Segment Tree', u'Array', u'Depth-first Search', u'Backtracking']\n",
      "*****************\n",
      "[u'Two Pointers', u'Recursion', u'Minimax', u'Sliding Window', u'Math', u'Sort', u'Map', u'String', u'Greedy', u'Union Find', u'Heap', u'Graph', u'Binary Search', u'Stack', u'Binary Indexed Tree', u'Hash Table', u'Divide and Conquer', u'Tree', u'Memoization', u'Binary Search Tree', u'Queue', u'Linked List', u'Dynamic Programming', u'Topological Sort', u'Breadth-first Search', u'Trie', u'Random', u'Searching', u'Design', u'Bit Manipulation', u'Segment Tree', u'Array', u'Depth-first Search', u'Backtracking']\n",
      "*****************\n",
      "[u'Two Pointers', u'Recursion', u'Minimax', u'Sliding Window', u'Math', u'Sort', u'Map', u'String', u'Greedy', u'Union Find', u'Heap', u'Graph', u'Binary Search', u'Stack', u'Binary Indexed Tree', u'Hash Table', u'Divide and Conquer', u'Tree', u'Memoization', u'Binary Search Tree', u'Queue', u'Linked List', u'Dynamic Programming', u'Topological Sort', u'Breadth-first Search', u'Trie', u'Random', u'Searching', u'Design', u'Bit Manipulation', u'Segment Tree', u'Array', u'Depth-first Search', u'Backtracking']\n",
      "*****************\n",
      "[u'Two Pointers', u'Recursion', u'Minimax', u'Sliding Window', u'Math', u'Sort', u'Map', u'String', u'Greedy', u'Union Find', u'Heap', u'Graph', u'Binary Search', u'Stack', u'Binary Indexed Tree', u'Hash Table', u'Divide and Conquer', u'Tree', u'Memoization', u'Binary Search Tree', u'Queue', u'Linked List', u'Dynamic Programming', u'Topological Sort', u'Breadth-first Search', u'Trie', u'Random', u'Searching', u'Design', u'Bit Manipulation', u'Segment Tree', u'Array', u'Depth-first Search', u'Backtracking']\n",
      "*****************\n",
      "[u'Two Pointers', u'Recursion', u'Minimax', u'Sliding Window', u'Math', u'Sort', u'Map', u'String', u'Greedy', u'Union Find', u'Heap', u'Graph', u'Binary Search', u'Stack', u'Binary Indexed Tree', u'Hash Table', u'Divide and Conquer', u'Tree', u'Memoization', u'Binary Search Tree', u'Queue', u'Linked List', u'Dynamic Programming', u'Topological Sort', u'Breadth-first Search', u'Trie', u'Random', u'Searching', u'Design', u'Bit Manipulation', u'Segment Tree', u'Array', u'Depth-first Search', u'Backtracking']\n",
      "*****************\n",
      "[u'Two Pointers', u'Recursion', u'Minimax', u'Sliding Window', u'Math', u'Sort', u'Map', u'String', u'Greedy', u'Union Find', u'Heap', u'Graph', u'Binary Search', u'Stack', u'Binary Indexed Tree', u'Hash Table', u'Divide and Conquer', u'Tree', u'Memoization', u'Binary Search Tree', u'Queue', u'Linked List', u'Dynamic Programming', u'Topological Sort', u'Breadth-first Search', u'Trie', u'Random', u'Searching', u'Design', u'Bit Manipulation', u'Segment Tree', u'Array', u'Depth-first Search', u'Backtracking']\n",
      "*****************\n",
      "[u'Two Pointers', u'Recursion', u'Minimax', u'Sliding Window', u'Math', u'Sort', u'Map', u'String', u'Greedy', u'Union Find', u'Heap', u'Graph', u'Binary Search', u'Stack', u'Binary Indexed Tree', u'Hash Table', u'Divide and Conquer', u'Tree', u'Memoization', u'Binary Search Tree', u'Queue', u'Linked List', u'Dynamic Programming', u'Topological Sort', u'Breadth-first Search', u'Trie', u'Random', u'Searching', u'Design', u'Bit Manipulation', u'Segment Tree', u'Array', u'Depth-first Search', u'Backtracking']\n",
      "*****************\n",
      "[u'Two Pointers', u'Recursion', u'Minimax', u'Sliding Window', u'Math', u'Sort', u'Map', u'String', u'Greedy', u'Union Find', u'Heap', u'Graph', u'Binary Search', u'Stack', u'Binary Indexed Tree', u'Hash Table', u'Divide and Conquer', u'Tree', u'Memoization', u'Binary Search Tree', u'Queue', u'Linked List', u'Dynamic Programming', u'Topological Sort', u'Breadth-first Search', u'Trie', u'Random', u'Searching', u'Design', u'Bit Manipulation', u'Segment Tree', u'Array', u'Depth-first Search', u'Backtracking']\n",
      "*****************\n",
      "[u'Two Pointers', u'Recursion', u'Minimax', u'Sliding Window', u'Math', u'Sort', u'Map', u'String', u'Greedy', u'Union Find', u'Heap', u'Graph', u'Binary Search', u'Stack', u'Binary Indexed Tree', u'Hash Table', u'Divide and Conquer', u'Tree', u'Memoization', u'Binary Search Tree', u'Queue', u'Linked List', u'Dynamic Programming', u'Topological Sort', u'Breadth-first Search', u'Trie', u'Random', u'Searching', u'Design', u'Bit Manipulation', u'Segment Tree', u'Array', u'Depth-first Search', u'Backtracking']\n",
      "*****************\n",
      "[u'Two Pointers', u'Recursion', u'Minimax', u'Sliding Window', u'Math', u'Sort', u'Map', u'String', u'Greedy', u'Union Find', u'Heap', u'Graph', u'Binary Search', u'Stack', u'Binary Indexed Tree', u'Hash Table', u'Divide and Conquer', u'Tree', u'Memoization', u'Binary Search Tree', u'Queue', u'Linked List', u'Dynamic Programming', u'Topological Sort', u'Breadth-first Search', u'Trie', u'Random', u'Searching', u'Design', u'Bit Manipulation', u'Segment Tree', u'Array', u'Depth-first Search', u'Backtracking']\n",
      "*****************\n",
      "[u'Two Pointers', u'Recursion', u'Minimax', u'Sliding Window', u'Math', u'Sort', u'Map', u'String', u'Greedy', u'Union Find', u'Heap', u'Graph', u'Binary Search', u'Stack', u'Binary Indexed Tree', u'Hash Table', u'Divide and Conquer', u'Tree', u'Memoization', u'Binary Search Tree', u'Queue', u'Linked List', u'Dynamic Programming', u'Topological Sort', u'Breadth-first Search', u'Trie', u'Random', u'Searching', u'Design', u'Bit Manipulation', u'Segment Tree', u'Array', u'Depth-first Search', u'Backtracking']\n",
      "*****************\n",
      "[u'Two Pointers', u'Recursion', u'Minimax', u'Sliding Window', u'Math', u'Sort', u'Map', u'String', u'Greedy', u'Union Find', u'Heap', u'Graph', u'Binary Search', u'Stack', u'Binary Indexed Tree', u'Hash Table', u'Divide and Conquer', u'Tree', u'Memoization', u'Binary Search Tree', u'Queue', u'Linked List', u'Dynamic Programming', u'Topological Sort', u'Breadth-first Search', u'Trie', u'Random', u'Searching', u'Design', u'Bit Manipulation', u'Segment Tree', u'Array', u'Depth-first Search', u'Backtracking']\n",
      "*****************\n",
      "[u'Two Pointers', u'Recursion', u'Minimax', u'Sliding Window', u'Math', u'Sort', u'Map', u'String', u'Greedy', u'Union Find', u'Heap', u'Graph', u'Binary Search', u'Stack', u'Binary Indexed Tree', u'Hash Table', u'Divide and Conquer', u'Tree', u'Memoization', u'Binary Search Tree', u'Queue', u'Linked List', u'Dynamic Programming', u'Topological Sort', u'Breadth-first Search', u'Trie', u'Random', u'Searching', u'Design', u'Bit Manipulation', u'Segment Tree', u'Array', u'Depth-first Search', u'Backtracking']\n",
      "*****************\n",
      "[u'Two Pointers', u'Recursion', u'Minimax', u'Sliding Window', u'Math', u'Sort', u'Map', u'String', u'Greedy', u'Union Find', u'Heap', u'Graph', u'Binary Search', u'Stack', u'Binary Indexed Tree', u'Hash Table', u'Divide and Conquer', u'Tree', u'Memoization', u'Binary Search Tree', u'Queue', u'Linked List', u'Dynamic Programming', u'Topological Sort', u'Breadth-first Search', u'Trie', u'Random', u'Searching', u'Design', u'Bit Manipulation', u'Segment Tree', u'Array', u'Depth-first Search', u'Backtracking']\n",
      "*****************\n",
      "[u'Two Pointers', u'Recursion', u'Minimax', u'Sliding Window', u'Math', u'Sort', u'Map', u'String', u'Greedy', u'Union Find', u'Heap', u'Graph', u'Binary Search', u'Stack', u'Binary Indexed Tree', u'Hash Table', u'Divide and Conquer', u'Tree', u'Memoization', u'Binary Search Tree', u'Queue', u'Linked List', u'Dynamic Programming', u'Topological Sort', u'Breadth-first Search', u'Trie', u'Random', u'Searching', u'Design', u'Bit Manipulation', u'Segment Tree', u'Array', u'Depth-first Search', u'Backtracking']\n",
      "*****************\n",
      "[u'Two Pointers', u'Recursion', u'Minimax', u'Sliding Window', u'Math', u'Sort', u'Map', u'String', u'Greedy', u'Union Find', u'Heap', u'Graph', u'Binary Search', u'Stack', u'Binary Indexed Tree', u'Hash Table', u'Divide and Conquer', u'Tree', u'Memoization', u'Binary Search Tree', u'Queue', u'Linked List', u'Dynamic Programming', u'Topological Sort', u'Breadth-first Search', u'Trie', u'Random', u'Searching', u'Design', u'Bit Manipulation', u'Segment Tree', u'Array', u'Depth-first Search', u'Backtracking']\n",
      "*****************\n",
      "[u'Two Pointers', u'Recursion', u'Minimax', u'Sliding Window', u'Math', u'Sort', u'Map', u'String', u'Greedy', u'Union Find', u'Heap', u'Graph', u'Binary Search', u'Stack', u'Binary Indexed Tree', u'Hash Table', u'Divide and Conquer', u'Tree', u'Memoization', u'Binary Search Tree', u'Queue', u'Linked List', u'Dynamic Programming', u'Topological Sort', u'Breadth-first Search', u'Trie', u'Random', u'Searching', u'Design', u'Bit Manipulation', u'Segment Tree', u'Array', u'Depth-first Search', u'Backtracking']\n",
      "*****************\n",
      "[u'Two Pointers', u'Recursion', u'Minimax', u'Sliding Window', u'Math', u'Sort', u'Map', u'String', u'Greedy', u'Union Find', u'Heap', u'Graph', u'Binary Search', u'Stack', u'Binary Indexed Tree', u'Hash Table', u'Divide and Conquer', u'Tree', u'Memoization', u'Binary Search Tree', u'Queue', u'Linked List', u'Dynamic Programming', u'Topological Sort', u'Breadth-first Search', u'Trie', u'Random', u'Searching', u'Design', u'Bit Manipulation', u'Segment Tree', u'Array', u'Depth-first Search', u'Backtracking']\n",
      "*****************\n",
      "[u'Two Pointers', u'Recursion', u'Minimax', u'Sliding Window', u'Math', u'Sort', u'Map', u'String', u'Greedy', u'Union Find', u'Heap', u'Graph', u'Binary Search', u'Stack', u'Binary Indexed Tree', u'Hash Table', u'Divide and Conquer', u'Tree', u'Memoization', u'Binary Search Tree', u'Queue', u'Linked List', u'Dynamic Programming', u'Topological Sort', u'Breadth-first Search', u'Trie', u'Random', u'Searching', u'Design', u'Bit Manipulation', u'Segment Tree', u'Array', u'Depth-first Search', u'Backtracking']\n",
      "*****************\n",
      "[u'Two Pointers', u'Recursion', u'Minimax', u'Sliding Window', u'Math', u'Sort', u'Map', u'String', u'Greedy', u'Union Find', u'Heap', u'Graph', u'Binary Search', u'Stack', u'Binary Indexed Tree', u'Hash Table', u'Divide and Conquer', u'Tree', u'Memoization', u'Binary Search Tree', u'Queue', u'Linked List', u'Dynamic Programming', u'Topological Sort', u'Breadth-first Search', u'Trie', u'Random', u'Searching', u'Design', u'Bit Manipulation', u'Segment Tree', u'Array', u'Depth-first Search', u'Backtracking']\n",
      "*****************\n",
      "[u'Two Pointers', u'Recursion', u'Minimax', u'Sliding Window', u'Math', u'Sort', u'Map', u'String', u'Greedy', u'Union Find', u'Heap', u'Graph', u'Binary Search', u'Stack', u'Binary Indexed Tree', u'Hash Table', u'Divide and Conquer', u'Tree', u'Memoization', u'Binary Search Tree', u'Queue', u'Linked List', u'Dynamic Programming', u'Topological Sort', u'Breadth-first Search', u'Trie', u'Random', u'Searching', u'Design', u'Bit Manipulation', u'Segment Tree', u'Array', u'Depth-first Search', u'Backtracking']\n",
      "*****************\n",
      "[u'Two Pointers', u'Recursion', u'Minimax', u'Sliding Window', u'Math', u'Sort', u'Map', u'String', u'Greedy', u'Union Find', u'Heap', u'Graph', u'Binary Search', u'Stack', u'Binary Indexed Tree', u'Hash Table', u'Divide and Conquer', u'Tree', u'Memoization', u'Binary Search Tree', u'Queue', u'Linked List', u'Dynamic Programming', u'Topological Sort', u'Breadth-first Search', u'Trie', u'Random', u'Searching', u'Design', u'Bit Manipulation', u'Segment Tree', u'Array', u'Depth-first Search', u'Backtracking']\n",
      "*****************\n",
      "[u'Two Pointers', u'Recursion', u'Minimax', u'Sliding Window', u'Math', u'Sort', u'Map', u'String', u'Greedy', u'Union Find', u'Heap', u'Graph', u'Binary Search', u'Stack', u'Binary Indexed Tree', u'Hash Table', u'Divide and Conquer', u'Tree', u'Memoization', u'Binary Search Tree', u'Queue', u'Linked List', u'Dynamic Programming', u'Topological Sort', u'Breadth-first Search', u'Trie', u'Random', u'Searching', u'Design', u'Bit Manipulation', u'Segment Tree', u'Array', u'Depth-first Search', u'Backtracking']\n",
      "*****************\n",
      "[u'Two Pointers', u'Recursion', u'Minimax', u'Sliding Window', u'Math', u'Sort', u'Map', u'String', u'Greedy', u'Union Find', u'Heap', u'Graph', u'Binary Search', u'Stack', u'Binary Indexed Tree', u'Hash Table', u'Divide and Conquer', u'Tree', u'Memoization', u'Binary Search Tree', u'Queue', u'Linked List', u'Dynamic Programming', u'Topological Sort', u'Breadth-first Search', u'Trie', u'Random', u'Searching', u'Design', u'Bit Manipulation', u'Segment Tree', u'Array', u'Depth-first Search', u'Backtracking']\n",
      "*****************\n",
      "[u'Two Pointers', u'Recursion', u'Minimax', u'Sliding Window', u'Math', u'Sort', u'Map', u'String', u'Greedy', u'Union Find', u'Heap', u'Graph', u'Binary Search', u'Stack', u'Binary Indexed Tree', u'Hash Table', u'Divide and Conquer', u'Tree', u'Memoization', u'Binary Search Tree', u'Queue', u'Linked List', u'Dynamic Programming', u'Topological Sort', u'Breadth-first Search', u'Trie', u'Random', u'Searching', u'Design', u'Bit Manipulation', u'Segment Tree', u'Array', u'Depth-first Search', u'Backtracking']\n",
      "*****************\n",
      "[u'Two Pointers', u'Recursion', u'Minimax', u'Sliding Window', u'Math', u'Sort', u'Map', u'String', u'Greedy', u'Union Find', u'Heap', u'Graph', u'Binary Search', u'Stack', u'Binary Indexed Tree', u'Hash Table', u'Divide and Conquer', u'Tree', u'Memoization', u'Binary Search Tree', u'Queue', u'Linked List', u'Dynamic Programming', u'Topological Sort', u'Breadth-first Search', u'Trie', u'Random', u'Searching', u'Design', u'Bit Manipulation', u'Segment Tree', u'Array', u'Depth-first Search', u'Backtracking']\n",
      "*****************\n",
      "[u'Two Pointers', u'Recursion', u'Minimax', u'Sliding Window', u'Math', u'Sort', u'Map', u'String', u'Greedy', u'Union Find', u'Heap', u'Graph', u'Binary Search', u'Stack', u'Binary Indexed Tree', u'Hash Table', u'Divide and Conquer', u'Tree', u'Memoization', u'Binary Search Tree', u'Queue', u'Linked List', u'Dynamic Programming', u'Topological Sort', u'Breadth-first Search', u'Trie', u'Random', u'Searching', u'Design', u'Bit Manipulation', u'Segment Tree', u'Array', u'Depth-first Search', u'Backtracking']\n",
      "*****************\n",
      "[u'Two Pointers', u'Recursion', u'Minimax', u'Sliding Window', u'Math', u'Sort', u'Map', u'String', u'Greedy', u'Union Find', u'Heap', u'Graph', u'Binary Search', u'Stack', u'Binary Indexed Tree', u'Hash Table', u'Divide and Conquer', u'Tree', u'Memoization', u'Binary Search Tree', u'Queue', u'Linked List', u'Dynamic Programming', u'Topological Sort', u'Breadth-first Search', u'Trie', u'Random', u'Searching', u'Design', u'Bit Manipulation', u'Segment Tree', u'Array', u'Depth-first Search', u'Backtracking']\n",
      "*****************\n",
      "[u'Two Pointers', u'Recursion', u'Minimax', u'Sliding Window', u'Math', u'Sort', u'Map', u'String', u'Greedy', u'Union Find', u'Heap', u'Graph', u'Binary Search', u'Stack', u'Binary Indexed Tree', u'Hash Table', u'Divide and Conquer', u'Tree', u'Memoization', u'Binary Search Tree', u'Queue', u'Linked List', u'Dynamic Programming', u'Topological Sort', u'Breadth-first Search', u'Trie', u'Random', u'Searching', u'Design', u'Bit Manipulation', u'Segment Tree', u'Array', u'Depth-first Search', u'Backtracking']\n",
      "*****************\n",
      "[u'Two Pointers', u'Recursion', u'Minimax', u'Sliding Window', u'Math', u'Sort', u'Map', u'String', u'Greedy', u'Union Find', u'Heap', u'Graph', u'Binary Search', u'Stack', u'Binary Indexed Tree', u'Hash Table', u'Divide and Conquer', u'Tree', u'Memoization', u'Binary Search Tree', u'Queue', u'Linked List', u'Dynamic Programming', u'Topological Sort', u'Breadth-first Search', u'Trie', u'Random', u'Searching', u'Design', u'Bit Manipulation', u'Segment Tree', u'Array', u'Depth-first Search', u'Backtracking']\n",
      "*****************\n",
      "[u'Two Pointers', u'Recursion', u'Minimax', u'Sliding Window', u'Math', u'Sort', u'Map', u'String', u'Greedy', u'Union Find', u'Heap', u'Graph', u'Binary Search', u'Stack', u'Binary Indexed Tree', u'Hash Table', u'Divide and Conquer', u'Tree', u'Memoization', u'Binary Search Tree', u'Queue', u'Linked List', u'Dynamic Programming', u'Topological Sort', u'Breadth-first Search', u'Trie', u'Random', u'Searching', u'Design', u'Bit Manipulation', u'Segment Tree', u'Array', u'Depth-first Search', u'Backtracking']\n",
      "*****************\n",
      "[u'Two Pointers', u'Recursion', u'Minimax', u'Sliding Window', u'Math', u'Sort', u'Map', u'String', u'Greedy', u'Union Find', u'Heap', u'Graph', u'Binary Search', u'Stack', u'Binary Indexed Tree', u'Hash Table', u'Divide and Conquer', u'Tree', u'Memoization', u'Binary Search Tree', u'Queue', u'Linked List', u'Dynamic Programming', u'Topological Sort', u'Breadth-first Search', u'Trie', u'Random', u'Searching', u'Design', u'Bit Manipulation', u'Segment Tree', u'Array', u'Depth-first Search', u'Backtracking']\n",
      "*****************\n",
      "[u'Two Pointers', u'Recursion', u'Minimax', u'Sliding Window', u'Math', u'Sort', u'Map', u'String', u'Greedy', u'Union Find', u'Heap', u'Graph', u'Binary Search', u'Stack', u'Binary Indexed Tree', u'Hash Table', u'Divide and Conquer', u'Tree', u'Memoization', u'Binary Search Tree', u'Queue', u'Linked List', u'Dynamic Programming', u'Topological Sort', u'Breadth-first Search', u'Trie', u'Random', u'Searching', u'Design', u'Bit Manipulation', u'Segment Tree', u'Array', u'Depth-first Search', u'Backtracking']\n",
      "*****************\n",
      "Fitting 2 folds for each of 5 candidates, totalling 10 fits\n",
      "[CV] tfidf__max_df=0.5, clf__C=5, tfidf__ngram_range=(1, 2), tfidf__min_df=2 \n"
     ]
    },
    {
     "name": "stdout",
     "output_type": "stream",
     "text": [
      "[CV]  tfidf__max_df=0.5, clf__C=5, tfidf__ngram_range=(1, 2), tfidf__min_df=2, score=0, total=   1.1s\n",
      "[CV] tfidf__max_df=0.5, clf__C=5, tfidf__ngram_range=(1, 2), tfidf__min_df=2 \n"
     ]
    },
    {
     "name": "stderr",
     "output_type": "stream",
     "text": [
      "[Parallel(n_jobs=1)]: Done   1 out of   1 | elapsed:    1.4s remaining:    0.0s\n"
     ]
    },
    {
     "name": "stdout",
     "output_type": "stream",
     "text": [
      "[CV]  tfidf__max_df=0.5, clf__C=5, tfidf__ngram_range=(1, 2), tfidf__min_df=2, score=0, total=   1.8s\n",
      "[CV] tfidf__max_df=0.5, clf__C=10, tfidf__ngram_range=(1, 2), tfidf__min_df=2 \n"
     ]
    },
    {
     "name": "stderr",
     "output_type": "stream",
     "text": [
      "[Parallel(n_jobs=1)]: Done   2 out of   2 | elapsed:    3.6s remaining:    0.0s\n"
     ]
    },
    {
     "name": "stdout",
     "output_type": "stream",
     "text": [
      "[CV]  tfidf__max_df=0.5, clf__C=10, tfidf__ngram_range=(1, 2), tfidf__min_df=2, score=0, total=   1.1s\n",
      "[CV] tfidf__max_df=0.5, clf__C=10, tfidf__ngram_range=(1, 2), tfidf__min_df=2 \n"
     ]
    },
    {
     "name": "stderr",
     "output_type": "stream",
     "text": [
      "[Parallel(n_jobs=1)]: Done   3 out of   3 | elapsed:    5.0s remaining:    0.0s\n"
     ]
    },
    {
     "name": "stdout",
     "output_type": "stream",
     "text": [
      "[CV]  tfidf__max_df=0.5, clf__C=10, tfidf__ngram_range=(1, 2), tfidf__min_df=2, score=0, total=   1.8s\n",
      "[CV] tfidf__max_df=0.5, clf__C=20, tfidf__ngram_range=(1, 2), tfidf__min_df=2 \n"
     ]
    },
    {
     "name": "stderr",
     "output_type": "stream",
     "text": [
      "[Parallel(n_jobs=1)]: Done   4 out of   4 | elapsed:    7.2s remaining:    0.0s\n"
     ]
    },
    {
     "name": "stdout",
     "output_type": "stream",
     "text": [
      "[CV]  tfidf__max_df=0.5, clf__C=20, tfidf__ngram_range=(1, 2), tfidf__min_df=2, score=0, total=   1.1s\n",
      "[CV] tfidf__max_df=0.5, clf__C=20, tfidf__ngram_range=(1, 2), tfidf__min_df=2 \n"
     ]
    },
    {
     "name": "stderr",
     "output_type": "stream",
     "text": [
      "[Parallel(n_jobs=1)]: Done   5 out of   5 | elapsed:    8.6s remaining:    0.0s\n",
      "/anaconda2/envs/problemsClassifierEnv/lib/python2.7/site-packages/sklearn/svm/base.py:931: ConvergenceWarning: Liblinear failed to converge, increase the number of iterations.\n",
      "  \"the number of iterations.\", ConvergenceWarning)\n"
     ]
    },
    {
     "name": "stdout",
     "output_type": "stream",
     "text": [
      "[CV]  tfidf__max_df=0.5, clf__C=20, tfidf__ngram_range=(1, 2), tfidf__min_df=2, score=0, total=   1.9s\n",
      "[CV] tfidf__max_df=0.5, clf__C=50, tfidf__ngram_range=(1, 2), tfidf__min_df=2 \n"
     ]
    },
    {
     "name": "stderr",
     "output_type": "stream",
     "text": [
      "[Parallel(n_jobs=1)]: Done   6 out of   6 | elapsed:   10.9s remaining:    0.0s\n"
     ]
    },
    {
     "name": "stdout",
     "output_type": "stream",
     "text": [
      "[CV]  tfidf__max_df=0.5, clf__C=50, tfidf__ngram_range=(1, 2), tfidf__min_df=2, score=0, total=   1.2s\n",
      "[CV] tfidf__max_df=0.5, clf__C=50, tfidf__ngram_range=(1, 2), tfidf__min_df=2 \n"
     ]
    },
    {
     "name": "stderr",
     "output_type": "stream",
     "text": [
      "[Parallel(n_jobs=1)]: Done   7 out of   7 | elapsed:   12.4s remaining:    0.0s\n",
      "/anaconda2/envs/problemsClassifierEnv/lib/python2.7/site-packages/sklearn/svm/base.py:931: ConvergenceWarning: Liblinear failed to converge, increase the number of iterations.\n",
      "  \"the number of iterations.\", ConvergenceWarning)\n"
     ]
    },
    {
     "name": "stdout",
     "output_type": "stream",
     "text": [
      "[CV]  tfidf__max_df=0.5, clf__C=50, tfidf__ngram_range=(1, 2), tfidf__min_df=2, score=0, total=   1.9s\n",
      "[CV] tfidf__max_df=0.5, clf__C=100, tfidf__ngram_range=(1, 2), tfidf__min_df=2 \n"
     ]
    },
    {
     "name": "stderr",
     "output_type": "stream",
     "text": [
      "[Parallel(n_jobs=1)]: Done   8 out of   8 | elapsed:   14.6s remaining:    0.0s\n"
     ]
    },
    {
     "name": "stdout",
     "output_type": "stream",
     "text": [
      "[CV]  tfidf__max_df=0.5, clf__C=100, tfidf__ngram_range=(1, 2), tfidf__min_df=2, score=0, total=   1.2s\n",
      "[CV] tfidf__max_df=0.5, clf__C=100, tfidf__ngram_range=(1, 2), tfidf__min_df=2 \n"
     ]
    },
    {
     "name": "stderr",
     "output_type": "stream",
     "text": [
      "[Parallel(n_jobs=1)]: Done   9 out of   9 | elapsed:   16.1s remaining:    0.0s\n",
      "/anaconda2/envs/problemsClassifierEnv/lib/python2.7/site-packages/sklearn/svm/base.py:931: ConvergenceWarning: Liblinear failed to converge, increase the number of iterations.\n",
      "  \"the number of iterations.\", ConvergenceWarning)\n"
     ]
    },
    {
     "name": "stdout",
     "output_type": "stream",
     "text": [
      "[CV]  tfidf__max_df=0.5, clf__C=100, tfidf__ngram_range=(1, 2), tfidf__min_df=2, score=0, total=   2.0s\n"
     ]
    },
    {
     "name": "stderr",
     "output_type": "stream",
     "text": [
      "[Parallel(n_jobs=1)]: Done  10 out of  10 | elapsed:   18.5s finished\n"
     ]
    },
    {
     "name": "stdout",
     "output_type": "stream",
     "text": [
      "Best parameters set:\n",
      "[('tfidf', TfidfVectorizer(analyzer=u'word', binary=False, decode_error=u'strict',\n",
      "        dtype=<type 'numpy.float64'>, encoding=u'utf-8', input=u'content',\n",
      "        lowercase=True, max_df=0.5, max_features=None, min_df=2,\n",
      "        ngram_range=(1, 2), norm=u'l2', preprocessor=None, smooth_idf=True,\n",
      "        stop_words=None, strip_accents=None, sublinear_tf=False,\n",
      "        token_pattern=u'(?u)\\\\b\\\\w\\\\w+\\\\b', tokenizer=None, use_idf=True,\n",
      "        vocabulary=None)), ('clf', LinearSVC(C=5, class_weight='balanced', dual=True, fit_intercept=True,\n",
      "     intercept_scaling=1, loss='squared_hinge', max_iter=1000,\n",
      "     multi_class='ovr', penalty='l2', random_state=None, tol=0.0001,\n",
      "     verbose=0))]\n",
      "Applying best classifier on test data:\n"
     ]
    },
    {
     "name": "stderr",
     "output_type": "stream",
     "text": [
      "/anaconda2/envs/problemsClassifierEnv/lib/python2.7/site-packages/sklearn/metrics/classification.py:1143: UndefinedMetricWarning: Precision and F-score are ill-defined and being set to 0.0 in labels with no predicted samples.\n",
      "  'precision', 'predicted', average, warn_for)\n",
      "/anaconda2/envs/problemsClassifierEnv/lib/python2.7/site-packages/sklearn/metrics/classification.py:1145: UndefinedMetricWarning: Recall and F-score are ill-defined and being set to 0.0 in labels with no true samples.\n",
      "  'recall', 'true', average, warn_for)\n",
      "/anaconda2/envs/problemsClassifierEnv/lib/python2.7/site-packages/sklearn/metrics/classification.py:1143: UndefinedMetricWarning: Precision and F-score are ill-defined and being set to 0.0 in labels with no predicted samples.\n",
      "  'precision', 'predicted', average, warn_for)\n",
      "/anaconda2/envs/problemsClassifierEnv/lib/python2.7/site-packages/sklearn/metrics/classification.py:1145: UndefinedMetricWarning: Recall and F-score are ill-defined and being set to 0.0 in labels with no true samples.\n",
      "  'recall', 'true', average, warn_for)\n",
      "/anaconda2/envs/problemsClassifierEnv/lib/python2.7/site-packages/sklearn/metrics/classification.py:1143: UndefinedMetricWarning: Precision and F-score are ill-defined and being set to 0.0 in labels with no predicted samples.\n",
      "  'precision', 'predicted', average, warn_for)\n",
      "/anaconda2/envs/problemsClassifierEnv/lib/python2.7/site-packages/sklearn/metrics/classification.py:1145: UndefinedMetricWarning: Recall and F-score are ill-defined and being set to 0.0 in labels with no true samples.\n",
      "  'recall', 'true', average, warn_for)\n",
      "/anaconda2/envs/problemsClassifierEnv/lib/python2.7/site-packages/sklearn/metrics/classification.py:1143: UndefinedMetricWarning: Precision and F-score are ill-defined and being set to 0.0 in samples with no predicted labels.\n",
      "  'precision', 'predicted', average, warn_for)\n",
      "/anaconda2/envs/problemsClassifierEnv/lib/python2.7/site-packages/sklearn/metrics/classification.py:1145: UndefinedMetricWarning: Recall and F-score are ill-defined and being set to 0.0 in samples with no true labels.\n",
      "  'recall', 'true', average, warn_for)\n",
      "[Parallel(n_jobs=1)]: Using backend SequentialBackend with 1 concurrent workers.\n"
     ]
    },
    {
     "name": "stdout",
     "output_type": "stream",
     "text": [
      "[u'Two Pointers', u'Recursion', u'Minimax', u'Sliding Window', u'Math', u'Sort', u'Map', u'String', u'Greedy', u'Union Find', u'Heap', u'Graph', u'Binary Search', u'Stack', u'Binary Indexed Tree', u'Hash Table', u'Divide and Conquer', u'Tree', u'Memoization', u'Binary Search Tree', u'Queue', u'Linked List', u'Dynamic Programming', u'Topological Sort', u'Breadth-first Search', u'Trie', u'Random', u'Searching', u'Design', u'Bit Manipulation', u'Segment Tree', u'Array', u'Depth-first Search', u'Backtracking']\n",
      "*****************\n",
      "[u'Two Pointers', u'Recursion', u'Minimax', u'Sliding Window', u'Math', u'Sort', u'Map', u'String', u'Greedy', u'Union Find', u'Heap', u'Graph', u'Binary Search', u'Stack', u'Binary Indexed Tree', u'Hash Table', u'Divide and Conquer', u'Tree', u'Memoization', u'Binary Search Tree', u'Queue', u'Linked List', u'Dynamic Programming', u'Topological Sort', u'Breadth-first Search', u'Trie', u'Random', u'Searching', u'Design', u'Bit Manipulation', u'Segment Tree', u'Array', u'Depth-first Search', u'Backtracking']\n",
      "*****************\n",
      "[u'Two Pointers', u'Recursion', u'Minimax', u'Sliding Window', u'Math', u'Sort', u'Map', u'String', u'Greedy', u'Union Find', u'Heap', u'Graph', u'Binary Search', u'Stack', u'Binary Indexed Tree', u'Hash Table', u'Divide and Conquer', u'Tree', u'Memoization', u'Binary Search Tree', u'Queue', u'Linked List', u'Dynamic Programming', u'Topological Sort', u'Breadth-first Search', u'Trie', u'Random', u'Searching', u'Design', u'Bit Manipulation', u'Segment Tree', u'Array', u'Depth-first Search', u'Backtracking']\n",
      "*****************\n",
      "[u'Two Pointers', u'Recursion', u'Minimax', u'Sliding Window', u'Math', u'Sort', u'Map', u'String', u'Greedy', u'Union Find', u'Heap', u'Graph', u'Binary Search', u'Stack', u'Binary Indexed Tree', u'Hash Table', u'Divide and Conquer', u'Tree', u'Memoization', u'Binary Search Tree', u'Queue', u'Linked List', u'Dynamic Programming', u'Topological Sort', u'Breadth-first Search', u'Trie', u'Random', u'Searching', u'Design', u'Bit Manipulation', u'Segment Tree', u'Array', u'Depth-first Search', u'Backtracking']\n",
      "*****************\n",
      "[u'Two Pointers', u'Recursion', u'Minimax', u'Sliding Window', u'Math', u'Sort', u'Map', u'String', u'Greedy', u'Union Find', u'Heap', u'Graph', u'Binary Search', u'Stack', u'Binary Indexed Tree', u'Hash Table', u'Divide and Conquer', u'Tree', u'Memoization', u'Binary Search Tree', u'Queue', u'Linked List', u'Dynamic Programming', u'Topological Sort', u'Breadth-first Search', u'Trie', u'Random', u'Searching', u'Design', u'Bit Manipulation', u'Segment Tree', u'Array', u'Depth-first Search', u'Backtracking']\n",
      "*****************\n",
      "[u'Two Pointers', u'Recursion', u'Minimax', u'Sliding Window', u'Math', u'Sort', u'Map', u'String', u'Greedy', u'Union Find', u'Heap', u'Graph', u'Binary Search', u'Stack', u'Binary Indexed Tree', u'Hash Table', u'Divide and Conquer', u'Tree', u'Memoization', u'Binary Search Tree', u'Queue', u'Linked List', u'Dynamic Programming', u'Topological Sort', u'Breadth-first Search', u'Trie', u'Random', u'Searching', u'Design', u'Bit Manipulation', u'Segment Tree', u'Array', u'Depth-first Search', u'Backtracking']\n",
      "*****************\n",
      "[u'Two Pointers', u'Recursion', u'Minimax', u'Sliding Window', u'Math', u'Sort', u'Map', u'String', u'Greedy', u'Union Find', u'Heap', u'Graph', u'Binary Search', u'Stack', u'Binary Indexed Tree', u'Hash Table', u'Divide and Conquer', u'Tree', u'Memoization', u'Binary Search Tree', u'Queue', u'Linked List', u'Dynamic Programming', u'Topological Sort', u'Breadth-first Search', u'Trie', u'Random', u'Searching', u'Design', u'Bit Manipulation', u'Segment Tree', u'Array', u'Depth-first Search', u'Backtracking']\n",
      "*****************\n",
      "[u'Two Pointers', u'Recursion', u'Minimax', u'Sliding Window', u'Math', u'Sort', u'Map', u'String', u'Greedy', u'Union Find', u'Heap', u'Graph', u'Binary Search', u'Stack', u'Binary Indexed Tree', u'Hash Table', u'Divide and Conquer', u'Tree', u'Memoization', u'Binary Search Tree', u'Queue', u'Linked List', u'Dynamic Programming', u'Topological Sort', u'Breadth-first Search', u'Trie', u'Random', u'Searching', u'Design', u'Bit Manipulation', u'Segment Tree', u'Array', u'Depth-first Search', u'Backtracking']\n",
      "*****************\n",
      "[u'Two Pointers', u'Recursion', u'Minimax', u'Sliding Window', u'Math', u'Sort', u'Map', u'String', u'Greedy', u'Union Find', u'Heap', u'Graph', u'Binary Search', u'Stack', u'Binary Indexed Tree', u'Hash Table', u'Divide and Conquer', u'Tree', u'Memoization', u'Binary Search Tree', u'Queue', u'Linked List', u'Dynamic Programming', u'Topological Sort', u'Breadth-first Search', u'Trie', u'Random', u'Searching', u'Design', u'Bit Manipulation', u'Segment Tree', u'Array', u'Depth-first Search', u'Backtracking']\n",
      "*****************\n",
      "[u'Two Pointers', u'Recursion', u'Minimax', u'Sliding Window', u'Math', u'Sort', u'Map', u'String', u'Greedy', u'Union Find', u'Heap', u'Graph', u'Binary Search', u'Stack', u'Binary Indexed Tree', u'Hash Table', u'Divide and Conquer', u'Tree', u'Memoization', u'Binary Search Tree', u'Queue', u'Linked List', u'Dynamic Programming', u'Topological Sort', u'Breadth-first Search', u'Trie', u'Random', u'Searching', u'Design', u'Bit Manipulation', u'Segment Tree', u'Array', u'Depth-first Search', u'Backtracking']\n",
      "*****************\n",
      "[u'Two Pointers', u'Recursion', u'Minimax', u'Sliding Window', u'Math', u'Sort', u'Map', u'String', u'Greedy', u'Union Find', u'Heap', u'Graph', u'Binary Search', u'Stack', u'Binary Indexed Tree', u'Hash Table', u'Divide and Conquer', u'Tree', u'Memoization', u'Binary Search Tree', u'Queue', u'Linked List', u'Dynamic Programming', u'Topological Sort', u'Breadth-first Search', u'Trie', u'Random', u'Searching', u'Design', u'Bit Manipulation', u'Segment Tree', u'Array', u'Depth-first Search', u'Backtracking']\n",
      "*****************\n",
      "[u'Two Pointers', u'Recursion', u'Minimax', u'Sliding Window', u'Math', u'Sort', u'Map', u'String', u'Greedy', u'Union Find', u'Heap', u'Graph', u'Binary Search', u'Stack', u'Binary Indexed Tree', u'Hash Table', u'Divide and Conquer', u'Tree', u'Memoization', u'Binary Search Tree', u'Queue', u'Linked List', u'Dynamic Programming', u'Topological Sort', u'Breadth-first Search', u'Trie', u'Random', u'Searching', u'Design', u'Bit Manipulation', u'Segment Tree', u'Array', u'Depth-first Search', u'Backtracking']\n",
      "*****************\n",
      "[u'Two Pointers', u'Recursion', u'Minimax', u'Sliding Window', u'Math', u'Sort', u'Map', u'String', u'Greedy', u'Union Find', u'Heap', u'Graph', u'Binary Search', u'Stack', u'Binary Indexed Tree', u'Hash Table', u'Divide and Conquer', u'Tree', u'Memoization', u'Binary Search Tree', u'Queue', u'Linked List', u'Dynamic Programming', u'Topological Sort', u'Breadth-first Search', u'Trie', u'Random', u'Searching', u'Design', u'Bit Manipulation', u'Segment Tree', u'Array', u'Depth-first Search', u'Backtracking']\n",
      "*****************\n",
      "[u'Two Pointers', u'Recursion', u'Minimax', u'Sliding Window', u'Math', u'Sort', u'Map', u'String', u'Greedy', u'Union Find', u'Heap', u'Graph', u'Binary Search', u'Stack', u'Binary Indexed Tree', u'Hash Table', u'Divide and Conquer', u'Tree', u'Memoization', u'Binary Search Tree', u'Queue', u'Linked List', u'Dynamic Programming', u'Topological Sort', u'Breadth-first Search', u'Trie', u'Random', u'Searching', u'Design', u'Bit Manipulation', u'Segment Tree', u'Array', u'Depth-first Search', u'Backtracking']\n",
      "*****************\n",
      "[u'Two Pointers', u'Recursion', u'Minimax', u'Sliding Window', u'Math', u'Sort', u'Map', u'String', u'Greedy', u'Union Find', u'Heap', u'Graph', u'Binary Search', u'Stack', u'Binary Indexed Tree', u'Hash Table', u'Divide and Conquer', u'Tree', u'Memoization', u'Binary Search Tree', u'Queue', u'Linked List', u'Dynamic Programming', u'Topological Sort', u'Breadth-first Search', u'Trie', u'Random', u'Searching', u'Design', u'Bit Manipulation', u'Segment Tree', u'Array', u'Depth-first Search', u'Backtracking']\n",
      "*****************\n",
      "[u'Two Pointers', u'Recursion', u'Minimax', u'Sliding Window', u'Math', u'Sort', u'Map', u'String', u'Greedy', u'Union Find', u'Heap', u'Graph', u'Binary Search', u'Stack', u'Binary Indexed Tree', u'Hash Table', u'Divide and Conquer', u'Tree', u'Memoization', u'Binary Search Tree', u'Queue', u'Linked List', u'Dynamic Programming', u'Topological Sort', u'Breadth-first Search', u'Trie', u'Random', u'Searching', u'Design', u'Bit Manipulation', u'Segment Tree', u'Array', u'Depth-first Search', u'Backtracking']\n",
      "*****************\n",
      "[u'Two Pointers', u'Recursion', u'Minimax', u'Sliding Window', u'Math', u'Sort', u'Map', u'String', u'Greedy', u'Union Find', u'Heap', u'Graph', u'Binary Search', u'Stack', u'Binary Indexed Tree', u'Hash Table', u'Divide and Conquer', u'Tree', u'Memoization', u'Binary Search Tree', u'Queue', u'Linked List', u'Dynamic Programming', u'Topological Sort', u'Breadth-first Search', u'Trie', u'Random', u'Searching', u'Design', u'Bit Manipulation', u'Segment Tree', u'Array', u'Depth-first Search', u'Backtracking']\n",
      "*****************\n",
      "[u'Two Pointers', u'Recursion', u'Minimax', u'Sliding Window', u'Math', u'Sort', u'Map', u'String', u'Greedy', u'Union Find', u'Heap', u'Graph', u'Binary Search', u'Stack', u'Binary Indexed Tree', u'Hash Table', u'Divide and Conquer', u'Tree', u'Memoization', u'Binary Search Tree', u'Queue', u'Linked List', u'Dynamic Programming', u'Topological Sort', u'Breadth-first Search', u'Trie', u'Random', u'Searching', u'Design', u'Bit Manipulation', u'Segment Tree', u'Array', u'Depth-first Search', u'Backtracking']\n",
      "*****************\n",
      "[u'Two Pointers', u'Recursion', u'Minimax', u'Sliding Window', u'Math', u'Sort', u'Map', u'String', u'Greedy', u'Union Find', u'Heap', u'Graph', u'Binary Search', u'Stack', u'Binary Indexed Tree', u'Hash Table', u'Divide and Conquer', u'Tree', u'Memoization', u'Binary Search Tree', u'Queue', u'Linked List', u'Dynamic Programming', u'Topological Sort', u'Breadth-first Search', u'Trie', u'Random', u'Searching', u'Design', u'Bit Manipulation', u'Segment Tree', u'Array', u'Depth-first Search', u'Backtracking']\n",
      "*****************\n",
      "[u'Two Pointers', u'Recursion', u'Minimax', u'Sliding Window', u'Math', u'Sort', u'Map', u'String', u'Greedy', u'Union Find', u'Heap', u'Graph', u'Binary Search', u'Stack', u'Binary Indexed Tree', u'Hash Table', u'Divide and Conquer', u'Tree', u'Memoization', u'Binary Search Tree', u'Queue', u'Linked List', u'Dynamic Programming', u'Topological Sort', u'Breadth-first Search', u'Trie', u'Random', u'Searching', u'Design', u'Bit Manipulation', u'Segment Tree', u'Array', u'Depth-first Search', u'Backtracking']\n",
      "*****************\n",
      "[u'Two Pointers', u'Recursion', u'Minimax', u'Sliding Window', u'Math', u'Sort', u'Map', u'String', u'Greedy', u'Union Find', u'Heap', u'Graph', u'Binary Search', u'Stack', u'Binary Indexed Tree', u'Hash Table', u'Divide and Conquer', u'Tree', u'Memoization', u'Binary Search Tree', u'Queue', u'Linked List', u'Dynamic Programming', u'Topological Sort', u'Breadth-first Search', u'Trie', u'Random', u'Searching', u'Design', u'Bit Manipulation', u'Segment Tree', u'Array', u'Depth-first Search', u'Backtracking']\n",
      "*****************\n",
      "[u'Two Pointers', u'Recursion', u'Minimax', u'Sliding Window', u'Math', u'Sort', u'Map', u'String', u'Greedy', u'Union Find', u'Heap', u'Graph', u'Binary Search', u'Stack', u'Binary Indexed Tree', u'Hash Table', u'Divide and Conquer', u'Tree', u'Memoization', u'Binary Search Tree', u'Queue', u'Linked List', u'Dynamic Programming', u'Topological Sort', u'Breadth-first Search', u'Trie', u'Random', u'Searching', u'Design', u'Bit Manipulation', u'Segment Tree', u'Array', u'Depth-first Search', u'Backtracking']\n",
      "*****************\n",
      "[u'Two Pointers', u'Recursion', u'Minimax', u'Sliding Window', u'Math', u'Sort', u'Map', u'String', u'Greedy', u'Union Find', u'Heap', u'Graph', u'Binary Search', u'Stack', u'Binary Indexed Tree', u'Hash Table', u'Divide and Conquer', u'Tree', u'Memoization', u'Binary Search Tree', u'Queue', u'Linked List', u'Dynamic Programming', u'Topological Sort', u'Breadth-first Search', u'Trie', u'Random', u'Searching', u'Design', u'Bit Manipulation', u'Segment Tree', u'Array', u'Depth-first Search', u'Backtracking']\n",
      "*****************\n",
      "[u'Two Pointers', u'Recursion', u'Minimax', u'Sliding Window', u'Math', u'Sort', u'Map', u'String', u'Greedy', u'Union Find', u'Heap', u'Graph', u'Binary Search', u'Stack', u'Binary Indexed Tree', u'Hash Table', u'Divide and Conquer', u'Tree', u'Memoization', u'Binary Search Tree', u'Queue', u'Linked List', u'Dynamic Programming', u'Topological Sort', u'Breadth-first Search', u'Trie', u'Random', u'Searching', u'Design', u'Bit Manipulation', u'Segment Tree', u'Array', u'Depth-first Search', u'Backtracking']\n",
      "*****************\n",
      "[u'Two Pointers', u'Recursion', u'Minimax', u'Sliding Window', u'Math', u'Sort', u'Map', u'String', u'Greedy', u'Union Find', u'Heap', u'Graph', u'Binary Search', u'Stack', u'Binary Indexed Tree', u'Hash Table', u'Divide and Conquer', u'Tree', u'Memoization', u'Binary Search Tree', u'Queue', u'Linked List', u'Dynamic Programming', u'Topological Sort', u'Breadth-first Search', u'Trie', u'Random', u'Searching', u'Design', u'Bit Manipulation', u'Segment Tree', u'Array', u'Depth-first Search', u'Backtracking']\n",
      "*****************\n",
      "[u'Two Pointers', u'Recursion', u'Minimax', u'Sliding Window', u'Math', u'Sort', u'Map', u'String', u'Greedy', u'Union Find', u'Heap', u'Graph', u'Binary Search', u'Stack', u'Binary Indexed Tree', u'Hash Table', u'Divide and Conquer', u'Tree', u'Memoization', u'Binary Search Tree', u'Queue', u'Linked List', u'Dynamic Programming', u'Topological Sort', u'Breadth-first Search', u'Trie', u'Random', u'Searching', u'Design', u'Bit Manipulation', u'Segment Tree', u'Array', u'Depth-first Search', u'Backtracking']\n",
      "*****************\n",
      "[u'Two Pointers', u'Recursion', u'Minimax', u'Sliding Window', u'Math', u'Sort', u'Map', u'String', u'Greedy', u'Union Find', u'Heap', u'Graph', u'Binary Search', u'Stack', u'Binary Indexed Tree', u'Hash Table', u'Divide and Conquer', u'Tree', u'Memoization', u'Binary Search Tree', u'Queue', u'Linked List', u'Dynamic Programming', u'Topological Sort', u'Breadth-first Search', u'Trie', u'Random', u'Searching', u'Design', u'Bit Manipulation', u'Segment Tree', u'Array', u'Depth-first Search', u'Backtracking']\n",
      "*****************\n",
      "[u'Two Pointers', u'Recursion', u'Minimax', u'Sliding Window', u'Math', u'Sort', u'Map', u'String', u'Greedy', u'Union Find', u'Heap', u'Graph', u'Binary Search', u'Stack', u'Binary Indexed Tree', u'Hash Table', u'Divide and Conquer', u'Tree', u'Memoization', u'Binary Search Tree', u'Queue', u'Linked List', u'Dynamic Programming', u'Topological Sort', u'Breadth-first Search', u'Trie', u'Random', u'Searching', u'Design', u'Bit Manipulation', u'Segment Tree', u'Array', u'Depth-first Search', u'Backtracking']\n",
      "*****************\n",
      "[u'Two Pointers', u'Recursion', u'Minimax', u'Sliding Window', u'Math', u'Sort', u'Map', u'String', u'Greedy', u'Union Find', u'Heap', u'Graph', u'Binary Search', u'Stack', u'Binary Indexed Tree', u'Hash Table', u'Divide and Conquer', u'Tree', u'Memoization', u'Binary Search Tree', u'Queue', u'Linked List', u'Dynamic Programming', u'Topological Sort', u'Breadth-first Search', u'Trie', u'Random', u'Searching', u'Design', u'Bit Manipulation', u'Segment Tree', u'Array', u'Depth-first Search', u'Backtracking']\n",
      "*****************\n",
      "[u'Two Pointers', u'Recursion', u'Minimax', u'Sliding Window', u'Math', u'Sort', u'Map', u'String', u'Greedy', u'Union Find', u'Heap', u'Graph', u'Binary Search', u'Stack', u'Binary Indexed Tree', u'Hash Table', u'Divide and Conquer', u'Tree', u'Memoization', u'Binary Search Tree', u'Queue', u'Linked List', u'Dynamic Programming', u'Topological Sort', u'Breadth-first Search', u'Trie', u'Random', u'Searching', u'Design', u'Bit Manipulation', u'Segment Tree', u'Array', u'Depth-first Search', u'Backtracking']\n",
      "*****************\n",
      "[u'Two Pointers', u'Recursion', u'Minimax', u'Sliding Window', u'Math', u'Sort', u'Map', u'String', u'Greedy', u'Union Find', u'Heap', u'Graph', u'Binary Search', u'Stack', u'Binary Indexed Tree', u'Hash Table', u'Divide and Conquer', u'Tree', u'Memoization', u'Binary Search Tree', u'Queue', u'Linked List', u'Dynamic Programming', u'Topological Sort', u'Breadth-first Search', u'Trie', u'Random', u'Searching', u'Design', u'Bit Manipulation', u'Segment Tree', u'Array', u'Depth-first Search', u'Backtracking']\n",
      "*****************\n",
      "[u'Two Pointers', u'Recursion', u'Minimax', u'Sliding Window', u'Math', u'Sort', u'Map', u'String', u'Greedy', u'Union Find', u'Heap', u'Graph', u'Binary Search', u'Stack', u'Binary Indexed Tree', u'Hash Table', u'Divide and Conquer', u'Tree', u'Memoization', u'Binary Search Tree', u'Queue', u'Linked List', u'Dynamic Programming', u'Topological Sort', u'Breadth-first Search', u'Trie', u'Random', u'Searching', u'Design', u'Bit Manipulation', u'Segment Tree', u'Array', u'Depth-first Search', u'Backtracking']\n",
      "*****************\n",
      "[u'Two Pointers', u'Recursion', u'Minimax', u'Sliding Window', u'Math', u'Sort', u'Map', u'String', u'Greedy', u'Union Find', u'Heap', u'Graph', u'Binary Search', u'Stack', u'Binary Indexed Tree', u'Hash Table', u'Divide and Conquer', u'Tree', u'Memoization', u'Binary Search Tree', u'Queue', u'Linked List', u'Dynamic Programming', u'Topological Sort', u'Breadth-first Search', u'Trie', u'Random', u'Searching', u'Design', u'Bit Manipulation', u'Segment Tree', u'Array', u'Depth-first Search', u'Backtracking']\n",
      "*****************\n",
      "[u'Two Pointers', u'Recursion', u'Minimax', u'Sliding Window', u'Math', u'Sort', u'Map', u'String', u'Greedy', u'Union Find', u'Heap', u'Graph', u'Binary Search', u'Stack', u'Binary Indexed Tree', u'Hash Table', u'Divide and Conquer', u'Tree', u'Memoization', u'Binary Search Tree', u'Queue', u'Linked List', u'Dynamic Programming', u'Topological Sort', u'Breadth-first Search', u'Trie', u'Random', u'Searching', u'Design', u'Bit Manipulation', u'Segment Tree', u'Array', u'Depth-first Search', u'Backtracking']\n",
      "*****************\n",
      "Fitting 2 folds for each of 5 candidates, totalling 10 fits\n",
      "[CV] tfidf__max_df=0.5, clf__C=5, tfidf__ngram_range=(1, 2), tfidf__min_df=2 \n"
     ]
    },
    {
     "name": "stdout",
     "output_type": "stream",
     "text": [
      "[CV]  tfidf__max_df=0.5, clf__C=5, tfidf__ngram_range=(1, 2), tfidf__min_df=2, score=0, total=   1.1s\n",
      "[CV] tfidf__max_df=0.5, clf__C=5, tfidf__ngram_range=(1, 2), tfidf__min_df=2 \n"
     ]
    },
    {
     "name": "stderr",
     "output_type": "stream",
     "text": [
      "[Parallel(n_jobs=1)]: Done   1 out of   1 | elapsed:    1.3s remaining:    0.0s\n"
     ]
    },
    {
     "name": "stdout",
     "output_type": "stream",
     "text": [
      "[CV]  tfidf__max_df=0.5, clf__C=5, tfidf__ngram_range=(1, 2), tfidf__min_df=2, score=0, total=   1.5s\n",
      "[CV] tfidf__max_df=0.5, clf__C=10, tfidf__ngram_range=(1, 2), tfidf__min_df=2 \n"
     ]
    },
    {
     "name": "stderr",
     "output_type": "stream",
     "text": [
      "[Parallel(n_jobs=1)]: Done   2 out of   2 | elapsed:    3.2s remaining:    0.0s\n"
     ]
    },
    {
     "name": "stdout",
     "output_type": "stream",
     "text": [
      "[CV]  tfidf__max_df=0.5, clf__C=10, tfidf__ngram_range=(1, 2), tfidf__min_df=2, score=0, total=   1.1s\n",
      "[CV] tfidf__max_df=0.5, clf__C=10, tfidf__ngram_range=(1, 2), tfidf__min_df=2 \n"
     ]
    },
    {
     "name": "stderr",
     "output_type": "stream",
     "text": [
      "[Parallel(n_jobs=1)]: Done   3 out of   3 | elapsed:    4.6s remaining:    0.0s\n"
     ]
    },
    {
     "name": "stdout",
     "output_type": "stream",
     "text": [
      "[CV]  tfidf__max_df=0.5, clf__C=10, tfidf__ngram_range=(1, 2), tfidf__min_df=2, score=0, total=   1.5s\n",
      "[CV] tfidf__max_df=0.5, clf__C=20, tfidf__ngram_range=(1, 2), tfidf__min_df=2 \n"
     ]
    },
    {
     "name": "stderr",
     "output_type": "stream",
     "text": [
      "[Parallel(n_jobs=1)]: Done   4 out of   4 | elapsed:    6.5s remaining:    0.0s\n"
     ]
    },
    {
     "name": "stdout",
     "output_type": "stream",
     "text": [
      "[CV]  tfidf__max_df=0.5, clf__C=20, tfidf__ngram_range=(1, 2), tfidf__min_df=2, score=0, total=   1.1s\n",
      "[CV] tfidf__max_df=0.5, clf__C=20, tfidf__ngram_range=(1, 2), tfidf__min_df=2 \n"
     ]
    },
    {
     "name": "stderr",
     "output_type": "stream",
     "text": [
      "[Parallel(n_jobs=1)]: Done   5 out of   5 | elapsed:    7.9s remaining:    0.0s\n",
      "/anaconda2/envs/problemsClassifierEnv/lib/python2.7/site-packages/sklearn/svm/base.py:931: ConvergenceWarning: Liblinear failed to converge, increase the number of iterations.\n",
      "  \"the number of iterations.\", ConvergenceWarning)\n"
     ]
    },
    {
     "name": "stdout",
     "output_type": "stream",
     "text": [
      "[CV]  tfidf__max_df=0.5, clf__C=20, tfidf__ngram_range=(1, 2), tfidf__min_df=2, score=0, total=   1.7s\n",
      "[CV] tfidf__max_df=0.5, clf__C=50, tfidf__ngram_range=(1, 2), tfidf__min_df=2 \n"
     ]
    },
    {
     "name": "stderr",
     "output_type": "stream",
     "text": [
      "[Parallel(n_jobs=1)]: Done   6 out of   6 | elapsed:   10.1s remaining:    0.0s\n"
     ]
    },
    {
     "name": "stdout",
     "output_type": "stream",
     "text": [
      "[CV]  tfidf__max_df=0.5, clf__C=50, tfidf__ngram_range=(1, 2), tfidf__min_df=2, score=0, total=   1.2s\n",
      "[CV] tfidf__max_df=0.5, clf__C=50, tfidf__ngram_range=(1, 2), tfidf__min_df=2 \n"
     ]
    },
    {
     "name": "stderr",
     "output_type": "stream",
     "text": [
      "[Parallel(n_jobs=1)]: Done   7 out of   7 | elapsed:   11.6s remaining:    0.0s\n",
      "/anaconda2/envs/problemsClassifierEnv/lib/python2.7/site-packages/sklearn/svm/base.py:931: ConvergenceWarning: Liblinear failed to converge, increase the number of iterations.\n",
      "  \"the number of iterations.\", ConvergenceWarning)\n"
     ]
    },
    {
     "name": "stdout",
     "output_type": "stream",
     "text": [
      "[CV]  tfidf__max_df=0.5, clf__C=50, tfidf__ngram_range=(1, 2), tfidf__min_df=2, score=0, total=   1.9s\n",
      "[CV] tfidf__max_df=0.5, clf__C=100, tfidf__ngram_range=(1, 2), tfidf__min_df=2 \n"
     ]
    },
    {
     "name": "stderr",
     "output_type": "stream",
     "text": [
      "[Parallel(n_jobs=1)]: Done   8 out of   8 | elapsed:   14.0s remaining:    0.0s\n"
     ]
    },
    {
     "name": "stdout",
     "output_type": "stream",
     "text": [
      "[CV]  tfidf__max_df=0.5, clf__C=100, tfidf__ngram_range=(1, 2), tfidf__min_df=2, score=0, total=   1.2s\n",
      "[CV] tfidf__max_df=0.5, clf__C=100, tfidf__ngram_range=(1, 2), tfidf__min_df=2 \n"
     ]
    },
    {
     "name": "stderr",
     "output_type": "stream",
     "text": [
      "[Parallel(n_jobs=1)]: Done   9 out of   9 | elapsed:   15.5s remaining:    0.0s\n",
      "/anaconda2/envs/problemsClassifierEnv/lib/python2.7/site-packages/sklearn/svm/base.py:931: ConvergenceWarning: Liblinear failed to converge, increase the number of iterations.\n",
      "  \"the number of iterations.\", ConvergenceWarning)\n"
     ]
    },
    {
     "name": "stdout",
     "output_type": "stream",
     "text": [
      "[CV]  tfidf__max_df=0.5, clf__C=100, tfidf__ngram_range=(1, 2), tfidf__min_df=2, score=0, total=   1.9s\n"
     ]
    },
    {
     "name": "stderr",
     "output_type": "stream",
     "text": [
      "[Parallel(n_jobs=1)]: Done  10 out of  10 | elapsed:   17.9s finished\n"
     ]
    },
    {
     "name": "stdout",
     "output_type": "stream",
     "text": [
      "Best parameters set:\n",
      "[('tfidf', TfidfVectorizer(analyzer=u'word', binary=False, decode_error=u'strict',\n",
      "        dtype=<type 'numpy.float64'>, encoding=u'utf-8', input=u'content',\n",
      "        lowercase=True, max_df=0.5, max_features=None, min_df=2,\n",
      "        ngram_range=(1, 2), norm=u'l2', preprocessor=None, smooth_idf=True,\n",
      "        stop_words=None, strip_accents=None, sublinear_tf=False,\n",
      "        token_pattern=u'(?u)\\\\b\\\\w\\\\w+\\\\b', tokenizer=None, use_idf=True,\n",
      "        vocabulary=None)), ('clf', LinearSVC(C=5, class_weight='balanced', dual=True, fit_intercept=True,\n",
      "     intercept_scaling=1, loss='squared_hinge', max_iter=1000,\n",
      "     multi_class='ovr', penalty='l2', random_state=None, tol=0.0001,\n",
      "     verbose=0))]\n",
      "Applying best classifier on test data:\n"
     ]
    },
    {
     "name": "stderr",
     "output_type": "stream",
     "text": [
      "/anaconda2/envs/problemsClassifierEnv/lib/python2.7/site-packages/sklearn/metrics/classification.py:1143: UndefinedMetricWarning: Precision and F-score are ill-defined and being set to 0.0 in labels with no predicted samples.\n",
      "  'precision', 'predicted', average, warn_for)\n",
      "/anaconda2/envs/problemsClassifierEnv/lib/python2.7/site-packages/sklearn/metrics/classification.py:1145: UndefinedMetricWarning: Recall and F-score are ill-defined and being set to 0.0 in labels with no true samples.\n",
      "  'recall', 'true', average, warn_for)\n",
      "/anaconda2/envs/problemsClassifierEnv/lib/python2.7/site-packages/sklearn/metrics/classification.py:1143: UndefinedMetricWarning: Precision and F-score are ill-defined and being set to 0.0 in labels with no predicted samples.\n",
      "  'precision', 'predicted', average, warn_for)\n",
      "/anaconda2/envs/problemsClassifierEnv/lib/python2.7/site-packages/sklearn/metrics/classification.py:1145: UndefinedMetricWarning: Recall and F-score are ill-defined and being set to 0.0 in labels with no true samples.\n",
      "  'recall', 'true', average, warn_for)\n",
      "/anaconda2/envs/problemsClassifierEnv/lib/python2.7/site-packages/sklearn/metrics/classification.py:1143: UndefinedMetricWarning: Precision and F-score are ill-defined and being set to 0.0 in labels with no predicted samples.\n",
      "  'precision', 'predicted', average, warn_for)\n",
      "/anaconda2/envs/problemsClassifierEnv/lib/python2.7/site-packages/sklearn/metrics/classification.py:1145: UndefinedMetricWarning: Recall and F-score are ill-defined and being set to 0.0 in labels with no true samples.\n",
      "  'recall', 'true', average, warn_for)\n",
      "/anaconda2/envs/problemsClassifierEnv/lib/python2.7/site-packages/sklearn/metrics/classification.py:1143: UndefinedMetricWarning: Precision and F-score are ill-defined and being set to 0.0 in samples with no predicted labels.\n",
      "  'precision', 'predicted', average, warn_for)\n",
      "/anaconda2/envs/problemsClassifierEnv/lib/python2.7/site-packages/sklearn/metrics/classification.py:1145: UndefinedMetricWarning: Recall and F-score are ill-defined and being set to 0.0 in samples with no true labels.\n",
      "  'recall', 'true', average, warn_for)\n",
      "[Parallel(n_jobs=1)]: Using backend SequentialBackend with 1 concurrent workers.\n"
     ]
    },
    {
     "name": "stdout",
     "output_type": "stream",
     "text": [
      "[u'Two Pointers', u'Recursion', u'Minimax', u'Sliding Window', u'Math', u'Sort', u'Map', u'String', u'Greedy', u'Union Find', u'Heap', u'Graph', u'Binary Search', u'Stack', u'Binary Indexed Tree', u'Hash Table', u'Divide and Conquer', u'Tree', u'Memoization', u'Binary Search Tree', u'Queue', u'Linked List', u'Dynamic Programming', u'Topological Sort', u'Breadth-first Search', u'Trie', u'Random', u'Searching', u'Design', u'Bit Manipulation', u'Segment Tree', u'Array', u'Depth-first Search', u'Backtracking']\n",
      "*****************\n",
      "[u'Two Pointers', u'Recursion', u'Minimax', u'Sliding Window', u'Math', u'Sort', u'Map', u'String', u'Greedy', u'Union Find', u'Heap', u'Graph', u'Binary Search', u'Stack', u'Binary Indexed Tree', u'Hash Table', u'Divide and Conquer', u'Tree', u'Memoization', u'Binary Search Tree', u'Queue', u'Linked List', u'Dynamic Programming', u'Topological Sort', u'Breadth-first Search', u'Trie', u'Random', u'Searching', u'Design', u'Bit Manipulation', u'Segment Tree', u'Array', u'Depth-first Search', u'Backtracking']\n",
      "*****************\n",
      "[u'Two Pointers', u'Recursion', u'Minimax', u'Sliding Window', u'Math', u'Sort', u'Map', u'String', u'Greedy', u'Union Find', u'Heap', u'Graph', u'Binary Search', u'Stack', u'Binary Indexed Tree', u'Hash Table', u'Divide and Conquer', u'Tree', u'Memoization', u'Binary Search Tree', u'Queue', u'Linked List', u'Dynamic Programming', u'Topological Sort', u'Breadth-first Search', u'Trie', u'Random', u'Searching', u'Design', u'Bit Manipulation', u'Segment Tree', u'Array', u'Depth-first Search', u'Backtracking']\n",
      "*****************\n",
      "[u'Two Pointers', u'Recursion', u'Minimax', u'Sliding Window', u'Math', u'Sort', u'Map', u'String', u'Greedy', u'Union Find', u'Heap', u'Graph', u'Binary Search', u'Stack', u'Binary Indexed Tree', u'Hash Table', u'Divide and Conquer', u'Tree', u'Memoization', u'Binary Search Tree', u'Queue', u'Linked List', u'Dynamic Programming', u'Topological Sort', u'Breadth-first Search', u'Trie', u'Random', u'Searching', u'Design', u'Bit Manipulation', u'Segment Tree', u'Array', u'Depth-first Search', u'Backtracking']\n",
      "*****************\n",
      "[u'Two Pointers', u'Recursion', u'Minimax', u'Sliding Window', u'Math', u'Sort', u'Map', u'String', u'Greedy', u'Union Find', u'Heap', u'Graph', u'Binary Search', u'Stack', u'Binary Indexed Tree', u'Hash Table', u'Divide and Conquer', u'Tree', u'Memoization', u'Binary Search Tree', u'Queue', u'Linked List', u'Dynamic Programming', u'Topological Sort', u'Breadth-first Search', u'Trie', u'Random', u'Searching', u'Design', u'Bit Manipulation', u'Segment Tree', u'Array', u'Depth-first Search', u'Backtracking']\n",
      "*****************\n",
      "[u'Two Pointers', u'Recursion', u'Minimax', u'Sliding Window', u'Math', u'Sort', u'Map', u'String', u'Greedy', u'Union Find', u'Heap', u'Graph', u'Binary Search', u'Stack', u'Binary Indexed Tree', u'Hash Table', u'Divide and Conquer', u'Tree', u'Memoization', u'Binary Search Tree', u'Queue', u'Linked List', u'Dynamic Programming', u'Topological Sort', u'Breadth-first Search', u'Trie', u'Random', u'Searching', u'Design', u'Bit Manipulation', u'Segment Tree', u'Array', u'Depth-first Search', u'Backtracking']\n",
      "*****************\n",
      "[u'Two Pointers', u'Recursion', u'Minimax', u'Sliding Window', u'Math', u'Sort', u'Map', u'String', u'Greedy', u'Union Find', u'Heap', u'Graph', u'Binary Search', u'Stack', u'Binary Indexed Tree', u'Hash Table', u'Divide and Conquer', u'Tree', u'Memoization', u'Binary Search Tree', u'Queue', u'Linked List', u'Dynamic Programming', u'Topological Sort', u'Breadth-first Search', u'Trie', u'Random', u'Searching', u'Design', u'Bit Manipulation', u'Segment Tree', u'Array', u'Depth-first Search', u'Backtracking']\n",
      "*****************\n",
      "[u'Two Pointers', u'Recursion', u'Minimax', u'Sliding Window', u'Math', u'Sort', u'Map', u'String', u'Greedy', u'Union Find', u'Heap', u'Graph', u'Binary Search', u'Stack', u'Binary Indexed Tree', u'Hash Table', u'Divide and Conquer', u'Tree', u'Memoization', u'Binary Search Tree', u'Queue', u'Linked List', u'Dynamic Programming', u'Topological Sort', u'Breadth-first Search', u'Trie', u'Random', u'Searching', u'Design', u'Bit Manipulation', u'Segment Tree', u'Array', u'Depth-first Search', u'Backtracking']\n",
      "*****************\n",
      "[u'Two Pointers', u'Recursion', u'Minimax', u'Sliding Window', u'Math', u'Sort', u'Map', u'String', u'Greedy', u'Union Find', u'Heap', u'Graph', u'Binary Search', u'Stack', u'Binary Indexed Tree', u'Hash Table', u'Divide and Conquer', u'Tree', u'Memoization', u'Binary Search Tree', u'Queue', u'Linked List', u'Dynamic Programming', u'Topological Sort', u'Breadth-first Search', u'Trie', u'Random', u'Searching', u'Design', u'Bit Manipulation', u'Segment Tree', u'Array', u'Depth-first Search', u'Backtracking']\n",
      "*****************\n",
      "[u'Two Pointers', u'Recursion', u'Minimax', u'Sliding Window', u'Math', u'Sort', u'Map', u'String', u'Greedy', u'Union Find', u'Heap', u'Graph', u'Binary Search', u'Stack', u'Binary Indexed Tree', u'Hash Table', u'Divide and Conquer', u'Tree', u'Memoization', u'Binary Search Tree', u'Queue', u'Linked List', u'Dynamic Programming', u'Topological Sort', u'Breadth-first Search', u'Trie', u'Random', u'Searching', u'Design', u'Bit Manipulation', u'Segment Tree', u'Array', u'Depth-first Search', u'Backtracking']\n",
      "*****************\n",
      "[u'Two Pointers', u'Recursion', u'Minimax', u'Sliding Window', u'Math', u'Sort', u'Map', u'String', u'Greedy', u'Union Find', u'Heap', u'Graph', u'Binary Search', u'Stack', u'Binary Indexed Tree', u'Hash Table', u'Divide and Conquer', u'Tree', u'Memoization', u'Binary Search Tree', u'Queue', u'Linked List', u'Dynamic Programming', u'Topological Sort', u'Breadth-first Search', u'Trie', u'Random', u'Searching', u'Design', u'Bit Manipulation', u'Segment Tree', u'Array', u'Depth-first Search', u'Backtracking']\n",
      "*****************\n",
      "[u'Two Pointers', u'Recursion', u'Minimax', u'Sliding Window', u'Math', u'Sort', u'Map', u'String', u'Greedy', u'Union Find', u'Heap', u'Graph', u'Binary Search', u'Stack', u'Binary Indexed Tree', u'Hash Table', u'Divide and Conquer', u'Tree', u'Memoization', u'Binary Search Tree', u'Queue', u'Linked List', u'Dynamic Programming', u'Topological Sort', u'Breadth-first Search', u'Trie', u'Random', u'Searching', u'Design', u'Bit Manipulation', u'Segment Tree', u'Array', u'Depth-first Search', u'Backtracking']\n",
      "*****************\n",
      "[u'Two Pointers', u'Recursion', u'Minimax', u'Sliding Window', u'Math', u'Sort', u'Map', u'String', u'Greedy', u'Union Find', u'Heap', u'Graph', u'Binary Search', u'Stack', u'Binary Indexed Tree', u'Hash Table', u'Divide and Conquer', u'Tree', u'Memoization', u'Binary Search Tree', u'Queue', u'Linked List', u'Dynamic Programming', u'Topological Sort', u'Breadth-first Search', u'Trie', u'Random', u'Searching', u'Design', u'Bit Manipulation', u'Segment Tree', u'Array', u'Depth-first Search', u'Backtracking']\n",
      "*****************\n",
      "[u'Two Pointers', u'Recursion', u'Minimax', u'Sliding Window', u'Math', u'Sort', u'Map', u'String', u'Greedy', u'Union Find', u'Heap', u'Graph', u'Binary Search', u'Stack', u'Binary Indexed Tree', u'Hash Table', u'Divide and Conquer', u'Tree', u'Memoization', u'Binary Search Tree', u'Queue', u'Linked List', u'Dynamic Programming', u'Topological Sort', u'Breadth-first Search', u'Trie', u'Random', u'Searching', u'Design', u'Bit Manipulation', u'Segment Tree', u'Array', u'Depth-first Search', u'Backtracking']\n",
      "*****************\n",
      "[u'Two Pointers', u'Recursion', u'Minimax', u'Sliding Window', u'Math', u'Sort', u'Map', u'String', u'Greedy', u'Union Find', u'Heap', u'Graph', u'Binary Search', u'Stack', u'Binary Indexed Tree', u'Hash Table', u'Divide and Conquer', u'Tree', u'Memoization', u'Binary Search Tree', u'Queue', u'Linked List', u'Dynamic Programming', u'Topological Sort', u'Breadth-first Search', u'Trie', u'Random', u'Searching', u'Design', u'Bit Manipulation', u'Segment Tree', u'Array', u'Depth-first Search', u'Backtracking']\n",
      "*****************\n",
      "[u'Two Pointers', u'Recursion', u'Minimax', u'Sliding Window', u'Math', u'Sort', u'Map', u'String', u'Greedy', u'Union Find', u'Heap', u'Graph', u'Binary Search', u'Stack', u'Binary Indexed Tree', u'Hash Table', u'Divide and Conquer', u'Tree', u'Memoization', u'Binary Search Tree', u'Queue', u'Linked List', u'Dynamic Programming', u'Topological Sort', u'Breadth-first Search', u'Trie', u'Random', u'Searching', u'Design', u'Bit Manipulation', u'Segment Tree', u'Array', u'Depth-first Search', u'Backtracking']\n",
      "*****************\n",
      "[u'Two Pointers', u'Recursion', u'Minimax', u'Sliding Window', u'Math', u'Sort', u'Map', u'String', u'Greedy', u'Union Find', u'Heap', u'Graph', u'Binary Search', u'Stack', u'Binary Indexed Tree', u'Hash Table', u'Divide and Conquer', u'Tree', u'Memoization', u'Binary Search Tree', u'Queue', u'Linked List', u'Dynamic Programming', u'Topological Sort', u'Breadth-first Search', u'Trie', u'Random', u'Searching', u'Design', u'Bit Manipulation', u'Segment Tree', u'Array', u'Depth-first Search', u'Backtracking']\n",
      "*****************\n",
      "[u'Two Pointers', u'Recursion', u'Minimax', u'Sliding Window', u'Math', u'Sort', u'Map', u'String', u'Greedy', u'Union Find', u'Heap', u'Graph', u'Binary Search', u'Stack', u'Binary Indexed Tree', u'Hash Table', u'Divide and Conquer', u'Tree', u'Memoization', u'Binary Search Tree', u'Queue', u'Linked List', u'Dynamic Programming', u'Topological Sort', u'Breadth-first Search', u'Trie', u'Random', u'Searching', u'Design', u'Bit Manipulation', u'Segment Tree', u'Array', u'Depth-first Search', u'Backtracking']\n",
      "*****************\n",
      "[u'Two Pointers', u'Recursion', u'Minimax', u'Sliding Window', u'Math', u'Sort', u'Map', u'String', u'Greedy', u'Union Find', u'Heap', u'Graph', u'Binary Search', u'Stack', u'Binary Indexed Tree', u'Hash Table', u'Divide and Conquer', u'Tree', u'Memoization', u'Binary Search Tree', u'Queue', u'Linked List', u'Dynamic Programming', u'Topological Sort', u'Breadth-first Search', u'Trie', u'Random', u'Searching', u'Design', u'Bit Manipulation', u'Segment Tree', u'Array', u'Depth-first Search', u'Backtracking']\n",
      "*****************\n",
      "[u'Two Pointers', u'Recursion', u'Minimax', u'Sliding Window', u'Math', u'Sort', u'Map', u'String', u'Greedy', u'Union Find', u'Heap', u'Graph', u'Binary Search', u'Stack', u'Binary Indexed Tree', u'Hash Table', u'Divide and Conquer', u'Tree', u'Memoization', u'Binary Search Tree', u'Queue', u'Linked List', u'Dynamic Programming', u'Topological Sort', u'Breadth-first Search', u'Trie', u'Random', u'Searching', u'Design', u'Bit Manipulation', u'Segment Tree', u'Array', u'Depth-first Search', u'Backtracking']\n",
      "*****************\n",
      "[u'Two Pointers', u'Recursion', u'Minimax', u'Sliding Window', u'Math', u'Sort', u'Map', u'String', u'Greedy', u'Union Find', u'Heap', u'Graph', u'Binary Search', u'Stack', u'Binary Indexed Tree', u'Hash Table', u'Divide and Conquer', u'Tree', u'Memoization', u'Binary Search Tree', u'Queue', u'Linked List', u'Dynamic Programming', u'Topological Sort', u'Breadth-first Search', u'Trie', u'Random', u'Searching', u'Design', u'Bit Manipulation', u'Segment Tree', u'Array', u'Depth-first Search', u'Backtracking']\n",
      "*****************\n",
      "[u'Two Pointers', u'Recursion', u'Minimax', u'Sliding Window', u'Math', u'Sort', u'Map', u'String', u'Greedy', u'Union Find', u'Heap', u'Graph', u'Binary Search', u'Stack', u'Binary Indexed Tree', u'Hash Table', u'Divide and Conquer', u'Tree', u'Memoization', u'Binary Search Tree', u'Queue', u'Linked List', u'Dynamic Programming', u'Topological Sort', u'Breadth-first Search', u'Trie', u'Random', u'Searching', u'Design', u'Bit Manipulation', u'Segment Tree', u'Array', u'Depth-first Search', u'Backtracking']\n",
      "*****************\n",
      "[u'Two Pointers', u'Recursion', u'Minimax', u'Sliding Window', u'Math', u'Sort', u'Map', u'String', u'Greedy', u'Union Find', u'Heap', u'Graph', u'Binary Search', u'Stack', u'Binary Indexed Tree', u'Hash Table', u'Divide and Conquer', u'Tree', u'Memoization', u'Binary Search Tree', u'Queue', u'Linked List', u'Dynamic Programming', u'Topological Sort', u'Breadth-first Search', u'Trie', u'Random', u'Searching', u'Design', u'Bit Manipulation', u'Segment Tree', u'Array', u'Depth-first Search', u'Backtracking']\n",
      "*****************\n",
      "[u'Two Pointers', u'Recursion', u'Minimax', u'Sliding Window', u'Math', u'Sort', u'Map', u'String', u'Greedy', u'Union Find', u'Heap', u'Graph', u'Binary Search', u'Stack', u'Binary Indexed Tree', u'Hash Table', u'Divide and Conquer', u'Tree', u'Memoization', u'Binary Search Tree', u'Queue', u'Linked List', u'Dynamic Programming', u'Topological Sort', u'Breadth-first Search', u'Trie', u'Random', u'Searching', u'Design', u'Bit Manipulation', u'Segment Tree', u'Array', u'Depth-first Search', u'Backtracking']\n",
      "*****************\n",
      "[u'Two Pointers', u'Recursion', u'Minimax', u'Sliding Window', u'Math', u'Sort', u'Map', u'String', u'Greedy', u'Union Find', u'Heap', u'Graph', u'Binary Search', u'Stack', u'Binary Indexed Tree', u'Hash Table', u'Divide and Conquer', u'Tree', u'Memoization', u'Binary Search Tree', u'Queue', u'Linked List', u'Dynamic Programming', u'Topological Sort', u'Breadth-first Search', u'Trie', u'Random', u'Searching', u'Design', u'Bit Manipulation', u'Segment Tree', u'Array', u'Depth-first Search', u'Backtracking']\n",
      "*****************\n",
      "[u'Two Pointers', u'Recursion', u'Minimax', u'Sliding Window', u'Math', u'Sort', u'Map', u'String', u'Greedy', u'Union Find', u'Heap', u'Graph', u'Binary Search', u'Stack', u'Binary Indexed Tree', u'Hash Table', u'Divide and Conquer', u'Tree', u'Memoization', u'Binary Search Tree', u'Queue', u'Linked List', u'Dynamic Programming', u'Topological Sort', u'Breadth-first Search', u'Trie', u'Random', u'Searching', u'Design', u'Bit Manipulation', u'Segment Tree', u'Array', u'Depth-first Search', u'Backtracking']\n",
      "*****************\n",
      "[u'Two Pointers', u'Recursion', u'Minimax', u'Sliding Window', u'Math', u'Sort', u'Map', u'String', u'Greedy', u'Union Find', u'Heap', u'Graph', u'Binary Search', u'Stack', u'Binary Indexed Tree', u'Hash Table', u'Divide and Conquer', u'Tree', u'Memoization', u'Binary Search Tree', u'Queue', u'Linked List', u'Dynamic Programming', u'Topological Sort', u'Breadth-first Search', u'Trie', u'Random', u'Searching', u'Design', u'Bit Manipulation', u'Segment Tree', u'Array', u'Depth-first Search', u'Backtracking']\n",
      "*****************\n",
      "[u'Two Pointers', u'Recursion', u'Minimax', u'Sliding Window', u'Math', u'Sort', u'Map', u'String', u'Greedy', u'Union Find', u'Heap', u'Graph', u'Binary Search', u'Stack', u'Binary Indexed Tree', u'Hash Table', u'Divide and Conquer', u'Tree', u'Memoization', u'Binary Search Tree', u'Queue', u'Linked List', u'Dynamic Programming', u'Topological Sort', u'Breadth-first Search', u'Trie', u'Random', u'Searching', u'Design', u'Bit Manipulation', u'Segment Tree', u'Array', u'Depth-first Search', u'Backtracking']\n",
      "*****************\n",
      "[u'Two Pointers', u'Recursion', u'Minimax', u'Sliding Window', u'Math', u'Sort', u'Map', u'String', u'Greedy', u'Union Find', u'Heap', u'Graph', u'Binary Search', u'Stack', u'Binary Indexed Tree', u'Hash Table', u'Divide and Conquer', u'Tree', u'Memoization', u'Binary Search Tree', u'Queue', u'Linked List', u'Dynamic Programming', u'Topological Sort', u'Breadth-first Search', u'Trie', u'Random', u'Searching', u'Design', u'Bit Manipulation', u'Segment Tree', u'Array', u'Depth-first Search', u'Backtracking']\n",
      "*****************\n",
      "[u'Two Pointers', u'Recursion', u'Minimax', u'Sliding Window', u'Math', u'Sort', u'Map', u'String', u'Greedy', u'Union Find', u'Heap', u'Graph', u'Binary Search', u'Stack', u'Binary Indexed Tree', u'Hash Table', u'Divide and Conquer', u'Tree', u'Memoization', u'Binary Search Tree', u'Queue', u'Linked List', u'Dynamic Programming', u'Topological Sort', u'Breadth-first Search', u'Trie', u'Random', u'Searching', u'Design', u'Bit Manipulation', u'Segment Tree', u'Array', u'Depth-first Search', u'Backtracking']\n",
      "*****************\n",
      "[u'Two Pointers', u'Recursion', u'Minimax', u'Sliding Window', u'Math', u'Sort', u'Map', u'String', u'Greedy', u'Union Find', u'Heap', u'Graph', u'Binary Search', u'Stack', u'Binary Indexed Tree', u'Hash Table', u'Divide and Conquer', u'Tree', u'Memoization', u'Binary Search Tree', u'Queue', u'Linked List', u'Dynamic Programming', u'Topological Sort', u'Breadth-first Search', u'Trie', u'Random', u'Searching', u'Design', u'Bit Manipulation', u'Segment Tree', u'Array', u'Depth-first Search', u'Backtracking']\n",
      "*****************\n",
      "[u'Two Pointers', u'Recursion', u'Minimax', u'Sliding Window', u'Math', u'Sort', u'Map', u'String', u'Greedy', u'Union Find', u'Heap', u'Graph', u'Binary Search', u'Stack', u'Binary Indexed Tree', u'Hash Table', u'Divide and Conquer', u'Tree', u'Memoization', u'Binary Search Tree', u'Queue', u'Linked List', u'Dynamic Programming', u'Topological Sort', u'Breadth-first Search', u'Trie', u'Random', u'Searching', u'Design', u'Bit Manipulation', u'Segment Tree', u'Array', u'Depth-first Search', u'Backtracking']\n",
      "*****************\n",
      "[u'Two Pointers', u'Recursion', u'Minimax', u'Sliding Window', u'Math', u'Sort', u'Map', u'String', u'Greedy', u'Union Find', u'Heap', u'Graph', u'Binary Search', u'Stack', u'Binary Indexed Tree', u'Hash Table', u'Divide and Conquer', u'Tree', u'Memoization', u'Binary Search Tree', u'Queue', u'Linked List', u'Dynamic Programming', u'Topological Sort', u'Breadth-first Search', u'Trie', u'Random', u'Searching', u'Design', u'Bit Manipulation', u'Segment Tree', u'Array', u'Depth-first Search', u'Backtracking']\n",
      "*****************\n",
      "[u'Two Pointers', u'Recursion', u'Minimax', u'Sliding Window', u'Math', u'Sort', u'Map', u'String', u'Greedy', u'Union Find', u'Heap', u'Graph', u'Binary Search', u'Stack', u'Binary Indexed Tree', u'Hash Table', u'Divide and Conquer', u'Tree', u'Memoization', u'Binary Search Tree', u'Queue', u'Linked List', u'Dynamic Programming', u'Topological Sort', u'Breadth-first Search', u'Trie', u'Random', u'Searching', u'Design', u'Bit Manipulation', u'Segment Tree', u'Array', u'Depth-first Search', u'Backtracking']\n",
      "*****************\n",
      "Fitting 2 folds for each of 5 candidates, totalling 10 fits\n",
      "[CV] tfidf__max_df=0.5, clf__C=5, tfidf__ngram_range=(1, 2), tfidf__min_df=2 \n"
     ]
    },
    {
     "name": "stdout",
     "output_type": "stream",
     "text": [
      "[CV]  tfidf__max_df=0.5, clf__C=5, tfidf__ngram_range=(1, 2), tfidf__min_df=2, score=0, total=   1.0s\n",
      "[CV] tfidf__max_df=0.5, clf__C=5, tfidf__ngram_range=(1, 2), tfidf__min_df=2 \n"
     ]
    },
    {
     "name": "stderr",
     "output_type": "stream",
     "text": [
      "[Parallel(n_jobs=1)]: Done   1 out of   1 | elapsed:    1.3s remaining:    0.0s\n"
     ]
    },
    {
     "name": "stdout",
     "output_type": "stream",
     "text": [
      "[CV]  tfidf__max_df=0.5, clf__C=5, tfidf__ngram_range=(1, 2), tfidf__min_df=2, score=0, total=   1.5s\n",
      "[CV] tfidf__max_df=0.5, clf__C=10, tfidf__ngram_range=(1, 2), tfidf__min_df=2 \n"
     ]
    },
    {
     "name": "stderr",
     "output_type": "stream",
     "text": [
      "[Parallel(n_jobs=1)]: Done   2 out of   2 | elapsed:    3.2s remaining:    0.0s\n"
     ]
    },
    {
     "name": "stdout",
     "output_type": "stream",
     "text": [
      "[CV]  tfidf__max_df=0.5, clf__C=10, tfidf__ngram_range=(1, 2), tfidf__min_df=2, score=0, total=   1.0s\n",
      "[CV] tfidf__max_df=0.5, clf__C=10, tfidf__ngram_range=(1, 2), tfidf__min_df=2 \n"
     ]
    },
    {
     "name": "stderr",
     "output_type": "stream",
     "text": [
      "[Parallel(n_jobs=1)]: Done   3 out of   3 | elapsed:    4.5s remaining:    0.0s\n"
     ]
    },
    {
     "name": "stdout",
     "output_type": "stream",
     "text": [
      "[CV]  tfidf__max_df=0.5, clf__C=10, tfidf__ngram_range=(1, 2), tfidf__min_df=2, score=0, total=   1.7s\n",
      "[CV] tfidf__max_df=0.5, clf__C=20, tfidf__ngram_range=(1, 2), tfidf__min_df=2 \n"
     ]
    },
    {
     "name": "stderr",
     "output_type": "stream",
     "text": [
      "[Parallel(n_jobs=1)]: Done   4 out of   4 | elapsed:    6.6s remaining:    0.0s\n"
     ]
    },
    {
     "name": "stdout",
     "output_type": "stream",
     "text": [
      "[CV]  tfidf__max_df=0.5, clf__C=20, tfidf__ngram_range=(1, 2), tfidf__min_df=2, score=0, total=   1.2s\n",
      "[CV] tfidf__max_df=0.5, clf__C=20, tfidf__ngram_range=(1, 2), tfidf__min_df=2 \n"
     ]
    },
    {
     "name": "stderr",
     "output_type": "stream",
     "text": [
      "[Parallel(n_jobs=1)]: Done   5 out of   5 | elapsed:    8.1s remaining:    0.0s\n",
      "/anaconda2/envs/problemsClassifierEnv/lib/python2.7/site-packages/sklearn/svm/base.py:931: ConvergenceWarning: Liblinear failed to converge, increase the number of iterations.\n",
      "  \"the number of iterations.\", ConvergenceWarning)\n"
     ]
    },
    {
     "name": "stdout",
     "output_type": "stream",
     "text": [
      "[CV]  tfidf__max_df=0.5, clf__C=20, tfidf__ngram_range=(1, 2), tfidf__min_df=2, score=0, total=   1.7s\n",
      "[CV] tfidf__max_df=0.5, clf__C=50, tfidf__ngram_range=(1, 2), tfidf__min_df=2 \n"
     ]
    },
    {
     "name": "stderr",
     "output_type": "stream",
     "text": [
      "[Parallel(n_jobs=1)]: Done   6 out of   6 | elapsed:   10.2s remaining:    0.0s\n"
     ]
    },
    {
     "name": "stdout",
     "output_type": "stream",
     "text": [
      "[CV]  tfidf__max_df=0.5, clf__C=50, tfidf__ngram_range=(1, 2), tfidf__min_df=2, score=0, total=   1.1s\n",
      "[CV] tfidf__max_df=0.5, clf__C=50, tfidf__ngram_range=(1, 2), tfidf__min_df=2 \n"
     ]
    },
    {
     "name": "stderr",
     "output_type": "stream",
     "text": [
      "[Parallel(n_jobs=1)]: Done   7 out of   7 | elapsed:   11.6s remaining:    0.0s\n",
      "/anaconda2/envs/problemsClassifierEnv/lib/python2.7/site-packages/sklearn/svm/base.py:931: ConvergenceWarning: Liblinear failed to converge, increase the number of iterations.\n",
      "  \"the number of iterations.\", ConvergenceWarning)\n"
     ]
    },
    {
     "name": "stdout",
     "output_type": "stream",
     "text": [
      "[CV]  tfidf__max_df=0.5, clf__C=50, tfidf__ngram_range=(1, 2), tfidf__min_df=2, score=0, total=   1.7s\n",
      "[CV] tfidf__max_df=0.5, clf__C=100, tfidf__ngram_range=(1, 2), tfidf__min_df=2 \n"
     ]
    },
    {
     "name": "stderr",
     "output_type": "stream",
     "text": [
      "[Parallel(n_jobs=1)]: Done   8 out of   8 | elapsed:   13.7s remaining:    0.0s\n"
     ]
    },
    {
     "name": "stdout",
     "output_type": "stream",
     "text": [
      "[CV]  tfidf__max_df=0.5, clf__C=100, tfidf__ngram_range=(1, 2), tfidf__min_df=2, score=0, total=   1.2s\n",
      "[CV] tfidf__max_df=0.5, clf__C=100, tfidf__ngram_range=(1, 2), tfidf__min_df=2 \n"
     ]
    },
    {
     "name": "stderr",
     "output_type": "stream",
     "text": [
      "[Parallel(n_jobs=1)]: Done   9 out of   9 | elapsed:   15.1s remaining:    0.0s\n",
      "/anaconda2/envs/problemsClassifierEnv/lib/python2.7/site-packages/sklearn/svm/base.py:931: ConvergenceWarning: Liblinear failed to converge, increase the number of iterations.\n",
      "  \"the number of iterations.\", ConvergenceWarning)\n"
     ]
    },
    {
     "name": "stdout",
     "output_type": "stream",
     "text": [
      "[CV]  tfidf__max_df=0.5, clf__C=100, tfidf__ngram_range=(1, 2), tfidf__min_df=2, score=0, total=   1.8s\n"
     ]
    },
    {
     "name": "stderr",
     "output_type": "stream",
     "text": [
      "[Parallel(n_jobs=1)]: Done  10 out of  10 | elapsed:   17.3s finished\n"
     ]
    },
    {
     "name": "stdout",
     "output_type": "stream",
     "text": [
      "Best parameters set:\n",
      "[('tfidf', TfidfVectorizer(analyzer=u'word', binary=False, decode_error=u'strict',\n",
      "        dtype=<type 'numpy.float64'>, encoding=u'utf-8', input=u'content',\n",
      "        lowercase=True, max_df=0.5, max_features=None, min_df=2,\n",
      "        ngram_range=(1, 2), norm=u'l2', preprocessor=None, smooth_idf=True,\n",
      "        stop_words=None, strip_accents=None, sublinear_tf=False,\n",
      "        token_pattern=u'(?u)\\\\b\\\\w\\\\w+\\\\b', tokenizer=None, use_idf=True,\n",
      "        vocabulary=None)), ('clf', LinearSVC(C=5, class_weight='balanced', dual=True, fit_intercept=True,\n",
      "     intercept_scaling=1, loss='squared_hinge', max_iter=1000,\n",
      "     multi_class='ovr', penalty='l2', random_state=None, tol=0.0001,\n",
      "     verbose=0))]\n",
      "Applying best classifier on test data:\n"
     ]
    },
    {
     "name": "stderr",
     "output_type": "stream",
     "text": [
      "/anaconda2/envs/problemsClassifierEnv/lib/python2.7/site-packages/sklearn/metrics/classification.py:1143: UndefinedMetricWarning: Precision and F-score are ill-defined and being set to 0.0 in labels with no predicted samples.\n",
      "  'precision', 'predicted', average, warn_for)\n",
      "/anaconda2/envs/problemsClassifierEnv/lib/python2.7/site-packages/sklearn/metrics/classification.py:1145: UndefinedMetricWarning: Recall and F-score are ill-defined and being set to 0.0 in labels with no true samples.\n",
      "  'recall', 'true', average, warn_for)\n",
      "/anaconda2/envs/problemsClassifierEnv/lib/python2.7/site-packages/sklearn/metrics/classification.py:1143: UndefinedMetricWarning: Precision and F-score are ill-defined and being set to 0.0 in labels with no predicted samples.\n",
      "  'precision', 'predicted', average, warn_for)\n",
      "/anaconda2/envs/problemsClassifierEnv/lib/python2.7/site-packages/sklearn/metrics/classification.py:1145: UndefinedMetricWarning: Recall and F-score are ill-defined and being set to 0.0 in labels with no true samples.\n",
      "  'recall', 'true', average, warn_for)\n",
      "/anaconda2/envs/problemsClassifierEnv/lib/python2.7/site-packages/sklearn/metrics/classification.py:1143: UndefinedMetricWarning: Precision and F-score are ill-defined and being set to 0.0 in labels with no predicted samples.\n",
      "  'precision', 'predicted', average, warn_for)\n",
      "/anaconda2/envs/problemsClassifierEnv/lib/python2.7/site-packages/sklearn/metrics/classification.py:1145: UndefinedMetricWarning: Recall and F-score are ill-defined and being set to 0.0 in labels with no true samples.\n",
      "  'recall', 'true', average, warn_for)\n",
      "/anaconda2/envs/problemsClassifierEnv/lib/python2.7/site-packages/sklearn/metrics/classification.py:1143: UndefinedMetricWarning: Precision and F-score are ill-defined and being set to 0.0 in samples with no predicted labels.\n",
      "  'precision', 'predicted', average, warn_for)\n",
      "/anaconda2/envs/problemsClassifierEnv/lib/python2.7/site-packages/sklearn/metrics/classification.py:1145: UndefinedMetricWarning: Recall and F-score are ill-defined and being set to 0.0 in samples with no true labels.\n",
      "  'recall', 'true', average, warn_for)\n",
      "[Parallel(n_jobs=1)]: Using backend SequentialBackend with 1 concurrent workers.\n"
     ]
    },
    {
     "name": "stdout",
     "output_type": "stream",
     "text": [
      "[u'Two Pointers', u'Recursion', u'Minimax', u'Sliding Window', u'Math', u'Sort', u'Map', u'String', u'Greedy', u'Union Find', u'Heap', u'Graph', u'Binary Search', u'Stack', u'Binary Indexed Tree', u'Hash Table', u'Divide and Conquer', u'Tree', u'Memoization', u'Binary Search Tree', u'Queue', u'Linked List', u'Dynamic Programming', u'Topological Sort', u'Breadth-first Search', u'Trie', u'Random', u'Searching', u'Design', u'Bit Manipulation', u'Segment Tree', u'Array', u'Depth-first Search', u'Backtracking']\n",
      "*****************\n",
      "[u'Two Pointers', u'Recursion', u'Minimax', u'Sliding Window', u'Math', u'Sort', u'Map', u'String', u'Greedy', u'Union Find', u'Heap', u'Graph', u'Binary Search', u'Stack', u'Binary Indexed Tree', u'Hash Table', u'Divide and Conquer', u'Tree', u'Memoization', u'Binary Search Tree', u'Queue', u'Linked List', u'Dynamic Programming', u'Topological Sort', u'Breadth-first Search', u'Trie', u'Random', u'Searching', u'Design', u'Bit Manipulation', u'Segment Tree', u'Array', u'Depth-first Search', u'Backtracking']\n",
      "*****************\n",
      "[u'Two Pointers', u'Recursion', u'Minimax', u'Sliding Window', u'Math', u'Sort', u'Map', u'String', u'Greedy', u'Union Find', u'Heap', u'Graph', u'Binary Search', u'Stack', u'Binary Indexed Tree', u'Hash Table', u'Divide and Conquer', u'Tree', u'Memoization', u'Binary Search Tree', u'Queue', u'Linked List', u'Dynamic Programming', u'Topological Sort', u'Breadth-first Search', u'Trie', u'Random', u'Searching', u'Design', u'Bit Manipulation', u'Segment Tree', u'Array', u'Depth-first Search', u'Backtracking']\n",
      "*****************\n",
      "[u'Two Pointers', u'Recursion', u'Minimax', u'Sliding Window', u'Math', u'Sort', u'Map', u'String', u'Greedy', u'Union Find', u'Heap', u'Graph', u'Binary Search', u'Stack', u'Binary Indexed Tree', u'Hash Table', u'Divide and Conquer', u'Tree', u'Memoization', u'Binary Search Tree', u'Queue', u'Linked List', u'Dynamic Programming', u'Topological Sort', u'Breadth-first Search', u'Trie', u'Random', u'Searching', u'Design', u'Bit Manipulation', u'Segment Tree', u'Array', u'Depth-first Search', u'Backtracking']\n",
      "*****************\n",
      "[u'Two Pointers', u'Recursion', u'Minimax', u'Sliding Window', u'Math', u'Sort', u'Map', u'String', u'Greedy', u'Union Find', u'Heap', u'Graph', u'Binary Search', u'Stack', u'Binary Indexed Tree', u'Hash Table', u'Divide and Conquer', u'Tree', u'Memoization', u'Binary Search Tree', u'Queue', u'Linked List', u'Dynamic Programming', u'Topological Sort', u'Breadth-first Search', u'Trie', u'Random', u'Searching', u'Design', u'Bit Manipulation', u'Segment Tree', u'Array', u'Depth-first Search', u'Backtracking']\n",
      "*****************\n",
      "[u'Two Pointers', u'Recursion', u'Minimax', u'Sliding Window', u'Math', u'Sort', u'Map', u'String', u'Greedy', u'Union Find', u'Heap', u'Graph', u'Binary Search', u'Stack', u'Binary Indexed Tree', u'Hash Table', u'Divide and Conquer', u'Tree', u'Memoization', u'Binary Search Tree', u'Queue', u'Linked List', u'Dynamic Programming', u'Topological Sort', u'Breadth-first Search', u'Trie', u'Random', u'Searching', u'Design', u'Bit Manipulation', u'Segment Tree', u'Array', u'Depth-first Search', u'Backtracking']\n",
      "*****************\n",
      "[u'Two Pointers', u'Recursion', u'Minimax', u'Sliding Window', u'Math', u'Sort', u'Map', u'String', u'Greedy', u'Union Find', u'Heap', u'Graph', u'Binary Search', u'Stack', u'Binary Indexed Tree', u'Hash Table', u'Divide and Conquer', u'Tree', u'Memoization', u'Binary Search Tree', u'Queue', u'Linked List', u'Dynamic Programming', u'Topological Sort', u'Breadth-first Search', u'Trie', u'Random', u'Searching', u'Design', u'Bit Manipulation', u'Segment Tree', u'Array', u'Depth-first Search', u'Backtracking']\n",
      "*****************\n",
      "[u'Two Pointers', u'Recursion', u'Minimax', u'Sliding Window', u'Math', u'Sort', u'Map', u'String', u'Greedy', u'Union Find', u'Heap', u'Graph', u'Binary Search', u'Stack', u'Binary Indexed Tree', u'Hash Table', u'Divide and Conquer', u'Tree', u'Memoization', u'Binary Search Tree', u'Queue', u'Linked List', u'Dynamic Programming', u'Topological Sort', u'Breadth-first Search', u'Trie', u'Random', u'Searching', u'Design', u'Bit Manipulation', u'Segment Tree', u'Array', u'Depth-first Search', u'Backtracking']\n",
      "*****************\n",
      "[u'Two Pointers', u'Recursion', u'Minimax', u'Sliding Window', u'Math', u'Sort', u'Map', u'String', u'Greedy', u'Union Find', u'Heap', u'Graph', u'Binary Search', u'Stack', u'Binary Indexed Tree', u'Hash Table', u'Divide and Conquer', u'Tree', u'Memoization', u'Binary Search Tree', u'Queue', u'Linked List', u'Dynamic Programming', u'Topological Sort', u'Breadth-first Search', u'Trie', u'Random', u'Searching', u'Design', u'Bit Manipulation', u'Segment Tree', u'Array', u'Depth-first Search', u'Backtracking']\n",
      "*****************\n",
      "[u'Two Pointers', u'Recursion', u'Minimax', u'Sliding Window', u'Math', u'Sort', u'Map', u'String', u'Greedy', u'Union Find', u'Heap', u'Graph', u'Binary Search', u'Stack', u'Binary Indexed Tree', u'Hash Table', u'Divide and Conquer', u'Tree', u'Memoization', u'Binary Search Tree', u'Queue', u'Linked List', u'Dynamic Programming', u'Topological Sort', u'Breadth-first Search', u'Trie', u'Random', u'Searching', u'Design', u'Bit Manipulation', u'Segment Tree', u'Array', u'Depth-first Search', u'Backtracking']\n",
      "*****************\n",
      "[u'Two Pointers', u'Recursion', u'Minimax', u'Sliding Window', u'Math', u'Sort', u'Map', u'String', u'Greedy', u'Union Find', u'Heap', u'Graph', u'Binary Search', u'Stack', u'Binary Indexed Tree', u'Hash Table', u'Divide and Conquer', u'Tree', u'Memoization', u'Binary Search Tree', u'Queue', u'Linked List', u'Dynamic Programming', u'Topological Sort', u'Breadth-first Search', u'Trie', u'Random', u'Searching', u'Design', u'Bit Manipulation', u'Segment Tree', u'Array', u'Depth-first Search', u'Backtracking']\n",
      "*****************\n",
      "[u'Two Pointers', u'Recursion', u'Minimax', u'Sliding Window', u'Math', u'Sort', u'Map', u'String', u'Greedy', u'Union Find', u'Heap', u'Graph', u'Binary Search', u'Stack', u'Binary Indexed Tree', u'Hash Table', u'Divide and Conquer', u'Tree', u'Memoization', u'Binary Search Tree', u'Queue', u'Linked List', u'Dynamic Programming', u'Topological Sort', u'Breadth-first Search', u'Trie', u'Random', u'Searching', u'Design', u'Bit Manipulation', u'Segment Tree', u'Array', u'Depth-first Search', u'Backtracking']\n",
      "*****************\n",
      "[u'Two Pointers', u'Recursion', u'Minimax', u'Sliding Window', u'Math', u'Sort', u'Map', u'String', u'Greedy', u'Union Find', u'Heap', u'Graph', u'Binary Search', u'Stack', u'Binary Indexed Tree', u'Hash Table', u'Divide and Conquer', u'Tree', u'Memoization', u'Binary Search Tree', u'Queue', u'Linked List', u'Dynamic Programming', u'Topological Sort', u'Breadth-first Search', u'Trie', u'Random', u'Searching', u'Design', u'Bit Manipulation', u'Segment Tree', u'Array', u'Depth-first Search', u'Backtracking']\n",
      "*****************\n",
      "[u'Two Pointers', u'Recursion', u'Minimax', u'Sliding Window', u'Math', u'Sort', u'Map', u'String', u'Greedy', u'Union Find', u'Heap', u'Graph', u'Binary Search', u'Stack', u'Binary Indexed Tree', u'Hash Table', u'Divide and Conquer', u'Tree', u'Memoization', u'Binary Search Tree', u'Queue', u'Linked List', u'Dynamic Programming', u'Topological Sort', u'Breadth-first Search', u'Trie', u'Random', u'Searching', u'Design', u'Bit Manipulation', u'Segment Tree', u'Array', u'Depth-first Search', u'Backtracking']\n",
      "*****************\n",
      "[u'Two Pointers', u'Recursion', u'Minimax', u'Sliding Window', u'Math', u'Sort', u'Map', u'String', u'Greedy', u'Union Find', u'Heap', u'Graph', u'Binary Search', u'Stack', u'Binary Indexed Tree', u'Hash Table', u'Divide and Conquer', u'Tree', u'Memoization', u'Binary Search Tree', u'Queue', u'Linked List', u'Dynamic Programming', u'Topological Sort', u'Breadth-first Search', u'Trie', u'Random', u'Searching', u'Design', u'Bit Manipulation', u'Segment Tree', u'Array', u'Depth-first Search', u'Backtracking']\n",
      "*****************\n",
      "[u'Two Pointers', u'Recursion', u'Minimax', u'Sliding Window', u'Math', u'Sort', u'Map', u'String', u'Greedy', u'Union Find', u'Heap', u'Graph', u'Binary Search', u'Stack', u'Binary Indexed Tree', u'Hash Table', u'Divide and Conquer', u'Tree', u'Memoization', u'Binary Search Tree', u'Queue', u'Linked List', u'Dynamic Programming', u'Topological Sort', u'Breadth-first Search', u'Trie', u'Random', u'Searching', u'Design', u'Bit Manipulation', u'Segment Tree', u'Array', u'Depth-first Search', u'Backtracking']\n",
      "*****************\n",
      "[u'Two Pointers', u'Recursion', u'Minimax', u'Sliding Window', u'Math', u'Sort', u'Map', u'String', u'Greedy', u'Union Find', u'Heap', u'Graph', u'Binary Search', u'Stack', u'Binary Indexed Tree', u'Hash Table', u'Divide and Conquer', u'Tree', u'Memoization', u'Binary Search Tree', u'Queue', u'Linked List', u'Dynamic Programming', u'Topological Sort', u'Breadth-first Search', u'Trie', u'Random', u'Searching', u'Design', u'Bit Manipulation', u'Segment Tree', u'Array', u'Depth-first Search', u'Backtracking']\n",
      "*****************\n",
      "[u'Two Pointers', u'Recursion', u'Minimax', u'Sliding Window', u'Math', u'Sort', u'Map', u'String', u'Greedy', u'Union Find', u'Heap', u'Graph', u'Binary Search', u'Stack', u'Binary Indexed Tree', u'Hash Table', u'Divide and Conquer', u'Tree', u'Memoization', u'Binary Search Tree', u'Queue', u'Linked List', u'Dynamic Programming', u'Topological Sort', u'Breadth-first Search', u'Trie', u'Random', u'Searching', u'Design', u'Bit Manipulation', u'Segment Tree', u'Array', u'Depth-first Search', u'Backtracking']\n",
      "*****************\n",
      "[u'Two Pointers', u'Recursion', u'Minimax', u'Sliding Window', u'Math', u'Sort', u'Map', u'String', u'Greedy', u'Union Find', u'Heap', u'Graph', u'Binary Search', u'Stack', u'Binary Indexed Tree', u'Hash Table', u'Divide and Conquer', u'Tree', u'Memoization', u'Binary Search Tree', u'Queue', u'Linked List', u'Dynamic Programming', u'Topological Sort', u'Breadth-first Search', u'Trie', u'Random', u'Searching', u'Design', u'Bit Manipulation', u'Segment Tree', u'Array', u'Depth-first Search', u'Backtracking']\n",
      "*****************\n",
      "[u'Two Pointers', u'Recursion', u'Minimax', u'Sliding Window', u'Math', u'Sort', u'Map', u'String', u'Greedy', u'Union Find', u'Heap', u'Graph', u'Binary Search', u'Stack', u'Binary Indexed Tree', u'Hash Table', u'Divide and Conquer', u'Tree', u'Memoization', u'Binary Search Tree', u'Queue', u'Linked List', u'Dynamic Programming', u'Topological Sort', u'Breadth-first Search', u'Trie', u'Random', u'Searching', u'Design', u'Bit Manipulation', u'Segment Tree', u'Array', u'Depth-first Search', u'Backtracking']\n",
      "*****************\n",
      "[u'Two Pointers', u'Recursion', u'Minimax', u'Sliding Window', u'Math', u'Sort', u'Map', u'String', u'Greedy', u'Union Find', u'Heap', u'Graph', u'Binary Search', u'Stack', u'Binary Indexed Tree', u'Hash Table', u'Divide and Conquer', u'Tree', u'Memoization', u'Binary Search Tree', u'Queue', u'Linked List', u'Dynamic Programming', u'Topological Sort', u'Breadth-first Search', u'Trie', u'Random', u'Searching', u'Design', u'Bit Manipulation', u'Segment Tree', u'Array', u'Depth-first Search', u'Backtracking']\n",
      "*****************\n",
      "[u'Two Pointers', u'Recursion', u'Minimax', u'Sliding Window', u'Math', u'Sort', u'Map', u'String', u'Greedy', u'Union Find', u'Heap', u'Graph', u'Binary Search', u'Stack', u'Binary Indexed Tree', u'Hash Table', u'Divide and Conquer', u'Tree', u'Memoization', u'Binary Search Tree', u'Queue', u'Linked List', u'Dynamic Programming', u'Topological Sort', u'Breadth-first Search', u'Trie', u'Random', u'Searching', u'Design', u'Bit Manipulation', u'Segment Tree', u'Array', u'Depth-first Search', u'Backtracking']\n",
      "*****************\n",
      "[u'Two Pointers', u'Recursion', u'Minimax', u'Sliding Window', u'Math', u'Sort', u'Map', u'String', u'Greedy', u'Union Find', u'Heap', u'Graph', u'Binary Search', u'Stack', u'Binary Indexed Tree', u'Hash Table', u'Divide and Conquer', u'Tree', u'Memoization', u'Binary Search Tree', u'Queue', u'Linked List', u'Dynamic Programming', u'Topological Sort', u'Breadth-first Search', u'Trie', u'Random', u'Searching', u'Design', u'Bit Manipulation', u'Segment Tree', u'Array', u'Depth-first Search', u'Backtracking']\n",
      "*****************\n",
      "[u'Two Pointers', u'Recursion', u'Minimax', u'Sliding Window', u'Math', u'Sort', u'Map', u'String', u'Greedy', u'Union Find', u'Heap', u'Graph', u'Binary Search', u'Stack', u'Binary Indexed Tree', u'Hash Table', u'Divide and Conquer', u'Tree', u'Memoization', u'Binary Search Tree', u'Queue', u'Linked List', u'Dynamic Programming', u'Topological Sort', u'Breadth-first Search', u'Trie', u'Random', u'Searching', u'Design', u'Bit Manipulation', u'Segment Tree', u'Array', u'Depth-first Search', u'Backtracking']\n",
      "*****************\n",
      "[u'Two Pointers', u'Recursion', u'Minimax', u'Sliding Window', u'Math', u'Sort', u'Map', u'String', u'Greedy', u'Union Find', u'Heap', u'Graph', u'Binary Search', u'Stack', u'Binary Indexed Tree', u'Hash Table', u'Divide and Conquer', u'Tree', u'Memoization', u'Binary Search Tree', u'Queue', u'Linked List', u'Dynamic Programming', u'Topological Sort', u'Breadth-first Search', u'Trie', u'Random', u'Searching', u'Design', u'Bit Manipulation', u'Segment Tree', u'Array', u'Depth-first Search', u'Backtracking']\n",
      "*****************\n",
      "[u'Two Pointers', u'Recursion', u'Minimax', u'Sliding Window', u'Math', u'Sort', u'Map', u'String', u'Greedy', u'Union Find', u'Heap', u'Graph', u'Binary Search', u'Stack', u'Binary Indexed Tree', u'Hash Table', u'Divide and Conquer', u'Tree', u'Memoization', u'Binary Search Tree', u'Queue', u'Linked List', u'Dynamic Programming', u'Topological Sort', u'Breadth-first Search', u'Trie', u'Random', u'Searching', u'Design', u'Bit Manipulation', u'Segment Tree', u'Array', u'Depth-first Search', u'Backtracking']\n",
      "*****************\n",
      "[u'Two Pointers', u'Recursion', u'Minimax', u'Sliding Window', u'Math', u'Sort', u'Map', u'String', u'Greedy', u'Union Find', u'Heap', u'Graph', u'Binary Search', u'Stack', u'Binary Indexed Tree', u'Hash Table', u'Divide and Conquer', u'Tree', u'Memoization', u'Binary Search Tree', u'Queue', u'Linked List', u'Dynamic Programming', u'Topological Sort', u'Breadth-first Search', u'Trie', u'Random', u'Searching', u'Design', u'Bit Manipulation', u'Segment Tree', u'Array', u'Depth-first Search', u'Backtracking']\n",
      "*****************\n",
      "[u'Two Pointers', u'Recursion', u'Minimax', u'Sliding Window', u'Math', u'Sort', u'Map', u'String', u'Greedy', u'Union Find', u'Heap', u'Graph', u'Binary Search', u'Stack', u'Binary Indexed Tree', u'Hash Table', u'Divide and Conquer', u'Tree', u'Memoization', u'Binary Search Tree', u'Queue', u'Linked List', u'Dynamic Programming', u'Topological Sort', u'Breadth-first Search', u'Trie', u'Random', u'Searching', u'Design', u'Bit Manipulation', u'Segment Tree', u'Array', u'Depth-first Search', u'Backtracking']\n",
      "*****************\n",
      "[u'Two Pointers', u'Recursion', u'Minimax', u'Sliding Window', u'Math', u'Sort', u'Map', u'String', u'Greedy', u'Union Find', u'Heap', u'Graph', u'Binary Search', u'Stack', u'Binary Indexed Tree', u'Hash Table', u'Divide and Conquer', u'Tree', u'Memoization', u'Binary Search Tree', u'Queue', u'Linked List', u'Dynamic Programming', u'Topological Sort', u'Breadth-first Search', u'Trie', u'Random', u'Searching', u'Design', u'Bit Manipulation', u'Segment Tree', u'Array', u'Depth-first Search', u'Backtracking']\n",
      "*****************\n",
      "[u'Two Pointers', u'Recursion', u'Minimax', u'Sliding Window', u'Math', u'Sort', u'Map', u'String', u'Greedy', u'Union Find', u'Heap', u'Graph', u'Binary Search', u'Stack', u'Binary Indexed Tree', u'Hash Table', u'Divide and Conquer', u'Tree', u'Memoization', u'Binary Search Tree', u'Queue', u'Linked List', u'Dynamic Programming', u'Topological Sort', u'Breadth-first Search', u'Trie', u'Random', u'Searching', u'Design', u'Bit Manipulation', u'Segment Tree', u'Array', u'Depth-first Search', u'Backtracking']\n",
      "*****************\n",
      "[u'Two Pointers', u'Recursion', u'Minimax', u'Sliding Window', u'Math', u'Sort', u'Map', u'String', u'Greedy', u'Union Find', u'Heap', u'Graph', u'Binary Search', u'Stack', u'Binary Indexed Tree', u'Hash Table', u'Divide and Conquer', u'Tree', u'Memoization', u'Binary Search Tree', u'Queue', u'Linked List', u'Dynamic Programming', u'Topological Sort', u'Breadth-first Search', u'Trie', u'Random', u'Searching', u'Design', u'Bit Manipulation', u'Segment Tree', u'Array', u'Depth-first Search', u'Backtracking']\n",
      "*****************\n",
      "[u'Two Pointers', u'Recursion', u'Minimax', u'Sliding Window', u'Math', u'Sort', u'Map', u'String', u'Greedy', u'Union Find', u'Heap', u'Graph', u'Binary Search', u'Stack', u'Binary Indexed Tree', u'Hash Table', u'Divide and Conquer', u'Tree', u'Memoization', u'Binary Search Tree', u'Queue', u'Linked List', u'Dynamic Programming', u'Topological Sort', u'Breadth-first Search', u'Trie', u'Random', u'Searching', u'Design', u'Bit Manipulation', u'Segment Tree', u'Array', u'Depth-first Search', u'Backtracking']\n",
      "*****************\n",
      "[u'Two Pointers', u'Recursion', u'Minimax', u'Sliding Window', u'Math', u'Sort', u'Map', u'String', u'Greedy', u'Union Find', u'Heap', u'Graph', u'Binary Search', u'Stack', u'Binary Indexed Tree', u'Hash Table', u'Divide and Conquer', u'Tree', u'Memoization', u'Binary Search Tree', u'Queue', u'Linked List', u'Dynamic Programming', u'Topological Sort', u'Breadth-first Search', u'Trie', u'Random', u'Searching', u'Design', u'Bit Manipulation', u'Segment Tree', u'Array', u'Depth-first Search', u'Backtracking']\n",
      "*****************\n",
      "[u'Two Pointers', u'Recursion', u'Minimax', u'Sliding Window', u'Math', u'Sort', u'Map', u'String', u'Greedy', u'Union Find', u'Heap', u'Graph', u'Binary Search', u'Stack', u'Binary Indexed Tree', u'Hash Table', u'Divide and Conquer', u'Tree', u'Memoization', u'Binary Search Tree', u'Queue', u'Linked List', u'Dynamic Programming', u'Topological Sort', u'Breadth-first Search', u'Trie', u'Random', u'Searching', u'Design', u'Bit Manipulation', u'Segment Tree', u'Array', u'Depth-first Search', u'Backtracking']\n",
      "*****************\n",
      "Fitting 2 folds for each of 5 candidates, totalling 10 fits\n",
      "[CV] tfidf__max_df=0.5, clf__C=5, tfidf__ngram_range=(1, 2), tfidf__min_df=2 \n"
     ]
    },
    {
     "name": "stdout",
     "output_type": "stream",
     "text": [
      "[CV]  tfidf__max_df=0.5, clf__C=5, tfidf__ngram_range=(1, 2), tfidf__min_df=2, score=0, total=   1.1s\n",
      "[CV] tfidf__max_df=0.5, clf__C=5, tfidf__ngram_range=(1, 2), tfidf__min_df=2 \n"
     ]
    },
    {
     "name": "stderr",
     "output_type": "stream",
     "text": [
      "[Parallel(n_jobs=1)]: Done   1 out of   1 | elapsed:    1.3s remaining:    0.0s\n"
     ]
    },
    {
     "name": "stdout",
     "output_type": "stream",
     "text": [
      "[CV]  tfidf__max_df=0.5, clf__C=5, tfidf__ngram_range=(1, 2), tfidf__min_df=2, score=0, total=   1.6s\n",
      "[CV] tfidf__max_df=0.5, clf__C=10, tfidf__ngram_range=(1, 2), tfidf__min_df=2 \n"
     ]
    },
    {
     "name": "stderr",
     "output_type": "stream",
     "text": [
      "[Parallel(n_jobs=1)]: Done   2 out of   2 | elapsed:    3.4s remaining:    0.0s\n"
     ]
    },
    {
     "name": "stdout",
     "output_type": "stream",
     "text": [
      "[CV]  tfidf__max_df=0.5, clf__C=10, tfidf__ngram_range=(1, 2), tfidf__min_df=2, score=0, total=   1.1s\n",
      "[CV] tfidf__max_df=0.5, clf__C=10, tfidf__ngram_range=(1, 2), tfidf__min_df=2 \n"
     ]
    },
    {
     "name": "stderr",
     "output_type": "stream",
     "text": [
      "[Parallel(n_jobs=1)]: Done   3 out of   3 | elapsed:    4.8s remaining:    0.0s\n"
     ]
    },
    {
     "name": "stdout",
     "output_type": "stream",
     "text": [
      "[CV]  tfidf__max_df=0.5, clf__C=10, tfidf__ngram_range=(1, 2), tfidf__min_df=2, score=0, total=   1.6s\n",
      "[CV] tfidf__max_df=0.5, clf__C=20, tfidf__ngram_range=(1, 2), tfidf__min_df=2 \n"
     ]
    },
    {
     "name": "stderr",
     "output_type": "stream",
     "text": [
      "[Parallel(n_jobs=1)]: Done   4 out of   4 | elapsed:    6.8s remaining:    0.0s\n"
     ]
    },
    {
     "name": "stdout",
     "output_type": "stream",
     "text": [
      "[CV]  tfidf__max_df=0.5, clf__C=20, tfidf__ngram_range=(1, 2), tfidf__min_df=2, score=0, total=   1.0s\n",
      "[CV] tfidf__max_df=0.5, clf__C=20, tfidf__ngram_range=(1, 2), tfidf__min_df=2 \n"
     ]
    },
    {
     "name": "stderr",
     "output_type": "stream",
     "text": [
      "[Parallel(n_jobs=1)]: Done   5 out of   5 | elapsed:    8.1s remaining:    0.0s\n",
      "/anaconda2/envs/problemsClassifierEnv/lib/python2.7/site-packages/sklearn/svm/base.py:931: ConvergenceWarning: Liblinear failed to converge, increase the number of iterations.\n",
      "  \"the number of iterations.\", ConvergenceWarning)\n"
     ]
    },
    {
     "name": "stdout",
     "output_type": "stream",
     "text": [
      "[CV]  tfidf__max_df=0.5, clf__C=20, tfidf__ngram_range=(1, 2), tfidf__min_df=2, score=0, total=   1.8s\n",
      "[CV] tfidf__max_df=0.5, clf__C=50, tfidf__ngram_range=(1, 2), tfidf__min_df=2 \n"
     ]
    },
    {
     "name": "stderr",
     "output_type": "stream",
     "text": [
      "[Parallel(n_jobs=1)]: Done   6 out of   6 | elapsed:   10.3s remaining:    0.0s\n"
     ]
    },
    {
     "name": "stdout",
     "output_type": "stream",
     "text": [
      "[CV]  tfidf__max_df=0.5, clf__C=50, tfidf__ngram_range=(1, 2), tfidf__min_df=2, score=0, total=   1.2s\n",
      "[CV] tfidf__max_df=0.5, clf__C=50, tfidf__ngram_range=(1, 2), tfidf__min_df=2 \n"
     ]
    },
    {
     "name": "stderr",
     "output_type": "stream",
     "text": [
      "[Parallel(n_jobs=1)]: Done   7 out of   7 | elapsed:   11.8s remaining:    0.0s\n",
      "/anaconda2/envs/problemsClassifierEnv/lib/python2.7/site-packages/sklearn/svm/base.py:931: ConvergenceWarning: Liblinear failed to converge, increase the number of iterations.\n",
      "  \"the number of iterations.\", ConvergenceWarning)\n"
     ]
    },
    {
     "name": "stdout",
     "output_type": "stream",
     "text": [
      "[CV]  tfidf__max_df=0.5, clf__C=50, tfidf__ngram_range=(1, 2), tfidf__min_df=2, score=0, total=   1.9s\n",
      "[CV] tfidf__max_df=0.5, clf__C=100, tfidf__ngram_range=(1, 2), tfidf__min_df=2 \n"
     ]
    },
    {
     "name": "stderr",
     "output_type": "stream",
     "text": [
      "[Parallel(n_jobs=1)]: Done   8 out of   8 | elapsed:   14.0s remaining:    0.0s\n"
     ]
    },
    {
     "name": "stdout",
     "output_type": "stream",
     "text": [
      "[CV]  tfidf__max_df=0.5, clf__C=100, tfidf__ngram_range=(1, 2), tfidf__min_df=2, score=0, total=   1.2s\n",
      "[CV] tfidf__max_df=0.5, clf__C=100, tfidf__ngram_range=(1, 2), tfidf__min_df=2 \n"
     ]
    },
    {
     "name": "stderr",
     "output_type": "stream",
     "text": [
      "[Parallel(n_jobs=1)]: Done   9 out of   9 | elapsed:   15.5s remaining:    0.0s\n",
      "/anaconda2/envs/problemsClassifierEnv/lib/python2.7/site-packages/sklearn/svm/base.py:931: ConvergenceWarning: Liblinear failed to converge, increase the number of iterations.\n",
      "  \"the number of iterations.\", ConvergenceWarning)\n"
     ]
    },
    {
     "name": "stdout",
     "output_type": "stream",
     "text": [
      "[CV]  tfidf__max_df=0.5, clf__C=100, tfidf__ngram_range=(1, 2), tfidf__min_df=2, score=0, total=   2.0s\n"
     ]
    },
    {
     "name": "stderr",
     "output_type": "stream",
     "text": [
      "[Parallel(n_jobs=1)]: Done  10 out of  10 | elapsed:   17.9s finished\n"
     ]
    },
    {
     "name": "stdout",
     "output_type": "stream",
     "text": [
      "Best parameters set:\n",
      "[('tfidf', TfidfVectorizer(analyzer=u'word', binary=False, decode_error=u'strict',\n",
      "        dtype=<type 'numpy.float64'>, encoding=u'utf-8', input=u'content',\n",
      "        lowercase=True, max_df=0.5, max_features=None, min_df=2,\n",
      "        ngram_range=(1, 2), norm=u'l2', preprocessor=None, smooth_idf=True,\n",
      "        stop_words=None, strip_accents=None, sublinear_tf=False,\n",
      "        token_pattern=u'(?u)\\\\b\\\\w\\\\w+\\\\b', tokenizer=None, use_idf=True,\n",
      "        vocabulary=None)), ('clf', LinearSVC(C=5, class_weight='balanced', dual=True, fit_intercept=True,\n",
      "     intercept_scaling=1, loss='squared_hinge', max_iter=1000,\n",
      "     multi_class='ovr', penalty='l2', random_state=None, tol=0.0001,\n",
      "     verbose=0))]\n",
      "Applying best classifier on test data:\n"
     ]
    },
    {
     "name": "stderr",
     "output_type": "stream",
     "text": [
      "/anaconda2/envs/problemsClassifierEnv/lib/python2.7/site-packages/sklearn/metrics/classification.py:1143: UndefinedMetricWarning: Precision and F-score are ill-defined and being set to 0.0 in labels with no predicted samples.\n",
      "  'precision', 'predicted', average, warn_for)\n",
      "/anaconda2/envs/problemsClassifierEnv/lib/python2.7/site-packages/sklearn/metrics/classification.py:1145: UndefinedMetricWarning: Recall and F-score are ill-defined and being set to 0.0 in labels with no true samples.\n",
      "  'recall', 'true', average, warn_for)\n",
      "/anaconda2/envs/problemsClassifierEnv/lib/python2.7/site-packages/sklearn/metrics/classification.py:1143: UndefinedMetricWarning: Precision and F-score are ill-defined and being set to 0.0 in labels with no predicted samples.\n",
      "  'precision', 'predicted', average, warn_for)\n",
      "/anaconda2/envs/problemsClassifierEnv/lib/python2.7/site-packages/sklearn/metrics/classification.py:1145: UndefinedMetricWarning: Recall and F-score are ill-defined and being set to 0.0 in labels with no true samples.\n",
      "  'recall', 'true', average, warn_for)\n",
      "/anaconda2/envs/problemsClassifierEnv/lib/python2.7/site-packages/sklearn/metrics/classification.py:1143: UndefinedMetricWarning: Precision and F-score are ill-defined and being set to 0.0 in labels with no predicted samples.\n",
      "  'precision', 'predicted', average, warn_for)\n",
      "/anaconda2/envs/problemsClassifierEnv/lib/python2.7/site-packages/sklearn/metrics/classification.py:1145: UndefinedMetricWarning: Recall and F-score are ill-defined and being set to 0.0 in labels with no true samples.\n",
      "  'recall', 'true', average, warn_for)\n",
      "/anaconda2/envs/problemsClassifierEnv/lib/python2.7/site-packages/sklearn/metrics/classification.py:1143: UndefinedMetricWarning: Precision and F-score are ill-defined and being set to 0.0 in samples with no predicted labels.\n",
      "  'precision', 'predicted', average, warn_for)\n",
      "/anaconda2/envs/problemsClassifierEnv/lib/python2.7/site-packages/sklearn/metrics/classification.py:1145: UndefinedMetricWarning: Recall and F-score are ill-defined and being set to 0.0 in samples with no true labels.\n",
      "  'recall', 'true', average, warn_for)\n",
      "[Parallel(n_jobs=1)]: Using backend SequentialBackend with 1 concurrent workers.\n"
     ]
    },
    {
     "name": "stdout",
     "output_type": "stream",
     "text": [
      "[u'Two Pointers', u'Recursion', u'Minimax', u'Sliding Window', u'Math', u'Sort', u'Map', u'String', u'Greedy', u'Union Find', u'Heap', u'Graph', u'Binary Search', u'Stack', u'Binary Indexed Tree', u'Hash Table', u'Divide and Conquer', u'Tree', u'Memoization', u'Binary Search Tree', u'Queue', u'Linked List', u'Dynamic Programming', u'Topological Sort', u'Breadth-first Search', u'Trie', u'Random', u'Searching', u'Design', u'Bit Manipulation', u'Segment Tree', u'Array', u'Depth-first Search', u'Backtracking']\n",
      "*****************\n",
      "[u'Two Pointers', u'Recursion', u'Minimax', u'Sliding Window', u'Math', u'Sort', u'Map', u'String', u'Greedy', u'Union Find', u'Heap', u'Graph', u'Binary Search', u'Stack', u'Binary Indexed Tree', u'Hash Table', u'Divide and Conquer', u'Tree', u'Memoization', u'Binary Search Tree', u'Queue', u'Linked List', u'Dynamic Programming', u'Topological Sort', u'Breadth-first Search', u'Trie', u'Random', u'Searching', u'Design', u'Bit Manipulation', u'Segment Tree', u'Array', u'Depth-first Search', u'Backtracking']\n",
      "*****************\n",
      "[u'Two Pointers', u'Recursion', u'Minimax', u'Sliding Window', u'Math', u'Sort', u'Map', u'String', u'Greedy', u'Union Find', u'Heap', u'Graph', u'Binary Search', u'Stack', u'Binary Indexed Tree', u'Hash Table', u'Divide and Conquer', u'Tree', u'Memoization', u'Binary Search Tree', u'Queue', u'Linked List', u'Dynamic Programming', u'Topological Sort', u'Breadth-first Search', u'Trie', u'Random', u'Searching', u'Design', u'Bit Manipulation', u'Segment Tree', u'Array', u'Depth-first Search', u'Backtracking']\n",
      "*****************\n",
      "[u'Two Pointers', u'Recursion', u'Minimax', u'Sliding Window', u'Math', u'Sort', u'Map', u'String', u'Greedy', u'Union Find', u'Heap', u'Graph', u'Binary Search', u'Stack', u'Binary Indexed Tree', u'Hash Table', u'Divide and Conquer', u'Tree', u'Memoization', u'Binary Search Tree', u'Queue', u'Linked List', u'Dynamic Programming', u'Topological Sort', u'Breadth-first Search', u'Trie', u'Random', u'Searching', u'Design', u'Bit Manipulation', u'Segment Tree', u'Array', u'Depth-first Search', u'Backtracking']\n",
      "*****************\n",
      "[u'Two Pointers', u'Recursion', u'Minimax', u'Sliding Window', u'Math', u'Sort', u'Map', u'String', u'Greedy', u'Union Find', u'Heap', u'Graph', u'Binary Search', u'Stack', u'Binary Indexed Tree', u'Hash Table', u'Divide and Conquer', u'Tree', u'Memoization', u'Binary Search Tree', u'Queue', u'Linked List', u'Dynamic Programming', u'Topological Sort', u'Breadth-first Search', u'Trie', u'Random', u'Searching', u'Design', u'Bit Manipulation', u'Segment Tree', u'Array', u'Depth-first Search', u'Backtracking']\n",
      "*****************\n",
      "[u'Two Pointers', u'Recursion', u'Minimax', u'Sliding Window', u'Math', u'Sort', u'Map', u'String', u'Greedy', u'Union Find', u'Heap', u'Graph', u'Binary Search', u'Stack', u'Binary Indexed Tree', u'Hash Table', u'Divide and Conquer', u'Tree', u'Memoization', u'Binary Search Tree', u'Queue', u'Linked List', u'Dynamic Programming', u'Topological Sort', u'Breadth-first Search', u'Trie', u'Random', u'Searching', u'Design', u'Bit Manipulation', u'Segment Tree', u'Array', u'Depth-first Search', u'Backtracking']\n",
      "*****************\n",
      "[u'Two Pointers', u'Recursion', u'Minimax', u'Sliding Window', u'Math', u'Sort', u'Map', u'String', u'Greedy', u'Union Find', u'Heap', u'Graph', u'Binary Search', u'Stack', u'Binary Indexed Tree', u'Hash Table', u'Divide and Conquer', u'Tree', u'Memoization', u'Binary Search Tree', u'Queue', u'Linked List', u'Dynamic Programming', u'Topological Sort', u'Breadth-first Search', u'Trie', u'Random', u'Searching', u'Design', u'Bit Manipulation', u'Segment Tree', u'Array', u'Depth-first Search', u'Backtracking']\n",
      "*****************\n",
      "[u'Two Pointers', u'Recursion', u'Minimax', u'Sliding Window', u'Math', u'Sort', u'Map', u'String', u'Greedy', u'Union Find', u'Heap', u'Graph', u'Binary Search', u'Stack', u'Binary Indexed Tree', u'Hash Table', u'Divide and Conquer', u'Tree', u'Memoization', u'Binary Search Tree', u'Queue', u'Linked List', u'Dynamic Programming', u'Topological Sort', u'Breadth-first Search', u'Trie', u'Random', u'Searching', u'Design', u'Bit Manipulation', u'Segment Tree', u'Array', u'Depth-first Search', u'Backtracking']\n",
      "*****************\n",
      "[u'Two Pointers', u'Recursion', u'Minimax', u'Sliding Window', u'Math', u'Sort', u'Map', u'String', u'Greedy', u'Union Find', u'Heap', u'Graph', u'Binary Search', u'Stack', u'Binary Indexed Tree', u'Hash Table', u'Divide and Conquer', u'Tree', u'Memoization', u'Binary Search Tree', u'Queue', u'Linked List', u'Dynamic Programming', u'Topological Sort', u'Breadth-first Search', u'Trie', u'Random', u'Searching', u'Design', u'Bit Manipulation', u'Segment Tree', u'Array', u'Depth-first Search', u'Backtracking']\n",
      "*****************\n",
      "[u'Two Pointers', u'Recursion', u'Minimax', u'Sliding Window', u'Math', u'Sort', u'Map', u'String', u'Greedy', u'Union Find', u'Heap', u'Graph', u'Binary Search', u'Stack', u'Binary Indexed Tree', u'Hash Table', u'Divide and Conquer', u'Tree', u'Memoization', u'Binary Search Tree', u'Queue', u'Linked List', u'Dynamic Programming', u'Topological Sort', u'Breadth-first Search', u'Trie', u'Random', u'Searching', u'Design', u'Bit Manipulation', u'Segment Tree', u'Array', u'Depth-first Search', u'Backtracking']\n",
      "*****************\n",
      "[u'Two Pointers', u'Recursion', u'Minimax', u'Sliding Window', u'Math', u'Sort', u'Map', u'String', u'Greedy', u'Union Find', u'Heap', u'Graph', u'Binary Search', u'Stack', u'Binary Indexed Tree', u'Hash Table', u'Divide and Conquer', u'Tree', u'Memoization', u'Binary Search Tree', u'Queue', u'Linked List', u'Dynamic Programming', u'Topological Sort', u'Breadth-first Search', u'Trie', u'Random', u'Searching', u'Design', u'Bit Manipulation', u'Segment Tree', u'Array', u'Depth-first Search', u'Backtracking']\n",
      "*****************\n",
      "[u'Two Pointers', u'Recursion', u'Minimax', u'Sliding Window', u'Math', u'Sort', u'Map', u'String', u'Greedy', u'Union Find', u'Heap', u'Graph', u'Binary Search', u'Stack', u'Binary Indexed Tree', u'Hash Table', u'Divide and Conquer', u'Tree', u'Memoization', u'Binary Search Tree', u'Queue', u'Linked List', u'Dynamic Programming', u'Topological Sort', u'Breadth-first Search', u'Trie', u'Random', u'Searching', u'Design', u'Bit Manipulation', u'Segment Tree', u'Array', u'Depth-first Search', u'Backtracking']\n",
      "*****************\n",
      "[u'Two Pointers', u'Recursion', u'Minimax', u'Sliding Window', u'Math', u'Sort', u'Map', u'String', u'Greedy', u'Union Find', u'Heap', u'Graph', u'Binary Search', u'Stack', u'Binary Indexed Tree', u'Hash Table', u'Divide and Conquer', u'Tree', u'Memoization', u'Binary Search Tree', u'Queue', u'Linked List', u'Dynamic Programming', u'Topological Sort', u'Breadth-first Search', u'Trie', u'Random', u'Searching', u'Design', u'Bit Manipulation', u'Segment Tree', u'Array', u'Depth-first Search', u'Backtracking']\n",
      "*****************\n",
      "[u'Two Pointers', u'Recursion', u'Minimax', u'Sliding Window', u'Math', u'Sort', u'Map', u'String', u'Greedy', u'Union Find', u'Heap', u'Graph', u'Binary Search', u'Stack', u'Binary Indexed Tree', u'Hash Table', u'Divide and Conquer', u'Tree', u'Memoization', u'Binary Search Tree', u'Queue', u'Linked List', u'Dynamic Programming', u'Topological Sort', u'Breadth-first Search', u'Trie', u'Random', u'Searching', u'Design', u'Bit Manipulation', u'Segment Tree', u'Array', u'Depth-first Search', u'Backtracking']\n",
      "*****************\n",
      "[u'Two Pointers', u'Recursion', u'Minimax', u'Sliding Window', u'Math', u'Sort', u'Map', u'String', u'Greedy', u'Union Find', u'Heap', u'Graph', u'Binary Search', u'Stack', u'Binary Indexed Tree', u'Hash Table', u'Divide and Conquer', u'Tree', u'Memoization', u'Binary Search Tree', u'Queue', u'Linked List', u'Dynamic Programming', u'Topological Sort', u'Breadth-first Search', u'Trie', u'Random', u'Searching', u'Design', u'Bit Manipulation', u'Segment Tree', u'Array', u'Depth-first Search', u'Backtracking']\n",
      "*****************\n",
      "[u'Two Pointers', u'Recursion', u'Minimax', u'Sliding Window', u'Math', u'Sort', u'Map', u'String', u'Greedy', u'Union Find', u'Heap', u'Graph', u'Binary Search', u'Stack', u'Binary Indexed Tree', u'Hash Table', u'Divide and Conquer', u'Tree', u'Memoization', u'Binary Search Tree', u'Queue', u'Linked List', u'Dynamic Programming', u'Topological Sort', u'Breadth-first Search', u'Trie', u'Random', u'Searching', u'Design', u'Bit Manipulation', u'Segment Tree', u'Array', u'Depth-first Search', u'Backtracking']\n",
      "*****************\n",
      "[u'Two Pointers', u'Recursion', u'Minimax', u'Sliding Window', u'Math', u'Sort', u'Map', u'String', u'Greedy', u'Union Find', u'Heap', u'Graph', u'Binary Search', u'Stack', u'Binary Indexed Tree', u'Hash Table', u'Divide and Conquer', u'Tree', u'Memoization', u'Binary Search Tree', u'Queue', u'Linked List', u'Dynamic Programming', u'Topological Sort', u'Breadth-first Search', u'Trie', u'Random', u'Searching', u'Design', u'Bit Manipulation', u'Segment Tree', u'Array', u'Depth-first Search', u'Backtracking']\n",
      "*****************\n",
      "[u'Two Pointers', u'Recursion', u'Minimax', u'Sliding Window', u'Math', u'Sort', u'Map', u'String', u'Greedy', u'Union Find', u'Heap', u'Graph', u'Binary Search', u'Stack', u'Binary Indexed Tree', u'Hash Table', u'Divide and Conquer', u'Tree', u'Memoization', u'Binary Search Tree', u'Queue', u'Linked List', u'Dynamic Programming', u'Topological Sort', u'Breadth-first Search', u'Trie', u'Random', u'Searching', u'Design', u'Bit Manipulation', u'Segment Tree', u'Array', u'Depth-first Search', u'Backtracking']\n",
      "*****************\n",
      "[u'Two Pointers', u'Recursion', u'Minimax', u'Sliding Window', u'Math', u'Sort', u'Map', u'String', u'Greedy', u'Union Find', u'Heap', u'Graph', u'Binary Search', u'Stack', u'Binary Indexed Tree', u'Hash Table', u'Divide and Conquer', u'Tree', u'Memoization', u'Binary Search Tree', u'Queue', u'Linked List', u'Dynamic Programming', u'Topological Sort', u'Breadth-first Search', u'Trie', u'Random', u'Searching', u'Design', u'Bit Manipulation', u'Segment Tree', u'Array', u'Depth-first Search', u'Backtracking']\n",
      "*****************\n",
      "[u'Two Pointers', u'Recursion', u'Minimax', u'Sliding Window', u'Math', u'Sort', u'Map', u'String', u'Greedy', u'Union Find', u'Heap', u'Graph', u'Binary Search', u'Stack', u'Binary Indexed Tree', u'Hash Table', u'Divide and Conquer', u'Tree', u'Memoization', u'Binary Search Tree', u'Queue', u'Linked List', u'Dynamic Programming', u'Topological Sort', u'Breadth-first Search', u'Trie', u'Random', u'Searching', u'Design', u'Bit Manipulation', u'Segment Tree', u'Array', u'Depth-first Search', u'Backtracking']\n",
      "*****************\n",
      "[u'Two Pointers', u'Recursion', u'Minimax', u'Sliding Window', u'Math', u'Sort', u'Map', u'String', u'Greedy', u'Union Find', u'Heap', u'Graph', u'Binary Search', u'Stack', u'Binary Indexed Tree', u'Hash Table', u'Divide and Conquer', u'Tree', u'Memoization', u'Binary Search Tree', u'Queue', u'Linked List', u'Dynamic Programming', u'Topological Sort', u'Breadth-first Search', u'Trie', u'Random', u'Searching', u'Design', u'Bit Manipulation', u'Segment Tree', u'Array', u'Depth-first Search', u'Backtracking']\n",
      "*****************\n",
      "[u'Two Pointers', u'Recursion', u'Minimax', u'Sliding Window', u'Math', u'Sort', u'Map', u'String', u'Greedy', u'Union Find', u'Heap', u'Graph', u'Binary Search', u'Stack', u'Binary Indexed Tree', u'Hash Table', u'Divide and Conquer', u'Tree', u'Memoization', u'Binary Search Tree', u'Queue', u'Linked List', u'Dynamic Programming', u'Topological Sort', u'Breadth-first Search', u'Trie', u'Random', u'Searching', u'Design', u'Bit Manipulation', u'Segment Tree', u'Array', u'Depth-first Search', u'Backtracking']\n",
      "*****************\n",
      "[u'Two Pointers', u'Recursion', u'Minimax', u'Sliding Window', u'Math', u'Sort', u'Map', u'String', u'Greedy', u'Union Find', u'Heap', u'Graph', u'Binary Search', u'Stack', u'Binary Indexed Tree', u'Hash Table', u'Divide and Conquer', u'Tree', u'Memoization', u'Binary Search Tree', u'Queue', u'Linked List', u'Dynamic Programming', u'Topological Sort', u'Breadth-first Search', u'Trie', u'Random', u'Searching', u'Design', u'Bit Manipulation', u'Segment Tree', u'Array', u'Depth-first Search', u'Backtracking']\n",
      "*****************\n",
      "[u'Two Pointers', u'Recursion', u'Minimax', u'Sliding Window', u'Math', u'Sort', u'Map', u'String', u'Greedy', u'Union Find', u'Heap', u'Graph', u'Binary Search', u'Stack', u'Binary Indexed Tree', u'Hash Table', u'Divide and Conquer', u'Tree', u'Memoization', u'Binary Search Tree', u'Queue', u'Linked List', u'Dynamic Programming', u'Topological Sort', u'Breadth-first Search', u'Trie', u'Random', u'Searching', u'Design', u'Bit Manipulation', u'Segment Tree', u'Array', u'Depth-first Search', u'Backtracking']\n",
      "*****************\n",
      "[u'Two Pointers', u'Recursion', u'Minimax', u'Sliding Window', u'Math', u'Sort', u'Map', u'String', u'Greedy', u'Union Find', u'Heap', u'Graph', u'Binary Search', u'Stack', u'Binary Indexed Tree', u'Hash Table', u'Divide and Conquer', u'Tree', u'Memoization', u'Binary Search Tree', u'Queue', u'Linked List', u'Dynamic Programming', u'Topological Sort', u'Breadth-first Search', u'Trie', u'Random', u'Searching', u'Design', u'Bit Manipulation', u'Segment Tree', u'Array', u'Depth-first Search', u'Backtracking']\n",
      "*****************\n",
      "[u'Two Pointers', u'Recursion', u'Minimax', u'Sliding Window', u'Math', u'Sort', u'Map', u'String', u'Greedy', u'Union Find', u'Heap', u'Graph', u'Binary Search', u'Stack', u'Binary Indexed Tree', u'Hash Table', u'Divide and Conquer', u'Tree', u'Memoization', u'Binary Search Tree', u'Queue', u'Linked List', u'Dynamic Programming', u'Topological Sort', u'Breadth-first Search', u'Trie', u'Random', u'Searching', u'Design', u'Bit Manipulation', u'Segment Tree', u'Array', u'Depth-first Search', u'Backtracking']\n",
      "*****************\n",
      "[u'Two Pointers', u'Recursion', u'Minimax', u'Sliding Window', u'Math', u'Sort', u'Map', u'String', u'Greedy', u'Union Find', u'Heap', u'Graph', u'Binary Search', u'Stack', u'Binary Indexed Tree', u'Hash Table', u'Divide and Conquer', u'Tree', u'Memoization', u'Binary Search Tree', u'Queue', u'Linked List', u'Dynamic Programming', u'Topological Sort', u'Breadth-first Search', u'Trie', u'Random', u'Searching', u'Design', u'Bit Manipulation', u'Segment Tree', u'Array', u'Depth-first Search', u'Backtracking']\n",
      "*****************\n",
      "[u'Two Pointers', u'Recursion', u'Minimax', u'Sliding Window', u'Math', u'Sort', u'Map', u'String', u'Greedy', u'Union Find', u'Heap', u'Graph', u'Binary Search', u'Stack', u'Binary Indexed Tree', u'Hash Table', u'Divide and Conquer', u'Tree', u'Memoization', u'Binary Search Tree', u'Queue', u'Linked List', u'Dynamic Programming', u'Topological Sort', u'Breadth-first Search', u'Trie', u'Random', u'Searching', u'Design', u'Bit Manipulation', u'Segment Tree', u'Array', u'Depth-first Search', u'Backtracking']\n",
      "*****************\n",
      "[u'Two Pointers', u'Recursion', u'Minimax', u'Sliding Window', u'Math', u'Sort', u'Map', u'String', u'Greedy', u'Union Find', u'Heap', u'Graph', u'Binary Search', u'Stack', u'Binary Indexed Tree', u'Hash Table', u'Divide and Conquer', u'Tree', u'Memoization', u'Binary Search Tree', u'Queue', u'Linked List', u'Dynamic Programming', u'Topological Sort', u'Breadth-first Search', u'Trie', u'Random', u'Searching', u'Design', u'Bit Manipulation', u'Segment Tree', u'Array', u'Depth-first Search', u'Backtracking']\n",
      "*****************\n",
      "[u'Two Pointers', u'Recursion', u'Minimax', u'Sliding Window', u'Math', u'Sort', u'Map', u'String', u'Greedy', u'Union Find', u'Heap', u'Graph', u'Binary Search', u'Stack', u'Binary Indexed Tree', u'Hash Table', u'Divide and Conquer', u'Tree', u'Memoization', u'Binary Search Tree', u'Queue', u'Linked List', u'Dynamic Programming', u'Topological Sort', u'Breadth-first Search', u'Trie', u'Random', u'Searching', u'Design', u'Bit Manipulation', u'Segment Tree', u'Array', u'Depth-first Search', u'Backtracking']\n",
      "*****************\n",
      "[u'Two Pointers', u'Recursion', u'Minimax', u'Sliding Window', u'Math', u'Sort', u'Map', u'String', u'Greedy', u'Union Find', u'Heap', u'Graph', u'Binary Search', u'Stack', u'Binary Indexed Tree', u'Hash Table', u'Divide and Conquer', u'Tree', u'Memoization', u'Binary Search Tree', u'Queue', u'Linked List', u'Dynamic Programming', u'Topological Sort', u'Breadth-first Search', u'Trie', u'Random', u'Searching', u'Design', u'Bit Manipulation', u'Segment Tree', u'Array', u'Depth-first Search', u'Backtracking']\n",
      "*****************\n",
      "[u'Two Pointers', u'Recursion', u'Minimax', u'Sliding Window', u'Math', u'Sort', u'Map', u'String', u'Greedy', u'Union Find', u'Heap', u'Graph', u'Binary Search', u'Stack', u'Binary Indexed Tree', u'Hash Table', u'Divide and Conquer', u'Tree', u'Memoization', u'Binary Search Tree', u'Queue', u'Linked List', u'Dynamic Programming', u'Topological Sort', u'Breadth-first Search', u'Trie', u'Random', u'Searching', u'Design', u'Bit Manipulation', u'Segment Tree', u'Array', u'Depth-first Search', u'Backtracking']\n",
      "*****************\n",
      "[u'Two Pointers', u'Recursion', u'Minimax', u'Sliding Window', u'Math', u'Sort', u'Map', u'String', u'Greedy', u'Union Find', u'Heap', u'Graph', u'Binary Search', u'Stack', u'Binary Indexed Tree', u'Hash Table', u'Divide and Conquer', u'Tree', u'Memoization', u'Binary Search Tree', u'Queue', u'Linked List', u'Dynamic Programming', u'Topological Sort', u'Breadth-first Search', u'Trie', u'Random', u'Searching', u'Design', u'Bit Manipulation', u'Segment Tree', u'Array', u'Depth-first Search', u'Backtracking']\n",
      "*****************\n",
      "[u'Two Pointers', u'Recursion', u'Minimax', u'Sliding Window', u'Math', u'Sort', u'Map', u'String', u'Greedy', u'Union Find', u'Heap', u'Graph', u'Binary Search', u'Stack', u'Binary Indexed Tree', u'Hash Table', u'Divide and Conquer', u'Tree', u'Memoization', u'Binary Search Tree', u'Queue', u'Linked List', u'Dynamic Programming', u'Topological Sort', u'Breadth-first Search', u'Trie', u'Random', u'Searching', u'Design', u'Bit Manipulation', u'Segment Tree', u'Array', u'Depth-first Search', u'Backtracking']\n",
      "*****************\n",
      "Fitting 2 folds for each of 5 candidates, totalling 10 fits\n",
      "[CV] tfidf__max_df=0.5, clf__C=5, tfidf__ngram_range=(1, 2), tfidf__min_df=2 \n"
     ]
    },
    {
     "name": "stdout",
     "output_type": "stream",
     "text": [
      "[CV]  tfidf__max_df=0.5, clf__C=5, tfidf__ngram_range=(1, 2), tfidf__min_df=2, score=0, total=   1.1s\n",
      "[CV] tfidf__max_df=0.5, clf__C=5, tfidf__ngram_range=(1, 2), tfidf__min_df=2 \n"
     ]
    },
    {
     "name": "stderr",
     "output_type": "stream",
     "text": [
      "[Parallel(n_jobs=1)]: Done   1 out of   1 | elapsed:    1.4s remaining:    0.0s\n"
     ]
    },
    {
     "name": "stdout",
     "output_type": "stream",
     "text": [
      "[CV]  tfidf__max_df=0.5, clf__C=5, tfidf__ngram_range=(1, 2), tfidf__min_df=2, score=0, total=   1.7s\n",
      "[CV] tfidf__max_df=0.5, clf__C=10, tfidf__ngram_range=(1, 2), tfidf__min_df=2 \n"
     ]
    },
    {
     "name": "stderr",
     "output_type": "stream",
     "text": [
      "[Parallel(n_jobs=1)]: Done   2 out of   2 | elapsed:    3.4s remaining:    0.0s\n"
     ]
    },
    {
     "name": "stdout",
     "output_type": "stream",
     "text": [
      "[CV]  tfidf__max_df=0.5, clf__C=10, tfidf__ngram_range=(1, 2), tfidf__min_df=2, score=0, total=   1.0s\n",
      "[CV] tfidf__max_df=0.5, clf__C=10, tfidf__ngram_range=(1, 2), tfidf__min_df=2 \n"
     ]
    },
    {
     "name": "stderr",
     "output_type": "stream",
     "text": [
      "[Parallel(n_jobs=1)]: Done   3 out of   3 | elapsed:    4.7s remaining:    0.0s\n"
     ]
    },
    {
     "name": "stdout",
     "output_type": "stream",
     "text": [
      "[CV]  tfidf__max_df=0.5, clf__C=10, tfidf__ngram_range=(1, 2), tfidf__min_df=2, score=0, total=   1.6s\n",
      "[CV] tfidf__max_df=0.5, clf__C=20, tfidf__ngram_range=(1, 2), tfidf__min_df=2 \n"
     ]
    },
    {
     "name": "stderr",
     "output_type": "stream",
     "text": [
      "[Parallel(n_jobs=1)]: Done   4 out of   4 | elapsed:    6.8s remaining:    0.0s\n"
     ]
    },
    {
     "name": "stdout",
     "output_type": "stream",
     "text": [
      "[CV]  tfidf__max_df=0.5, clf__C=20, tfidf__ngram_range=(1, 2), tfidf__min_df=2, score=0, total=   1.1s\n",
      "[CV] tfidf__max_df=0.5, clf__C=20, tfidf__ngram_range=(1, 2), tfidf__min_df=2 \n"
     ]
    },
    {
     "name": "stderr",
     "output_type": "stream",
     "text": [
      "[Parallel(n_jobs=1)]: Done   5 out of   5 | elapsed:    8.1s remaining:    0.0s\n",
      "/anaconda2/envs/problemsClassifierEnv/lib/python2.7/site-packages/sklearn/svm/base.py:931: ConvergenceWarning: Liblinear failed to converge, increase the number of iterations.\n",
      "  \"the number of iterations.\", ConvergenceWarning)\n"
     ]
    },
    {
     "name": "stdout",
     "output_type": "stream",
     "text": [
      "[CV]  tfidf__max_df=0.5, clf__C=20, tfidf__ngram_range=(1, 2), tfidf__min_df=2, score=0, total=   2.1s\n",
      "[CV] tfidf__max_df=0.5, clf__C=50, tfidf__ngram_range=(1, 2), tfidf__min_df=2 \n"
     ]
    },
    {
     "name": "stderr",
     "output_type": "stream",
     "text": [
      "[Parallel(n_jobs=1)]: Done   6 out of   6 | elapsed:   10.7s remaining:    0.0s\n"
     ]
    },
    {
     "name": "stdout",
     "output_type": "stream",
     "text": [
      "[CV]  tfidf__max_df=0.5, clf__C=50, tfidf__ngram_range=(1, 2), tfidf__min_df=2, score=0, total=   1.4s\n",
      "[CV] tfidf__max_df=0.5, clf__C=50, tfidf__ngram_range=(1, 2), tfidf__min_df=2 \n"
     ]
    },
    {
     "name": "stderr",
     "output_type": "stream",
     "text": [
      "[Parallel(n_jobs=1)]: Done   7 out of   7 | elapsed:   12.5s remaining:    0.0s\n",
      "/anaconda2/envs/problemsClassifierEnv/lib/python2.7/site-packages/sklearn/svm/base.py:931: ConvergenceWarning: Liblinear failed to converge, increase the number of iterations.\n",
      "  \"the number of iterations.\", ConvergenceWarning)\n"
     ]
    },
    {
     "name": "stdout",
     "output_type": "stream",
     "text": [
      "[CV]  tfidf__max_df=0.5, clf__C=50, tfidf__ngram_range=(1, 2), tfidf__min_df=2, score=0, total=   2.3s\n",
      "[CV] tfidf__max_df=0.5, clf__C=100, tfidf__ngram_range=(1, 2), tfidf__min_df=2 \n"
     ]
    },
    {
     "name": "stderr",
     "output_type": "stream",
     "text": [
      "[Parallel(n_jobs=1)]: Done   8 out of   8 | elapsed:   15.3s remaining:    0.0s\n"
     ]
    },
    {
     "name": "stdout",
     "output_type": "stream",
     "text": [
      "[CV]  tfidf__max_df=0.5, clf__C=100, tfidf__ngram_range=(1, 2), tfidf__min_df=2, score=0, total=   1.3s\n",
      "[CV] tfidf__max_df=0.5, clf__C=100, tfidf__ngram_range=(1, 2), tfidf__min_df=2 \n"
     ]
    },
    {
     "name": "stderr",
     "output_type": "stream",
     "text": [
      "[Parallel(n_jobs=1)]: Done   9 out of   9 | elapsed:   16.8s remaining:    0.0s\n",
      "/anaconda2/envs/problemsClassifierEnv/lib/python2.7/site-packages/sklearn/svm/base.py:931: ConvergenceWarning: Liblinear failed to converge, increase the number of iterations.\n",
      "  \"the number of iterations.\", ConvergenceWarning)\n"
     ]
    },
    {
     "name": "stdout",
     "output_type": "stream",
     "text": [
      "[CV]  tfidf__max_df=0.5, clf__C=100, tfidf__ngram_range=(1, 2), tfidf__min_df=2, score=0, total=   1.8s\n"
     ]
    },
    {
     "name": "stderr",
     "output_type": "stream",
     "text": [
      "[Parallel(n_jobs=1)]: Done  10 out of  10 | elapsed:   19.0s finished\n"
     ]
    },
    {
     "name": "stdout",
     "output_type": "stream",
     "text": [
      "Best parameters set:\n",
      "[('tfidf', TfidfVectorizer(analyzer=u'word', binary=False, decode_error=u'strict',\n",
      "        dtype=<type 'numpy.float64'>, encoding=u'utf-8', input=u'content',\n",
      "        lowercase=True, max_df=0.5, max_features=None, min_df=2,\n",
      "        ngram_range=(1, 2), norm=u'l2', preprocessor=None, smooth_idf=True,\n",
      "        stop_words=None, strip_accents=None, sublinear_tf=False,\n",
      "        token_pattern=u'(?u)\\\\b\\\\w\\\\w+\\\\b', tokenizer=None, use_idf=True,\n",
      "        vocabulary=None)), ('clf', LinearSVC(C=5, class_weight='balanced', dual=True, fit_intercept=True,\n",
      "     intercept_scaling=1, loss='squared_hinge', max_iter=1000,\n",
      "     multi_class='ovr', penalty='l2', random_state=None, tol=0.0001,\n",
      "     verbose=0))]\n",
      "Applying best classifier on test data:\n",
      "[u'Two Pointers', u'Recursion', u'Minimax', u'Sliding Window', u'Math', u'Sort', u'Map', u'String', u'Greedy', u'Union Find', u'Heap', u'Graph', u'Binary Search', u'Stack', u'Binary Indexed Tree', u'Hash Table', u'Divide and Conquer', u'Tree', u'Memoization', u'Binary Search Tree', u'Queue', u'Linked List', u'Dynamic Programming', u'Topological Sort', u'Breadth-first Search', u'Trie', u'Random', u'Searching', u'Design', u'Bit Manipulation', u'Segment Tree', u'Array', u'Depth-first Search', u'Backtracking']\n",
      "*****************\n",
      "[u'Two Pointers', u'Recursion', u'Minimax', u'Sliding Window', u'Math', u'Sort', u'Map', u'String', u'Greedy', u'Union Find', u'Heap', u'Graph', u'Binary Search', u'Stack', u'Binary Indexed Tree', u'Hash Table', u'Divide and Conquer', u'Tree', u'Memoization', u'Binary Search Tree', u'Queue', u'Linked List', u'Dynamic Programming', u'Topological Sort', u'Breadth-first Search', u'Trie', u'Random', u'Searching', u'Design', u'Bit Manipulation', u'Segment Tree', u'Array', u'Depth-first Search', u'Backtracking']\n",
      "*****************\n",
      "[u'Two Pointers', u'Recursion', u'Minimax', u'Sliding Window', u'Math', u'Sort', u'Map', u'String', u'Greedy', u'Union Find', u'Heap', u'Graph', u'Binary Search', u'Stack', u'Binary Indexed Tree', u'Hash Table', u'Divide and Conquer', u'Tree', u'Memoization', u'Binary Search Tree', u'Queue', u'Linked List', u'Dynamic Programming', u'Topological Sort', u'Breadth-first Search', u'Trie', u'Random', u'Searching', u'Design', u'Bit Manipulation', u'Segment Tree', u'Array', u'Depth-first Search', u'Backtracking']\n",
      "*****************\n",
      "[u'Two Pointers', u'Recursion', u'Minimax', u'Sliding Window', u'Math', u'Sort', u'Map', u'String', u'Greedy', u'Union Find', u'Heap', u'Graph', u'Binary Search', u'Stack', u'Binary Indexed Tree', u'Hash Table', u'Divide and Conquer', u'Tree', u'Memoization', u'Binary Search Tree', u'Queue', u'Linked List', u'Dynamic Programming', u'Topological Sort', u'Breadth-first Search', u'Trie', u'Random', u'Searching', u'Design', u'Bit Manipulation', u'Segment Tree', u'Array', u'Depth-first Search', u'Backtracking']\n",
      "*****************\n",
      "[u'Two Pointers', u'Recursion', u'Minimax', u'Sliding Window', u'Math', u'Sort', u'Map', u'String', u'Greedy', u'Union Find', u'Heap', u'Graph', u'Binary Search', u'Stack', u'Binary Indexed Tree', u'Hash Table', u'Divide and Conquer', u'Tree', u'Memoization', u'Binary Search Tree', u'Queue', u'Linked List', u'Dynamic Programming', u'Topological Sort', u'Breadth-first Search', u'Trie', u'Random', u'Searching', u'Design', u'Bit Manipulation', u'Segment Tree', u'Array', u'Depth-first Search', u'Backtracking']\n",
      "*****************\n",
      "[u'Two Pointers', u'Recursion', u'Minimax', u'Sliding Window', u'Math', u'Sort', u'Map', u'String', u'Greedy', u'Union Find', u'Heap', u'Graph', u'Binary Search', u'Stack', u'Binary Indexed Tree', u'Hash Table', u'Divide and Conquer', u'Tree', u'Memoization', u'Binary Search Tree', u'Queue', u'Linked List', u'Dynamic Programming', u'Topological Sort', u'Breadth-first Search', u'Trie', u'Random', u'Searching', u'Design', u'Bit Manipulation', u'Segment Tree', u'Array', u'Depth-first Search', u'Backtracking']\n",
      "*****************\n",
      "[u'Two Pointers', u'Recursion', u'Minimax', u'Sliding Window', u'Math', u'Sort', u'Map', u'String', u'Greedy', u'Union Find', u'Heap', u'Graph', u'Binary Search', u'Stack', u'Binary Indexed Tree', u'Hash Table', u'Divide and Conquer', u'Tree', u'Memoization', u'Binary Search Tree', u'Queue', u'Linked List', u'Dynamic Programming', u'Topological Sort', u'Breadth-first Search', u'Trie', u'Random', u'Searching', u'Design', u'Bit Manipulation', u'Segment Tree', u'Array', u'Depth-first Search', u'Backtracking']\n",
      "*****************\n",
      "[u'Two Pointers', u'Recursion', u'Minimax', u'Sliding Window', u'Math', u'Sort', u'Map', u'String', u'Greedy', u'Union Find', u'Heap', u'Graph', u'Binary Search', u'Stack', u'Binary Indexed Tree', u'Hash Table', u'Divide and Conquer', u'Tree', u'Memoization', u'Binary Search Tree', u'Queue', u'Linked List', u'Dynamic Programming', u'Topological Sort', u'Breadth-first Search', u'Trie', u'Random', u'Searching', u'Design', u'Bit Manipulation', u'Segment Tree', u'Array', u'Depth-first Search', u'Backtracking']\n",
      "*****************\n",
      "[u'Two Pointers', u'Recursion', u'Minimax', u'Sliding Window', u'Math', u'Sort', u'Map', u'String', u'Greedy', u'Union Find', u'Heap', u'Graph', u'Binary Search', u'Stack', u'Binary Indexed Tree', u'Hash Table', u'Divide and Conquer', u'Tree', u'Memoization', u'Binary Search Tree', u'Queue', u'Linked List', u'Dynamic Programming', u'Topological Sort', u'Breadth-first Search', u'Trie', u'Random', u'Searching', u'Design', u'Bit Manipulation', u'Segment Tree', u'Array', u'Depth-first Search', u'Backtracking']\n",
      "*****************\n",
      "[u'Two Pointers', u'Recursion', u'Minimax', u'Sliding Window', u'Math', u'Sort', u'Map', u'String', u'Greedy', u'Union Find', u'Heap', u'Graph', u'Binary Search', u'Stack', u'Binary Indexed Tree', u'Hash Table', u'Divide and Conquer', u'Tree', u'Memoization', u'Binary Search Tree', u'Queue', u'Linked List', u'Dynamic Programming', u'Topological Sort', u'Breadth-first Search', u'Trie', u'Random', u'Searching', u'Design', u'Bit Manipulation', u'Segment Tree', u'Array', u'Depth-first Search', u'Backtracking']\n",
      "*****************\n",
      "[u'Two Pointers', u'Recursion', u'Minimax', u'Sliding Window', u'Math', u'Sort', u'Map', u'String', u'Greedy', u'Union Find', u'Heap', u'Graph', u'Binary Search', u'Stack', u'Binary Indexed Tree', u'Hash Table', u'Divide and Conquer', u'Tree', u'Memoization', u'Binary Search Tree', u'Queue', u'Linked List', u'Dynamic Programming', u'Topological Sort', u'Breadth-first Search', u'Trie', u'Random', u'Searching', u'Design', u'Bit Manipulation', u'Segment Tree', u'Array', u'Depth-first Search', u'Backtracking']\n",
      "*****************\n",
      "[u'Two Pointers', u'Recursion', u'Minimax', u'Sliding Window', u'Math', u'Sort', u'Map', u'String', u'Greedy', u'Union Find', u'Heap', u'Graph', u'Binary Search', u'Stack', u'Binary Indexed Tree', u'Hash Table', u'Divide and Conquer', u'Tree', u'Memoization', u'Binary Search Tree', u'Queue', u'Linked List', u'Dynamic Programming', u'Topological Sort', u'Breadth-first Search', u'Trie', u'Random', u'Searching', u'Design', u'Bit Manipulation', u'Segment Tree', u'Array', u'Depth-first Search', u'Backtracking']\n",
      "*****************\n",
      "[u'Two Pointers', u'Recursion', u'Minimax', u'Sliding Window', u'Math', u'Sort', u'Map', u'String', u'Greedy', u'Union Find', u'Heap', u'Graph', u'Binary Search', u'Stack', u'Binary Indexed Tree', u'Hash Table', u'Divide and Conquer', u'Tree', u'Memoization', u'Binary Search Tree', u'Queue', u'Linked List', u'Dynamic Programming', u'Topological Sort', u'Breadth-first Search', u'Trie', u'Random', u'Searching', u'Design', u'Bit Manipulation', u'Segment Tree', u'Array', u'Depth-first Search', u'Backtracking']\n",
      "*****************\n",
      "[u'Two Pointers', u'Recursion', u'Minimax', u'Sliding Window', u'Math', u'Sort', u'Map', u'String', u'Greedy', u'Union Find', u'Heap', u'Graph', u'Binary Search', u'Stack', u'Binary Indexed Tree', u'Hash Table', u'Divide and Conquer', u'Tree', u'Memoization', u'Binary Search Tree', u'Queue', u'Linked List', u'Dynamic Programming', u'Topological Sort', u'Breadth-first Search', u'Trie', u'Random', u'Searching', u'Design', u'Bit Manipulation', u'Segment Tree', u'Array', u'Depth-first Search', u'Backtracking']\n",
      "*****************\n",
      "[u'Two Pointers', u'Recursion', u'Minimax', u'Sliding Window', u'Math', u'Sort', u'Map', u'String', u'Greedy', u'Union Find', u'Heap', u'Graph', u'Binary Search', u'Stack', u'Binary Indexed Tree', u'Hash Table', u'Divide and Conquer', u'Tree', u'Memoization', u'Binary Search Tree', u'Queue', u'Linked List', u'Dynamic Programming', u'Topological Sort', u'Breadth-first Search', u'Trie', u'Random', u'Searching', u'Design', u'Bit Manipulation', u'Segment Tree', u'Array', u'Depth-first Search', u'Backtracking']\n",
      "*****************\n",
      "[u'Two Pointers', u'Recursion', u'Minimax', u'Sliding Window', u'Math', u'Sort', u'Map', u'String', u'Greedy', u'Union Find', u'Heap', u'Graph', u'Binary Search', u'Stack', u'Binary Indexed Tree', u'Hash Table', u'Divide and Conquer', u'Tree', u'Memoization', u'Binary Search Tree', u'Queue', u'Linked List', u'Dynamic Programming', u'Topological Sort', u'Breadth-first Search', u'Trie', u'Random', u'Searching', u'Design', u'Bit Manipulation', u'Segment Tree', u'Array', u'Depth-first Search', u'Backtracking']\n",
      "*****************\n",
      "[u'Two Pointers', u'Recursion', u'Minimax', u'Sliding Window', u'Math', u'Sort', u'Map', u'String', u'Greedy', u'Union Find', u'Heap', u'Graph', u'Binary Search', u'Stack', u'Binary Indexed Tree', u'Hash Table', u'Divide and Conquer', u'Tree', u'Memoization', u'Binary Search Tree', u'Queue', u'Linked List', u'Dynamic Programming', u'Topological Sort', u'Breadth-first Search', u'Trie', u'Random', u'Searching', u'Design', u'Bit Manipulation', u'Segment Tree', u'Array', u'Depth-first Search', u'Backtracking']\n",
      "*****************\n",
      "[u'Two Pointers', u'Recursion', u'Minimax', u'Sliding Window', u'Math', u'Sort', u'Map', u'String', u'Greedy', u'Union Find', u'Heap', u'Graph', u'Binary Search', u'Stack', u'Binary Indexed Tree', u'Hash Table', u'Divide and Conquer', u'Tree', u'Memoization', u'Binary Search Tree', u'Queue', u'Linked List', u'Dynamic Programming', u'Topological Sort', u'Breadth-first Search', u'Trie', u'Random', u'Searching', u'Design', u'Bit Manipulation', u'Segment Tree', u'Array', u'Depth-first Search', u'Backtracking']\n",
      "*****************\n",
      "[u'Two Pointers', u'Recursion', u'Minimax', u'Sliding Window', u'Math', u'Sort', u'Map', u'String', u'Greedy', u'Union Find', u'Heap', u'Graph', u'Binary Search', u'Stack', u'Binary Indexed Tree', u'Hash Table', u'Divide and Conquer', u'Tree', u'Memoization', u'Binary Search Tree', u'Queue', u'Linked List', u'Dynamic Programming', u'Topological Sort', u'Breadth-first Search', u'Trie', u'Random', u'Searching', u'Design', u'Bit Manipulation', u'Segment Tree', u'Array', u'Depth-first Search', u'Backtracking']\n",
      "*****************\n",
      "[u'Two Pointers', u'Recursion', u'Minimax', u'Sliding Window', u'Math', u'Sort', u'Map', u'String', u'Greedy', u'Union Find', u'Heap', u'Graph', u'Binary Search', u'Stack', u'Binary Indexed Tree', u'Hash Table', u'Divide and Conquer', u'Tree', u'Memoization', u'Binary Search Tree', u'Queue', u'Linked List', u'Dynamic Programming', u'Topological Sort', u'Breadth-first Search', u'Trie', u'Random', u'Searching', u'Design', u'Bit Manipulation', u'Segment Tree', u'Array', u'Depth-first Search', u'Backtracking']\n",
      "*****************\n",
      "[u'Two Pointers', u'Recursion', u'Minimax', u'Sliding Window', u'Math', u'Sort', u'Map', u'String', u'Greedy', u'Union Find', u'Heap', u'Graph', u'Binary Search', u'Stack', u'Binary Indexed Tree', u'Hash Table', u'Divide and Conquer', u'Tree', u'Memoization', u'Binary Search Tree', u'Queue', u'Linked List', u'Dynamic Programming', u'Topological Sort', u'Breadth-first Search', u'Trie', u'Random', u'Searching', u'Design', u'Bit Manipulation', u'Segment Tree', u'Array', u'Depth-first Search', u'Backtracking']\n",
      "*****************\n",
      "[u'Two Pointers', u'Recursion', u'Minimax', u'Sliding Window', u'Math', u'Sort', u'Map', u'String', u'Greedy', u'Union Find', u'Heap', u'Graph', u'Binary Search', u'Stack', u'Binary Indexed Tree', u'Hash Table', u'Divide and Conquer', u'Tree', u'Memoization', u'Binary Search Tree', u'Queue', u'Linked List', u'Dynamic Programming', u'Topological Sort', u'Breadth-first Search', u'Trie', u'Random', u'Searching', u'Design', u'Bit Manipulation', u'Segment Tree', u'Array', u'Depth-first Search', u'Backtracking']\n",
      "*****************\n",
      "[u'Two Pointers', u'Recursion', u'Minimax', u'Sliding Window', u'Math', u'Sort', u'Map', u'String', u'Greedy', u'Union Find', u'Heap', u'Graph', u'Binary Search', u'Stack', u'Binary Indexed Tree', u'Hash Table', u'Divide and Conquer', u'Tree', u'Memoization', u'Binary Search Tree', u'Queue', u'Linked List', u'Dynamic Programming', u'Topological Sort', u'Breadth-first Search', u'Trie', u'Random', u'Searching', u'Design', u'Bit Manipulation', u'Segment Tree', u'Array', u'Depth-first Search', u'Backtracking']\n",
      "*****************\n",
      "[u'Two Pointers', u'Recursion', u'Minimax', u'Sliding Window', u'Math', u'Sort', u'Map', u'String', u'Greedy', u'Union Find', u'Heap', u'Graph', u'Binary Search', u'Stack', u'Binary Indexed Tree', u'Hash Table', u'Divide and Conquer', u'Tree', u'Memoization', u'Binary Search Tree', u'Queue', u'Linked List', u'Dynamic Programming', u'Topological Sort', u'Breadth-first Search', u'Trie', u'Random', u'Searching', u'Design', u'Bit Manipulation', u'Segment Tree', u'Array', u'Depth-first Search', u'Backtracking']\n",
      "*****************\n",
      "[u'Two Pointers', u'Recursion', u'Minimax', u'Sliding Window', u'Math', u'Sort', u'Map', u'String', u'Greedy', u'Union Find', u'Heap', u'Graph', u'Binary Search', u'Stack', u'Binary Indexed Tree', u'Hash Table', u'Divide and Conquer', u'Tree', u'Memoization', u'Binary Search Tree', u'Queue', u'Linked List', u'Dynamic Programming', u'Topological Sort', u'Breadth-first Search', u'Trie', u'Random', u'Searching', u'Design', u'Bit Manipulation', u'Segment Tree', u'Array', u'Depth-first Search', u'Backtracking']\n",
      "*****************\n",
      "[u'Two Pointers', u'Recursion', u'Minimax', u'Sliding Window', u'Math', u'Sort', u'Map', u'String', u'Greedy', u'Union Find', u'Heap', u'Graph', u'Binary Search', u'Stack', u'Binary Indexed Tree', u'Hash Table', u'Divide and Conquer', u'Tree', u'Memoization', u'Binary Search Tree', u'Queue', u'Linked List', u'Dynamic Programming', u'Topological Sort', u'Breadth-first Search', u'Trie', u'Random', u'Searching', u'Design', u'Bit Manipulation', u'Segment Tree', u'Array', u'Depth-first Search', u'Backtracking']\n",
      "*****************\n",
      "[u'Two Pointers', u'Recursion', u'Minimax', u'Sliding Window', u'Math', u'Sort', u'Map', u'String', u'Greedy', u'Union Find', u'Heap', u'Graph', u'Binary Search', u'Stack', u'Binary Indexed Tree', u'Hash Table', u'Divide and Conquer', u'Tree', u'Memoization', u'Binary Search Tree', u'Queue', u'Linked List', u'Dynamic Programming', u'Topological Sort', u'Breadth-first Search', u'Trie', u'Random', u'Searching', u'Design', u'Bit Manipulation', u'Segment Tree', u'Array', u'Depth-first Search', u'Backtracking']\n",
      "*****************\n",
      "[u'Two Pointers', u'Recursion', u'Minimax', u'Sliding Window', u'Math', u'Sort', u'Map', u'String', u'Greedy', u'Union Find', u'Heap', u'Graph', u'Binary Search', u'Stack', u'Binary Indexed Tree', u'Hash Table', u'Divide and Conquer', u'Tree', u'Memoization', u'Binary Search Tree', u'Queue', u'Linked List', u'Dynamic Programming', u'Topological Sort', u'Breadth-first Search', u'Trie', u'Random', u'Searching', u'Design', u'Bit Manipulation', u'Segment Tree', u'Array', u'Depth-first Search', u'Backtracking']\n",
      "*****************\n",
      "[u'Two Pointers', u'Recursion', u'Minimax', u'Sliding Window', u'Math', u'Sort', u'Map', u'String', u'Greedy', u'Union Find', u'Heap', u'Graph', u'Binary Search', u'Stack', u'Binary Indexed Tree', u'Hash Table', u'Divide and Conquer', u'Tree', u'Memoization', u'Binary Search Tree', u'Queue', u'Linked List', u'Dynamic Programming', u'Topological Sort', u'Breadth-first Search', u'Trie', u'Random', u'Searching', u'Design', u'Bit Manipulation', u'Segment Tree', u'Array', u'Depth-first Search', u'Backtracking']\n",
      "*****************\n",
      "[u'Two Pointers', u'Recursion', u'Minimax', u'Sliding Window', u'Math', u'Sort', u'Map', u'String', u'Greedy', u'Union Find', u'Heap', u'Graph', u'Binary Search', u'Stack', u'Binary Indexed Tree', u'Hash Table', u'Divide and Conquer', u'Tree', u'Memoization', u'Binary Search Tree', u'Queue', u'Linked List', u'Dynamic Programming', u'Topological Sort', u'Breadth-first Search', u'Trie', u'Random', u'Searching', u'Design', u'Bit Manipulation', u'Segment Tree', u'Array', u'Depth-first Search', u'Backtracking']\n",
      "*****************\n",
      "[u'Two Pointers', u'Recursion', u'Minimax', u'Sliding Window', u'Math', u'Sort', u'Map', u'String', u'Greedy', u'Union Find', u'Heap', u'Graph', u'Binary Search', u'Stack', u'Binary Indexed Tree', u'Hash Table', u'Divide and Conquer', u'Tree', u'Memoization', u'Binary Search Tree', u'Queue', u'Linked List', u'Dynamic Programming', u'Topological Sort', u'Breadth-first Search', u'Trie', u'Random', u'Searching', u'Design', u'Bit Manipulation', u'Segment Tree', u'Array', u'Depth-first Search', u'Backtracking']\n",
      "*****************\n",
      "[u'Two Pointers', u'Recursion', u'Minimax', u'Sliding Window', u'Math', u'Sort', u'Map', u'String', u'Greedy', u'Union Find', u'Heap', u'Graph', u'Binary Search', u'Stack', u'Binary Indexed Tree', u'Hash Table', u'Divide and Conquer', u'Tree', u'Memoization', u'Binary Search Tree', u'Queue', u'Linked List', u'Dynamic Programming', u'Topological Sort', u'Breadth-first Search', u'Trie', u'Random', u'Searching', u'Design', u'Bit Manipulation', u'Segment Tree', u'Array', u'Depth-first Search', u'Backtracking']\n",
      "*****************\n",
      "[u'Two Pointers', u'Recursion', u'Minimax', u'Sliding Window', u'Math', u'Sort', u'Map', u'String', u'Greedy', u'Union Find', u'Heap', u'Graph', u'Binary Search', u'Stack', u'Binary Indexed Tree', u'Hash Table', u'Divide and Conquer', u'Tree', u'Memoization', u'Binary Search Tree', u'Queue', u'Linked List', u'Dynamic Programming', u'Topological Sort', u'Breadth-first Search', u'Trie', u'Random', u'Searching', u'Design', u'Bit Manipulation', u'Segment Tree', u'Array', u'Depth-first Search', u'Backtracking']\n",
      "*****************\n",
      "[u'Two Pointers', u'Recursion', u'Minimax', u'Sliding Window', u'Math', u'Sort', u'Map', u'String', u'Greedy', u'Union Find', u'Heap', u'Graph', u'Binary Search', u'Stack', u'Binary Indexed Tree', u'Hash Table', u'Divide and Conquer', u'Tree', u'Memoization', u'Binary Search Tree', u'Queue', u'Linked List', u'Dynamic Programming', u'Topological Sort', u'Breadth-first Search', u'Trie', u'Random', u'Searching', u'Design', u'Bit Manipulation', u'Segment Tree', u'Array', u'Depth-first Search', u'Backtracking']\n",
      "*****************\n",
      "{u'Two Pointers': 0.15643724696356273, u'Recursion': 0.0626068376068376, u'Minimax': 0.2333333333333333, u'Sliding Window': 0.33091575091575093, u'Math': 0.6461000262556481, u'Sort': 0.3195446830209639, u'Map': 0.15287878787878786, u'String': 0.6702214529743891, u'Greedy': 0.13239773642250424, u'Union Find': 0.445952380952381, u'Heap': 0.16486918878223228, u'Graph': 0.5724287545959372, u'Binary Search': 0.17679883723361983, u'Stack': 0.40407113264833017, u'Binary Indexed Tree': 0.0, u'Hash Table': 0.17042709148436702, u'Divide and Conquer': 0.07555555555555556, u'Tree': 0.8434683714675428, u'Memoization': 0.0, u'Binary Search Tree': 0.5782667332667332, u'Queue': 0.3282994782994783, u'Linked List': 0.8054863855950811, u'Dynamic Programming': 0.463130959908466, u'Topological Sort': 0.16666666666666666, u'Breadth-first Search': 0.3615903540903541, u'Trie': 0.2761904761904762, u'Random': 0.3, u'Searching': 0.1101190476190476, u'Design': 0.48631257631257635, u'Bit Manipulation': 0.5505831260317732, u'Segment Tree': 0.1819047619047619, u'Array': 0.6536119569467242, u'Depth-first Search': 0.378660915573959, u'Backtracking': 0.38973970473970476}\n",
      "{u'Two Pointers': 0.14075396825396824, u'Recursion': 0.06666666666666667, u'Minimax': 0.2, u'Sliding Window': 0.28583333333333333, u'Math': 0.6780227108066302, u'Sort': 0.29610877684407094, u'Map': 0.1633333333333333, u'String': 0.6538991281666087, u'Greedy': 0.1276984126984127, u'Union Find': 0.4795238095238095, u'Heap': 0.1365873015873016, u'Graph': 0.5331313131313131, u'Binary Search': 0.20207792207792208, u'Stack': 0.3804793735676089, u'Binary Indexed Tree': 0.0, u'Hash Table': 0.15506410256410258, u'Divide and Conquer': 0.1, u'Tree': 0.8090109200043184, u'Memoization': 0.0, u'Binary Search Tree': 0.5887301587301588, u'Queue': 0.36702380952380953, u'Linked List': 0.758997668997669, u'Dynamic Programming': 0.4699911565050884, u'Topological Sort': 0.2, u'Breadth-first Search': 0.336518759018759, u'Trie': 0.29999999999999993, u'Random': 0.3, u'Searching': 0.10472582972582974, u'Design': 0.4616666666666666, u'Bit Manipulation': 0.5206899825320879, u'Segment Tree': 0.16666666666666666, u'Array': 0.6715518979230077, u'Depth-first Search': 0.38821321190886415, u'Backtracking': 0.3710714285714286}\n",
      "{u'Two Pointers': 0.18523809523809523, u'Recursion': 0.05928571428571429, u'Minimax': 0.3333333333333333, u'Sliding Window': 0.5016666666666667, u'Math': 0.6198942280067383, u'Sort': 0.37523492847022266, u'Map': 0.14999999999999997, u'String': 0.6923082217016405, u'Greedy': 0.1514285714285714, u'Union Find': 0.5333333333333333, u'Heap': 0.2094444444444444, u'Graph': 0.636504329004329, u'Binary Search': 0.19227272727272726, u'Stack': 0.46035714285714285, u'Binary Indexed Tree': 0.0, u'Hash Table': 0.20111013986013987, u'Divide and Conquer': 0.07261904761904761, u'Tree': 0.8847004788689571, u'Memoization': 0.0, u'Binary Search Tree': 0.5996428571428571, u'Queue': 0.33916666666666667, u'Linked List': 0.8897222222222222, u'Dynamic Programming': 0.46083076898972486, u'Topological Sort': 0.15, u'Breadth-first Search': 0.4586038961038962, u'Trie': 0.4, u'Random': 0.3, u'Searching': 0.12845238095238093, u'Design': 0.5811904761904761, u'Bit Manipulation': 0.6086450752549823, u'Segment Tree': 0.20833333333333331, u'Array': 0.6405831394485897, u'Depth-first Search': 0.3940763403263403, u'Backtracking': 0.43499999999999994}\n",
      "{'recall': 0.053117206982543644, 'f1-score': 0.052683013019645994, 'precision': 0.0531468881573595}\n"
     ]
    },
    {
     "name": "stderr",
     "output_type": "stream",
     "text": [
      "/anaconda2/envs/problemsClassifierEnv/lib/python2.7/site-packages/sklearn/metrics/classification.py:1143: UndefinedMetricWarning: Precision and F-score are ill-defined and being set to 0.0 in labels with no predicted samples.\n",
      "  'precision', 'predicted', average, warn_for)\n",
      "/anaconda2/envs/problemsClassifierEnv/lib/python2.7/site-packages/sklearn/metrics/classification.py:1145: UndefinedMetricWarning: Recall and F-score are ill-defined and being set to 0.0 in labels with no true samples.\n",
      "  'recall', 'true', average, warn_for)\n",
      "/anaconda2/envs/problemsClassifierEnv/lib/python2.7/site-packages/sklearn/metrics/classification.py:1143: UndefinedMetricWarning: Precision and F-score are ill-defined and being set to 0.0 in labels with no predicted samples.\n",
      "  'precision', 'predicted', average, warn_for)\n",
      "/anaconda2/envs/problemsClassifierEnv/lib/python2.7/site-packages/sklearn/metrics/classification.py:1145: UndefinedMetricWarning: Recall and F-score are ill-defined and being set to 0.0 in labels with no true samples.\n",
      "  'recall', 'true', average, warn_for)\n",
      "/anaconda2/envs/problemsClassifierEnv/lib/python2.7/site-packages/sklearn/metrics/classification.py:1143: UndefinedMetricWarning: Precision and F-score are ill-defined and being set to 0.0 in labels with no predicted samples.\n",
      "  'precision', 'predicted', average, warn_for)\n",
      "/anaconda2/envs/problemsClassifierEnv/lib/python2.7/site-packages/sklearn/metrics/classification.py:1145: UndefinedMetricWarning: Recall and F-score are ill-defined and being set to 0.0 in labels with no true samples.\n",
      "  'recall', 'true', average, warn_for)\n",
      "/anaconda2/envs/problemsClassifierEnv/lib/python2.7/site-packages/sklearn/metrics/classification.py:1143: UndefinedMetricWarning: Precision and F-score are ill-defined and being set to 0.0 in samples with no predicted labels.\n",
      "  'precision', 'predicted', average, warn_for)\n",
      "/anaconda2/envs/problemsClassifierEnv/lib/python2.7/site-packages/sklearn/metrics/classification.py:1145: UndefinedMetricWarning: Recall and F-score are ill-defined and being set to 0.0 in samples with no true labels.\n",
      "  'recall', 'true', average, warn_for)\n"
     ]
    }
   ],
   "source": [
    "start_pointer = 0\n",
    "end_pointer = 300\n",
    "category_columns = train_y.columns\n",
    "mean_accuracy = []\n",
    "mean_precision = []\n",
    "mean_f1 = []\n",
    "mean_recall = []\n",
    "report_df_final = pd.DataFrame([])\n",
    "f1Score = {}\n",
    "accuracyScore = {}\n",
    "precisionScore={}\n",
    "\n",
    "\n",
    "for i in range(10):\n",
    "    train = pd.concat([df.iloc[0:start_pointer], df.iloc[end_pointer:3006]])\n",
    "    test = df.iloc[start_pointer:end_pointer]\n",
    "    start_pointer = end_pointer\n",
    "    end_pointer = end_pointer + 300\n",
    "    train_X, train_y = train['Question Title Plus Description'], train.drop(['Question Title Plus Description'], axis=1)\n",
    "    test_X, test_y = test['Question Title Plus Description'], test.drop(['Question Title Plus Description'], axis=1)\n",
    "    train_y_cluster_labels= train_y.groupby(list(category_columns)).ngroup()\n",
    "    cluster_center = train_y.copy(deep=True) \n",
    "    cluster_center['Labels']=train_y_cluster_labels\n",
    "    cluster_center = cluster_center.drop_duplicates()\n",
    "    cluster_center = cluster_center.reset_index().set_index(['Labels']).sort_index().drop('index', axis=1)\n",
    "\n",
    "    category_columns = train_y.columns\n",
    "\n",
    "\n",
    "    pipeline = Pipeline([\n",
    "                    ('tfidf', TfidfVectorizer()),\n",
    "                    ('clf', LinearSVC(class_weight='balanced'))\n",
    "                ])\n",
    "    # sorted(pipeline.get_params().keys()) # -- to obtain the GridSearchCV parameter names\n",
    "    parameters = {\n",
    "                    'tfidf__max_df': [0.5],\n",
    "                    'tfidf__ngram_range': [(1, 2)],\n",
    "                    'tfidf__min_df': [2],\n",
    "                    'clf__C': [5, 10, 20, 50, 100]\n",
    "                }\n",
    "    overall_f1_score_v2_cv = make_scorer(overall_f1_score_v2, greater_is_better=True, class_to_genre_map = cluster_center)\n",
    "    grid_search_cv = GridSearchCV(pipeline, parameters, cv=2, verbose=10, scoring=overall_f1_score_v2_cv)\n",
    "    grid_search_cv.fit(train_X, train_y_cluster_labels)\n",
    "    print(\"Best parameters set:\")\n",
    "    print (grid_search_cv.best_estimator_.steps)\n",
    "    # measuring performance on test set\n",
    "    print (\"Applying best classifier on test data:\")\n",
    "    best_clf = grid_search_cv.best_estimator_\n",
    "    predictions = multi_class_predict(best_clf, test_X, cluster_center) \n",
    "    report = classification_report(test_y, predictions, output_dict = True)\n",
    "    for key, value in report.items():\n",
    "    \n",
    "        if(key in ['weighted avg']):\n",
    "            if(key in weightedavgScore):\n",
    "                weightedavgScore['f1-score'] += float(value['f1-score'])\n",
    "                weightedavgScore['precision'] += float(value['precision'])\n",
    "                weightedavgScore['recall'] += float(value['recall'])\n",
    "                continue\n",
    "            else:\n",
    "                weightedavgScore['f1-score'] = float(value['f1-score'])\n",
    "                weightedavgScore['precision'] = float(value['precision'])\n",
    "                weightedavgScore['recall'] = float(value['recall'])\n",
    "                continue\n",
    "        if(key not in ['macro avg', 'micro avg', 'macro avg', 'samples avg']):\n",
    "            print(f1Score.keys())\n",
    "            if(category_columns[int(key)] in f1Score.keys()):\n",
    "                print(\"*****************\")\n",
    "                f1Score[category_columns[int(key)]] += float(value['f1-score'])\n",
    "                accuracyScore[category_columns[int(key)]] += float(value['precision'])\n",
    "                precisionScore[category_columns[int(key)]] += float(value['recall'])\n",
    "            else:\n",
    "                print(\"--------\")\n",
    "                f1Score[category_columns[int(key)]] = float(value['f1-score'])\n",
    "                accuracyScore[category_columns[int(key)]] = float(value['precision'])\n",
    "                precisionScore[category_columns[int(key)]] = float(value['recall'])\n",
    "\n",
    "for key in f1Score:\n",
    "    f1Score[key] = f1Score[key]/10\n",
    "    accuracyScore[key] = accuracyScore[key]/10\n",
    "    precisionScore[key] = precisionScore[key]/10\n",
    "for key in weightedavgScore:\n",
    "    weightedavgScore[key] = weightedavgScore[key] / 10\n",
    "\n",
    "print(f1Score)\n",
    "print(accuracyScore)\n",
    "print(precisionScore)\n",
    "print(weightedavgScore)\n"
   ]
  },
  {
   "cell_type": "code",
   "execution_count": 178,
   "metadata": {},
   "outputs": [],
   "source": [
    "import json\n",
    "data = {'f1Score' : f1Score, 'accuracyScore' : accuracyScore, 'precisionScore' : precisionScore, 'weightedavgScore' : weightedavgScore}\n",
    "with open('NaiveBayesReport.json', 'w') as outfile:  \n",
    "    json.dump(data, outfile)"
   ]
  },
  {
   "cell_type": "code",
   "execution_count": 177,
   "metadata": {},
   "outputs": [
    {
     "name": "stdout",
     "output_type": "stream",
     "text": [
      "()\n",
      "Best parameters set:\n",
      "[('tfidf', TfidfVectorizer(analyzer=u'word', binary=False, decode_error=u'strict',\n",
      "        dtype=<type 'numpy.float64'>, encoding=u'utf-8', input=u'content',\n",
      "        lowercase=True, max_df=0.25, max_features=None, min_df=1,\n",
      "        ngram_range=(1, 1), norm=u'l2', preprocessor=None, smooth_idf=True,\n",
      "        stop_words=None, strip_accents=None, sublinear_tf=False,\n",
      "        token_pattern=u'(?u)\\\\b\\\\w\\\\w+\\\\b', tokenizer=None, use_idf=True,\n",
      "        vocabulary=None)), ('clf', MultinomialNB(alpha=0.001, class_prior=None, fit_prior=True))]\n",
      "()\n",
      "Applying best classifier on test data:\n"
     ]
    },
    {
     "name": "stderr",
     "output_type": "stream",
     "text": [
      "/anaconda2/envs/problemsClassifierEnv/lib/python2.7/site-packages/sklearn/metrics/classification.py:1143: UndefinedMetricWarning: Precision and F-score are ill-defined and being set to 0.0 in labels with no predicted samples.\n",
      "  'precision', 'predicted', average, warn_for)\n",
      "/anaconda2/envs/problemsClassifierEnv/lib/python2.7/site-packages/sklearn/metrics/classification.py:1145: UndefinedMetricWarning: Recall and F-score are ill-defined and being set to 0.0 in labels with no true samples.\n",
      "  'recall', 'true', average, warn_for)\n",
      "/anaconda2/envs/problemsClassifierEnv/lib/python2.7/site-packages/sklearn/metrics/classification.py:1143: UndefinedMetricWarning: Precision and F-score are ill-defined and being set to 0.0 in labels with no predicted samples.\n",
      "  'precision', 'predicted', average, warn_for)\n",
      "/anaconda2/envs/problemsClassifierEnv/lib/python2.7/site-packages/sklearn/metrics/classification.py:1145: UndefinedMetricWarning: Recall and F-score are ill-defined and being set to 0.0 in labels with no true samples.\n",
      "  'recall', 'true', average, warn_for)\n",
      "/anaconda2/envs/problemsClassifierEnv/lib/python2.7/site-packages/sklearn/metrics/classification.py:1143: UndefinedMetricWarning: Precision and F-score are ill-defined and being set to 0.0 in labels with no predicted samples.\n",
      "  'precision', 'predicted', average, warn_for)\n",
      "/anaconda2/envs/problemsClassifierEnv/lib/python2.7/site-packages/sklearn/metrics/classification.py:1145: UndefinedMetricWarning: Recall and F-score are ill-defined and being set to 0.0 in labels with no true samples.\n",
      "  'recall', 'true', average, warn_for)\n",
      "/anaconda2/envs/problemsClassifierEnv/lib/python2.7/site-packages/sklearn/metrics/classification.py:1143: UndefinedMetricWarning: Precision and F-score are ill-defined and being set to 0.0 in samples with no predicted labels.\n",
      "  'precision', 'predicted', average, warn_for)\n",
      "/anaconda2/envs/problemsClassifierEnv/lib/python2.7/site-packages/sklearn/metrics/classification.py:1145: UndefinedMetricWarning: Recall and F-score are ill-defined and being set to 0.0 in samples with no true labels.\n",
      "  'recall', 'true', average, warn_for)\n"
     ]
    },
    {
     "name": "stdout",
     "output_type": "stream",
     "text": [
      "()\n",
      "Best parameters set:\n",
      "[('tfidf', TfidfVectorizer(analyzer=u'word', binary=False, decode_error=u'strict',\n",
      "        dtype=<type 'numpy.float64'>, encoding=u'utf-8', input=u'content',\n",
      "        lowercase=True, max_df=0.25, max_features=None, min_df=1,\n",
      "        ngram_range=(1, 1), norm=u'l2', preprocessor=None, smooth_idf=True,\n",
      "        stop_words=None, strip_accents=None, sublinear_tf=False,\n",
      "        token_pattern=u'(?u)\\\\b\\\\w\\\\w+\\\\b', tokenizer=None, use_idf=True,\n",
      "        vocabulary=None)), ('clf', MultinomialNB(alpha=0.001, class_prior=None, fit_prior=True))]\n",
      "()\n",
      "Applying best classifier on test data:\n"
     ]
    },
    {
     "name": "stderr",
     "output_type": "stream",
     "text": [
      "/anaconda2/envs/problemsClassifierEnv/lib/python2.7/site-packages/sklearn/metrics/classification.py:1143: UndefinedMetricWarning: Precision and F-score are ill-defined and being set to 0.0 in labels with no predicted samples.\n",
      "  'precision', 'predicted', average, warn_for)\n",
      "/anaconda2/envs/problemsClassifierEnv/lib/python2.7/site-packages/sklearn/metrics/classification.py:1145: UndefinedMetricWarning: Recall and F-score are ill-defined and being set to 0.0 in labels with no true samples.\n",
      "  'recall', 'true', average, warn_for)\n",
      "/anaconda2/envs/problemsClassifierEnv/lib/python2.7/site-packages/sklearn/metrics/classification.py:1143: UndefinedMetricWarning: Precision and F-score are ill-defined and being set to 0.0 in labels with no predicted samples.\n",
      "  'precision', 'predicted', average, warn_for)\n",
      "/anaconda2/envs/problemsClassifierEnv/lib/python2.7/site-packages/sklearn/metrics/classification.py:1145: UndefinedMetricWarning: Recall and F-score are ill-defined and being set to 0.0 in labels with no true samples.\n",
      "  'recall', 'true', average, warn_for)\n",
      "/anaconda2/envs/problemsClassifierEnv/lib/python2.7/site-packages/sklearn/metrics/classification.py:1143: UndefinedMetricWarning: Precision and F-score are ill-defined and being set to 0.0 in labels with no predicted samples.\n",
      "  'precision', 'predicted', average, warn_for)\n",
      "/anaconda2/envs/problemsClassifierEnv/lib/python2.7/site-packages/sklearn/metrics/classification.py:1145: UndefinedMetricWarning: Recall and F-score are ill-defined and being set to 0.0 in labels with no true samples.\n",
      "  'recall', 'true', average, warn_for)\n",
      "/anaconda2/envs/problemsClassifierEnv/lib/python2.7/site-packages/sklearn/metrics/classification.py:1143: UndefinedMetricWarning: Precision and F-score are ill-defined and being set to 0.0 in samples with no predicted labels.\n",
      "  'precision', 'predicted', average, warn_for)\n",
      "/anaconda2/envs/problemsClassifierEnv/lib/python2.7/site-packages/sklearn/metrics/classification.py:1145: UndefinedMetricWarning: Recall and F-score are ill-defined and being set to 0.0 in samples with no true labels.\n",
      "  'recall', 'true', average, warn_for)\n"
     ]
    },
    {
     "name": "stdout",
     "output_type": "stream",
     "text": [
      "()\n",
      "Best parameters set:\n",
      "[('tfidf', TfidfVectorizer(analyzer=u'word', binary=False, decode_error=u'strict',\n",
      "        dtype=<type 'numpy.float64'>, encoding=u'utf-8', input=u'content',\n",
      "        lowercase=True, max_df=0.25, max_features=None, min_df=1,\n",
      "        ngram_range=(1, 1), norm=u'l2', preprocessor=None, smooth_idf=True,\n",
      "        stop_words=None, strip_accents=None, sublinear_tf=False,\n",
      "        token_pattern=u'(?u)\\\\b\\\\w\\\\w+\\\\b', tokenizer=None, use_idf=True,\n",
      "        vocabulary=None)), ('clf', MultinomialNB(alpha=0.001, class_prior=None, fit_prior=True))]\n",
      "()\n",
      "Applying best classifier on test data:\n"
     ]
    },
    {
     "name": "stderr",
     "output_type": "stream",
     "text": [
      "/anaconda2/envs/problemsClassifierEnv/lib/python2.7/site-packages/sklearn/metrics/classification.py:1143: UndefinedMetricWarning: Precision and F-score are ill-defined and being set to 0.0 in labels with no predicted samples.\n",
      "  'precision', 'predicted', average, warn_for)\n",
      "/anaconda2/envs/problemsClassifierEnv/lib/python2.7/site-packages/sklearn/metrics/classification.py:1145: UndefinedMetricWarning: Recall and F-score are ill-defined and being set to 0.0 in labels with no true samples.\n",
      "  'recall', 'true', average, warn_for)\n",
      "/anaconda2/envs/problemsClassifierEnv/lib/python2.7/site-packages/sklearn/metrics/classification.py:1143: UndefinedMetricWarning: Precision and F-score are ill-defined and being set to 0.0 in labels with no predicted samples.\n",
      "  'precision', 'predicted', average, warn_for)\n",
      "/anaconda2/envs/problemsClassifierEnv/lib/python2.7/site-packages/sklearn/metrics/classification.py:1145: UndefinedMetricWarning: Recall and F-score are ill-defined and being set to 0.0 in labels with no true samples.\n",
      "  'recall', 'true', average, warn_for)\n",
      "/anaconda2/envs/problemsClassifierEnv/lib/python2.7/site-packages/sklearn/metrics/classification.py:1143: UndefinedMetricWarning: Precision and F-score are ill-defined and being set to 0.0 in labels with no predicted samples.\n",
      "  'precision', 'predicted', average, warn_for)\n",
      "/anaconda2/envs/problemsClassifierEnv/lib/python2.7/site-packages/sklearn/metrics/classification.py:1145: UndefinedMetricWarning: Recall and F-score are ill-defined and being set to 0.0 in labels with no true samples.\n",
      "  'recall', 'true', average, warn_for)\n",
      "/anaconda2/envs/problemsClassifierEnv/lib/python2.7/site-packages/sklearn/metrics/classification.py:1143: UndefinedMetricWarning: Precision and F-score are ill-defined and being set to 0.0 in samples with no predicted labels.\n",
      "  'precision', 'predicted', average, warn_for)\n",
      "/anaconda2/envs/problemsClassifierEnv/lib/python2.7/site-packages/sklearn/metrics/classification.py:1145: UndefinedMetricWarning: Recall and F-score are ill-defined and being set to 0.0 in samples with no true labels.\n",
      "  'recall', 'true', average, warn_for)\n"
     ]
    },
    {
     "name": "stdout",
     "output_type": "stream",
     "text": [
      "()\n",
      "Best parameters set:\n",
      "[('tfidf', TfidfVectorizer(analyzer=u'word', binary=False, decode_error=u'strict',\n",
      "        dtype=<type 'numpy.float64'>, encoding=u'utf-8', input=u'content',\n",
      "        lowercase=True, max_df=0.25, max_features=None, min_df=1,\n",
      "        ngram_range=(1, 1), norm=u'l2', preprocessor=None, smooth_idf=True,\n",
      "        stop_words=None, strip_accents=None, sublinear_tf=False,\n",
      "        token_pattern=u'(?u)\\\\b\\\\w\\\\w+\\\\b', tokenizer=None, use_idf=True,\n",
      "        vocabulary=None)), ('clf', MultinomialNB(alpha=0.001, class_prior=None, fit_prior=True))]\n",
      "()\n",
      "Applying best classifier on test data:\n"
     ]
    },
    {
     "name": "stderr",
     "output_type": "stream",
     "text": [
      "/anaconda2/envs/problemsClassifierEnv/lib/python2.7/site-packages/sklearn/metrics/classification.py:1143: UndefinedMetricWarning: Precision and F-score are ill-defined and being set to 0.0 in labels with no predicted samples.\n",
      "  'precision', 'predicted', average, warn_for)\n",
      "/anaconda2/envs/problemsClassifierEnv/lib/python2.7/site-packages/sklearn/metrics/classification.py:1145: UndefinedMetricWarning: Recall and F-score are ill-defined and being set to 0.0 in labels with no true samples.\n",
      "  'recall', 'true', average, warn_for)\n",
      "/anaconda2/envs/problemsClassifierEnv/lib/python2.7/site-packages/sklearn/metrics/classification.py:1143: UndefinedMetricWarning: Precision and F-score are ill-defined and being set to 0.0 in labels with no predicted samples.\n",
      "  'precision', 'predicted', average, warn_for)\n",
      "/anaconda2/envs/problemsClassifierEnv/lib/python2.7/site-packages/sklearn/metrics/classification.py:1145: UndefinedMetricWarning: Recall and F-score are ill-defined and being set to 0.0 in labels with no true samples.\n",
      "  'recall', 'true', average, warn_for)\n",
      "/anaconda2/envs/problemsClassifierEnv/lib/python2.7/site-packages/sklearn/metrics/classification.py:1143: UndefinedMetricWarning: Precision and F-score are ill-defined and being set to 0.0 in labels with no predicted samples.\n",
      "  'precision', 'predicted', average, warn_for)\n",
      "/anaconda2/envs/problemsClassifierEnv/lib/python2.7/site-packages/sklearn/metrics/classification.py:1145: UndefinedMetricWarning: Recall and F-score are ill-defined and being set to 0.0 in labels with no true samples.\n",
      "  'recall', 'true', average, warn_for)\n",
      "/anaconda2/envs/problemsClassifierEnv/lib/python2.7/site-packages/sklearn/metrics/classification.py:1143: UndefinedMetricWarning: Precision and F-score are ill-defined and being set to 0.0 in samples with no predicted labels.\n",
      "  'precision', 'predicted', average, warn_for)\n",
      "/anaconda2/envs/problemsClassifierEnv/lib/python2.7/site-packages/sklearn/metrics/classification.py:1145: UndefinedMetricWarning: Recall and F-score are ill-defined and being set to 0.0 in samples with no true labels.\n",
      "  'recall', 'true', average, warn_for)\n"
     ]
    },
    {
     "name": "stdout",
     "output_type": "stream",
     "text": [
      "()\n",
      "Best parameters set:\n",
      "[('tfidf', TfidfVectorizer(analyzer=u'word', binary=False, decode_error=u'strict',\n",
      "        dtype=<type 'numpy.float64'>, encoding=u'utf-8', input=u'content',\n",
      "        lowercase=True, max_df=0.25, max_features=None, min_df=1,\n",
      "        ngram_range=(1, 1), norm=u'l2', preprocessor=None, smooth_idf=True,\n",
      "        stop_words=None, strip_accents=None, sublinear_tf=False,\n",
      "        token_pattern=u'(?u)\\\\b\\\\w\\\\w+\\\\b', tokenizer=None, use_idf=True,\n",
      "        vocabulary=None)), ('clf', MultinomialNB(alpha=0.001, class_prior=None, fit_prior=True))]\n",
      "()\n",
      "Applying best classifier on test data:\n"
     ]
    },
    {
     "name": "stderr",
     "output_type": "stream",
     "text": [
      "/anaconda2/envs/problemsClassifierEnv/lib/python2.7/site-packages/sklearn/metrics/classification.py:1143: UndefinedMetricWarning: Precision and F-score are ill-defined and being set to 0.0 in labels with no predicted samples.\n",
      "  'precision', 'predicted', average, warn_for)\n",
      "/anaconda2/envs/problemsClassifierEnv/lib/python2.7/site-packages/sklearn/metrics/classification.py:1145: UndefinedMetricWarning: Recall and F-score are ill-defined and being set to 0.0 in labels with no true samples.\n",
      "  'recall', 'true', average, warn_for)\n",
      "/anaconda2/envs/problemsClassifierEnv/lib/python2.7/site-packages/sklearn/metrics/classification.py:1143: UndefinedMetricWarning: Precision and F-score are ill-defined and being set to 0.0 in labels with no predicted samples.\n",
      "  'precision', 'predicted', average, warn_for)\n",
      "/anaconda2/envs/problemsClassifierEnv/lib/python2.7/site-packages/sklearn/metrics/classification.py:1145: UndefinedMetricWarning: Recall and F-score are ill-defined and being set to 0.0 in labels with no true samples.\n",
      "  'recall', 'true', average, warn_for)\n",
      "/anaconda2/envs/problemsClassifierEnv/lib/python2.7/site-packages/sklearn/metrics/classification.py:1143: UndefinedMetricWarning: Precision and F-score are ill-defined and being set to 0.0 in labels with no predicted samples.\n",
      "  'precision', 'predicted', average, warn_for)\n",
      "/anaconda2/envs/problemsClassifierEnv/lib/python2.7/site-packages/sklearn/metrics/classification.py:1145: UndefinedMetricWarning: Recall and F-score are ill-defined and being set to 0.0 in labels with no true samples.\n",
      "  'recall', 'true', average, warn_for)\n",
      "/anaconda2/envs/problemsClassifierEnv/lib/python2.7/site-packages/sklearn/metrics/classification.py:1143: UndefinedMetricWarning: Precision and F-score are ill-defined and being set to 0.0 in samples with no predicted labels.\n",
      "  'precision', 'predicted', average, warn_for)\n",
      "/anaconda2/envs/problemsClassifierEnv/lib/python2.7/site-packages/sklearn/metrics/classification.py:1145: UndefinedMetricWarning: Recall and F-score are ill-defined and being set to 0.0 in samples with no true labels.\n",
      "  'recall', 'true', average, warn_for)\n"
     ]
    },
    {
     "name": "stdout",
     "output_type": "stream",
     "text": [
      "()\n",
      "Best parameters set:\n",
      "[('tfidf', TfidfVectorizer(analyzer=u'word', binary=False, decode_error=u'strict',\n",
      "        dtype=<type 'numpy.float64'>, encoding=u'utf-8', input=u'content',\n",
      "        lowercase=True, max_df=0.25, max_features=None, min_df=1,\n",
      "        ngram_range=(1, 1), norm=u'l2', preprocessor=None, smooth_idf=True,\n",
      "        stop_words=None, strip_accents=None, sublinear_tf=False,\n",
      "        token_pattern=u'(?u)\\\\b\\\\w\\\\w+\\\\b', tokenizer=None, use_idf=True,\n",
      "        vocabulary=None)), ('clf', MultinomialNB(alpha=0.001, class_prior=None, fit_prior=True))]\n",
      "()\n",
      "Applying best classifier on test data:\n"
     ]
    },
    {
     "name": "stderr",
     "output_type": "stream",
     "text": [
      "/anaconda2/envs/problemsClassifierEnv/lib/python2.7/site-packages/sklearn/metrics/classification.py:1143: UndefinedMetricWarning: Precision and F-score are ill-defined and being set to 0.0 in labels with no predicted samples.\n",
      "  'precision', 'predicted', average, warn_for)\n",
      "/anaconda2/envs/problemsClassifierEnv/lib/python2.7/site-packages/sklearn/metrics/classification.py:1145: UndefinedMetricWarning: Recall and F-score are ill-defined and being set to 0.0 in labels with no true samples.\n",
      "  'recall', 'true', average, warn_for)\n",
      "/anaconda2/envs/problemsClassifierEnv/lib/python2.7/site-packages/sklearn/metrics/classification.py:1143: UndefinedMetricWarning: Precision and F-score are ill-defined and being set to 0.0 in labels with no predicted samples.\n",
      "  'precision', 'predicted', average, warn_for)\n",
      "/anaconda2/envs/problemsClassifierEnv/lib/python2.7/site-packages/sklearn/metrics/classification.py:1145: UndefinedMetricWarning: Recall and F-score are ill-defined and being set to 0.0 in labels with no true samples.\n",
      "  'recall', 'true', average, warn_for)\n",
      "/anaconda2/envs/problemsClassifierEnv/lib/python2.7/site-packages/sklearn/metrics/classification.py:1143: UndefinedMetricWarning: Precision and F-score are ill-defined and being set to 0.0 in labels with no predicted samples.\n",
      "  'precision', 'predicted', average, warn_for)\n",
      "/anaconda2/envs/problemsClassifierEnv/lib/python2.7/site-packages/sklearn/metrics/classification.py:1145: UndefinedMetricWarning: Recall and F-score are ill-defined and being set to 0.0 in labels with no true samples.\n",
      "  'recall', 'true', average, warn_for)\n",
      "/anaconda2/envs/problemsClassifierEnv/lib/python2.7/site-packages/sklearn/metrics/classification.py:1143: UndefinedMetricWarning: Precision and F-score are ill-defined and being set to 0.0 in samples with no predicted labels.\n",
      "  'precision', 'predicted', average, warn_for)\n",
      "/anaconda2/envs/problemsClassifierEnv/lib/python2.7/site-packages/sklearn/metrics/classification.py:1145: UndefinedMetricWarning: Recall and F-score are ill-defined and being set to 0.0 in samples with no true labels.\n",
      "  'recall', 'true', average, warn_for)\n"
     ]
    },
    {
     "name": "stdout",
     "output_type": "stream",
     "text": [
      "()\n",
      "Best parameters set:\n",
      "[('tfidf', TfidfVectorizer(analyzer=u'word', binary=False, decode_error=u'strict',\n",
      "        dtype=<type 'numpy.float64'>, encoding=u'utf-8', input=u'content',\n",
      "        lowercase=True, max_df=0.25, max_features=None, min_df=1,\n",
      "        ngram_range=(1, 1), norm=u'l2', preprocessor=None, smooth_idf=True,\n",
      "        stop_words=None, strip_accents=None, sublinear_tf=False,\n",
      "        token_pattern=u'(?u)\\\\b\\\\w\\\\w+\\\\b', tokenizer=None, use_idf=True,\n",
      "        vocabulary=None)), ('clf', MultinomialNB(alpha=0.001, class_prior=None, fit_prior=True))]\n",
      "()\n",
      "Applying best classifier on test data:\n"
     ]
    },
    {
     "name": "stderr",
     "output_type": "stream",
     "text": [
      "/anaconda2/envs/problemsClassifierEnv/lib/python2.7/site-packages/sklearn/metrics/classification.py:1143: UndefinedMetricWarning: Precision and F-score are ill-defined and being set to 0.0 in labels with no predicted samples.\n",
      "  'precision', 'predicted', average, warn_for)\n",
      "/anaconda2/envs/problemsClassifierEnv/lib/python2.7/site-packages/sklearn/metrics/classification.py:1145: UndefinedMetricWarning: Recall and F-score are ill-defined and being set to 0.0 in labels with no true samples.\n",
      "  'recall', 'true', average, warn_for)\n",
      "/anaconda2/envs/problemsClassifierEnv/lib/python2.7/site-packages/sklearn/metrics/classification.py:1143: UndefinedMetricWarning: Precision and F-score are ill-defined and being set to 0.0 in labels with no predicted samples.\n",
      "  'precision', 'predicted', average, warn_for)\n",
      "/anaconda2/envs/problemsClassifierEnv/lib/python2.7/site-packages/sklearn/metrics/classification.py:1145: UndefinedMetricWarning: Recall and F-score are ill-defined and being set to 0.0 in labels with no true samples.\n",
      "  'recall', 'true', average, warn_for)\n",
      "/anaconda2/envs/problemsClassifierEnv/lib/python2.7/site-packages/sklearn/metrics/classification.py:1143: UndefinedMetricWarning: Precision and F-score are ill-defined and being set to 0.0 in labels with no predicted samples.\n",
      "  'precision', 'predicted', average, warn_for)\n",
      "/anaconda2/envs/problemsClassifierEnv/lib/python2.7/site-packages/sklearn/metrics/classification.py:1145: UndefinedMetricWarning: Recall and F-score are ill-defined and being set to 0.0 in labels with no true samples.\n",
      "  'recall', 'true', average, warn_for)\n",
      "/anaconda2/envs/problemsClassifierEnv/lib/python2.7/site-packages/sklearn/metrics/classification.py:1143: UndefinedMetricWarning: Precision and F-score are ill-defined and being set to 0.0 in samples with no predicted labels.\n",
      "  'precision', 'predicted', average, warn_for)\n",
      "/anaconda2/envs/problemsClassifierEnv/lib/python2.7/site-packages/sklearn/metrics/classification.py:1145: UndefinedMetricWarning: Recall and F-score are ill-defined and being set to 0.0 in samples with no true labels.\n",
      "  'recall', 'true', average, warn_for)\n"
     ]
    },
    {
     "name": "stdout",
     "output_type": "stream",
     "text": [
      "()\n",
      "Best parameters set:\n",
      "[('tfidf', TfidfVectorizer(analyzer=u'word', binary=False, decode_error=u'strict',\n",
      "        dtype=<type 'numpy.float64'>, encoding=u'utf-8', input=u'content',\n",
      "        lowercase=True, max_df=0.25, max_features=None, min_df=1,\n",
      "        ngram_range=(1, 1), norm=u'l2', preprocessor=None, smooth_idf=True,\n",
      "        stop_words=None, strip_accents=None, sublinear_tf=False,\n",
      "        token_pattern=u'(?u)\\\\b\\\\w\\\\w+\\\\b', tokenizer=None, use_idf=True,\n",
      "        vocabulary=None)), ('clf', MultinomialNB(alpha=0.001, class_prior=None, fit_prior=True))]\n",
      "()\n",
      "Applying best classifier on test data:\n"
     ]
    },
    {
     "name": "stderr",
     "output_type": "stream",
     "text": [
      "/anaconda2/envs/problemsClassifierEnv/lib/python2.7/site-packages/sklearn/metrics/classification.py:1143: UndefinedMetricWarning: Precision and F-score are ill-defined and being set to 0.0 in labels with no predicted samples.\n",
      "  'precision', 'predicted', average, warn_for)\n",
      "/anaconda2/envs/problemsClassifierEnv/lib/python2.7/site-packages/sklearn/metrics/classification.py:1145: UndefinedMetricWarning: Recall and F-score are ill-defined and being set to 0.0 in labels with no true samples.\n",
      "  'recall', 'true', average, warn_for)\n",
      "/anaconda2/envs/problemsClassifierEnv/lib/python2.7/site-packages/sklearn/metrics/classification.py:1143: UndefinedMetricWarning: Precision and F-score are ill-defined and being set to 0.0 in labels with no predicted samples.\n",
      "  'precision', 'predicted', average, warn_for)\n",
      "/anaconda2/envs/problemsClassifierEnv/lib/python2.7/site-packages/sklearn/metrics/classification.py:1145: UndefinedMetricWarning: Recall and F-score are ill-defined and being set to 0.0 in labels with no true samples.\n",
      "  'recall', 'true', average, warn_for)\n",
      "/anaconda2/envs/problemsClassifierEnv/lib/python2.7/site-packages/sklearn/metrics/classification.py:1143: UndefinedMetricWarning: Precision and F-score are ill-defined and being set to 0.0 in labels with no predicted samples.\n",
      "  'precision', 'predicted', average, warn_for)\n",
      "/anaconda2/envs/problemsClassifierEnv/lib/python2.7/site-packages/sklearn/metrics/classification.py:1145: UndefinedMetricWarning: Recall and F-score are ill-defined and being set to 0.0 in labels with no true samples.\n",
      "  'recall', 'true', average, warn_for)\n",
      "/anaconda2/envs/problemsClassifierEnv/lib/python2.7/site-packages/sklearn/metrics/classification.py:1143: UndefinedMetricWarning: Precision and F-score are ill-defined and being set to 0.0 in samples with no predicted labels.\n",
      "  'precision', 'predicted', average, warn_for)\n",
      "/anaconda2/envs/problemsClassifierEnv/lib/python2.7/site-packages/sklearn/metrics/classification.py:1145: UndefinedMetricWarning: Recall and F-score are ill-defined and being set to 0.0 in samples with no true labels.\n",
      "  'recall', 'true', average, warn_for)\n"
     ]
    },
    {
     "name": "stdout",
     "output_type": "stream",
     "text": [
      "()\n",
      "Best parameters set:\n",
      "[('tfidf', TfidfVectorizer(analyzer=u'word', binary=False, decode_error=u'strict',\n",
      "        dtype=<type 'numpy.float64'>, encoding=u'utf-8', input=u'content',\n",
      "        lowercase=True, max_df=0.25, max_features=None, min_df=1,\n",
      "        ngram_range=(1, 1), norm=u'l2', preprocessor=None, smooth_idf=True,\n",
      "        stop_words=None, strip_accents=None, sublinear_tf=False,\n",
      "        token_pattern=u'(?u)\\\\b\\\\w\\\\w+\\\\b', tokenizer=None, use_idf=True,\n",
      "        vocabulary=None)), ('clf', MultinomialNB(alpha=0.001, class_prior=None, fit_prior=True))]\n",
      "()\n",
      "Applying best classifier on test data:\n"
     ]
    },
    {
     "name": "stderr",
     "output_type": "stream",
     "text": [
      "/anaconda2/envs/problemsClassifierEnv/lib/python2.7/site-packages/sklearn/metrics/classification.py:1143: UndefinedMetricWarning: Precision and F-score are ill-defined and being set to 0.0 in labels with no predicted samples.\n",
      "  'precision', 'predicted', average, warn_for)\n",
      "/anaconda2/envs/problemsClassifierEnv/lib/python2.7/site-packages/sklearn/metrics/classification.py:1145: UndefinedMetricWarning: Recall and F-score are ill-defined and being set to 0.0 in labels with no true samples.\n",
      "  'recall', 'true', average, warn_for)\n",
      "/anaconda2/envs/problemsClassifierEnv/lib/python2.7/site-packages/sklearn/metrics/classification.py:1143: UndefinedMetricWarning: Precision and F-score are ill-defined and being set to 0.0 in labels with no predicted samples.\n",
      "  'precision', 'predicted', average, warn_for)\n",
      "/anaconda2/envs/problemsClassifierEnv/lib/python2.7/site-packages/sklearn/metrics/classification.py:1145: UndefinedMetricWarning: Recall and F-score are ill-defined and being set to 0.0 in labels with no true samples.\n",
      "  'recall', 'true', average, warn_for)\n",
      "/anaconda2/envs/problemsClassifierEnv/lib/python2.7/site-packages/sklearn/metrics/classification.py:1143: UndefinedMetricWarning: Precision and F-score are ill-defined and being set to 0.0 in labels with no predicted samples.\n",
      "  'precision', 'predicted', average, warn_for)\n",
      "/anaconda2/envs/problemsClassifierEnv/lib/python2.7/site-packages/sklearn/metrics/classification.py:1145: UndefinedMetricWarning: Recall and F-score are ill-defined and being set to 0.0 in labels with no true samples.\n",
      "  'recall', 'true', average, warn_for)\n",
      "/anaconda2/envs/problemsClassifierEnv/lib/python2.7/site-packages/sklearn/metrics/classification.py:1143: UndefinedMetricWarning: Precision and F-score are ill-defined and being set to 0.0 in samples with no predicted labels.\n",
      "  'precision', 'predicted', average, warn_for)\n",
      "/anaconda2/envs/problemsClassifierEnv/lib/python2.7/site-packages/sklearn/metrics/classification.py:1145: UndefinedMetricWarning: Recall and F-score are ill-defined and being set to 0.0 in samples with no true labels.\n",
      "  'recall', 'true', average, warn_for)\n"
     ]
    },
    {
     "name": "stdout",
     "output_type": "stream",
     "text": [
      "()\n",
      "Best parameters set:\n",
      "[('tfidf', TfidfVectorizer(analyzer=u'word', binary=False, decode_error=u'strict',\n",
      "        dtype=<type 'numpy.float64'>, encoding=u'utf-8', input=u'content',\n",
      "        lowercase=True, max_df=0.25, max_features=None, min_df=1,\n",
      "        ngram_range=(1, 1), norm=u'l2', preprocessor=None, smooth_idf=True,\n",
      "        stop_words=None, strip_accents=None, sublinear_tf=False,\n",
      "        token_pattern=u'(?u)\\\\b\\\\w\\\\w+\\\\b', tokenizer=None, use_idf=True,\n",
      "        vocabulary=None)), ('clf', MultinomialNB(alpha=0.001, class_prior=None, fit_prior=True))]\n",
      "()\n",
      "Applying best classifier on test data:\n",
      "{u'Two Pointers': 0.19717171717171716, u'Recursion': 0.05833333333333333, u'Minimax': 0.19, u'Sliding Window': 0.12333333333333334, u'Math': 0.6278302638852808, u'Sort': 0.21015499348619557, u'Map': 0.163015873015873, u'String': 0.6510082065036044, u'Greedy': 0.07651515151515151, u'Union Find': 0.29333333333333333, u'Heap': 0.06222222222222222, u'Graph': 0.607331573655103, u'Binary Search': 0.18285714285714288, u'Stack': 0.3262972582972583, u'Binary Indexed Tree': 0.0, u'Hash Table': 0.13271982919041742, u'Divide and Conquer': 0.0, u'Tree': 0.8929142239702704, u'Memoization': 0.0, u'Binary Search Tree': 0.2738888888888889, u'Queue': 0.3564502164502164, u'Linked List': 0.804040404040404, u'Dynamic Programming': 0.3908705092181032, u'Topological Sort': 0.16666666666666666, u'Breadth-first Search': 0.34488844488844494, u'Trie': 0.2452380952380952, u'Random': 0.16666666666666666, u'Searching': 0.03333333333333333, u'Design': 0.5146031746031745, u'Bit Manipulation': 0.5099157844443886, u'Segment Tree': 0.0, u'Array': 0.6227149186770433, u'Depth-first Search': 0.3449388846447671, u'Backtracking': 0.3325030525030525}\n",
      "{u'Two Pointers': 0.3333333333333333, u'Recursion': 0.08333333333333333, u'Minimax': 0.2333333333333333, u'Sliding Window': 0.3, u'Math': 0.5858098821026136, u'Sort': 0.3983333333333333, u'Map': 0.31666666666666665, u'String': 0.6458487761767949, u'Greedy': 0.11166666666666666, u'Union Find': 0.33333333333333337, u'Heap': 0.075, u'Graph': 0.7464285714285714, u'Binary Search': 0.43000000000000005, u'Stack': 0.5323809523809524, u'Binary Indexed Tree': 0.0, u'Hash Table': 0.2835714285714286, u'Divide and Conquer': 0.0, u'Tree': 0.8690675142714486, u'Memoization': 0.0, u'Binary Search Tree': 0.4333333333333333, u'Queue': 0.5666666666666667, u'Linked List': 0.8455555555555556, u'Dynamic Programming': 0.44692706622879036, u'Topological Sort': 0.2, u'Breadth-first Search': 0.48, u'Trie': 0.4, u'Random': 0.2, u'Searching': 0.05, u'Design': 0.6833333333333333, u'Bit Manipulation': 0.7693506493506493, u'Segment Tree': 0.0, u'Array': 0.6078569597116809, u'Depth-first Search': 0.5248015873015872, u'Backtracking': 0.5}\n",
      "{u'Two Pointers': 0.14523809523809522, u'Recursion': 0.045, u'Minimax': 0.18333333333333332, u'Sliding Window': 0.07833333333333332, u'Math': 0.6781910501633941, u'Sort': 0.14926813382695736, u'Map': 0.11666666666666665, u'String': 0.6654712692813571, u'Greedy': 0.06190476190476191, u'Union Find': 0.26666666666666666, u'Heap': 0.05333333333333333, u'Graph': 0.5241053391053392, u'Binary Search': 0.13742424242424242, u'Stack': 0.2425, u'Binary Indexed Tree': 0.0, u'Hash Table': 0.09969988344988344, u'Divide and Conquer': 0.0, u'Tree': 0.9209468303435695, u'Memoization': 0.0, u'Binary Search Tree': 0.2011904761904762, u'Queue': 0.2741666666666666, u'Linked List': 0.7872222222222223, u'Dynamic Programming': 0.34975176777277805, u'Topological Sort': 0.15, u'Breadth-first Search': 0.32525252525252524, u'Trie': 0.2, u'Random': 0.15, u'Searching': 0.025, u'Design': 0.44119047619047613, u'Bit Manipulation': 0.39258527334378723, u'Segment Tree': 0.0, u'Array': 0.6433784762304338, u'Depth-first Search': 0.2789160839160839, u'Backtracking': 0.26916666666666667}\n",
      "{'recall': 0.04538653366583541, 'f1-score': 0.045923323751625084, 'precision': 0.049307742256227485}\n"
     ]
    },
    {
     "name": "stderr",
     "output_type": "stream",
     "text": [
      "/anaconda2/envs/problemsClassifierEnv/lib/python2.7/site-packages/sklearn/metrics/classification.py:1143: UndefinedMetricWarning: Precision and F-score are ill-defined and being set to 0.0 in labels with no predicted samples.\n",
      "  'precision', 'predicted', average, warn_for)\n",
      "/anaconda2/envs/problemsClassifierEnv/lib/python2.7/site-packages/sklearn/metrics/classification.py:1145: UndefinedMetricWarning: Recall and F-score are ill-defined and being set to 0.0 in labels with no true samples.\n",
      "  'recall', 'true', average, warn_for)\n",
      "/anaconda2/envs/problemsClassifierEnv/lib/python2.7/site-packages/sklearn/metrics/classification.py:1143: UndefinedMetricWarning: Precision and F-score are ill-defined and being set to 0.0 in labels with no predicted samples.\n",
      "  'precision', 'predicted', average, warn_for)\n",
      "/anaconda2/envs/problemsClassifierEnv/lib/python2.7/site-packages/sklearn/metrics/classification.py:1145: UndefinedMetricWarning: Recall and F-score are ill-defined and being set to 0.0 in labels with no true samples.\n",
      "  'recall', 'true', average, warn_for)\n",
      "/anaconda2/envs/problemsClassifierEnv/lib/python2.7/site-packages/sklearn/metrics/classification.py:1143: UndefinedMetricWarning: Precision and F-score are ill-defined and being set to 0.0 in labels with no predicted samples.\n",
      "  'precision', 'predicted', average, warn_for)\n",
      "/anaconda2/envs/problemsClassifierEnv/lib/python2.7/site-packages/sklearn/metrics/classification.py:1145: UndefinedMetricWarning: Recall and F-score are ill-defined and being set to 0.0 in labels with no true samples.\n",
      "  'recall', 'true', average, warn_for)\n",
      "/anaconda2/envs/problemsClassifierEnv/lib/python2.7/site-packages/sklearn/metrics/classification.py:1143: UndefinedMetricWarning: Precision and F-score are ill-defined and being set to 0.0 in samples with no predicted labels.\n",
      "  'precision', 'predicted', average, warn_for)\n",
      "/anaconda2/envs/problemsClassifierEnv/lib/python2.7/site-packages/sklearn/metrics/classification.py:1145: UndefinedMetricWarning: Recall and F-score are ill-defined and being set to 0.0 in samples with no true labels.\n",
      "  'recall', 'true', average, warn_for)\n"
     ]
    }
   ],
   "source": [
    "start_pointer = 0\n",
    "end_pointer = 300\n",
    "category_columns = train_y.columns\n",
    "mean_accuracy = []\n",
    "mean_precision = []\n",
    "mean_f1 = []\n",
    "mean_recall = []\n",
    "report_df_final = pd.DataFrame([])\n",
    "f1Score = {}\n",
    "accuracyScore = {}\n",
    "precisionScore={}\n",
    "ks = [75]\n",
    "f1_score = []\n",
    "thresh = 0.85\n",
    "# TF-IDF + Naive Bayes\n",
    "train_y_cluster_labels= train_y.groupby(list(category_columns)).ngroup()\n",
    "cluster_center = train_y.copy(deep=True) #pd.DataFrame(train_y)\n",
    "cluster_center['Labels']=train_y_cluster_labels\n",
    "cluster_center = cluster_center.drop_duplicates()\n",
    "cluster_center = cluster_center.reset_index().set_index(['Labels']).sort_index().drop('index', axis=1)\n",
    "for i in range(10):\n",
    "    train = pd.concat([df.iloc[0:start_pointer], df.iloc[end_pointer:3006]])\n",
    "    test = df.iloc[start_pointer:end_pointer]\n",
    "    start_pointer = end_pointer\n",
    "    end_pointer = end_pointer + 300\n",
    "    train_X, train_y = train['Question Title Plus Description'], train.drop(['Question Title Plus Description'], axis=1)\n",
    "    test_X, test_y = test['Question Title Plus Description'], test.drop(['Question Title Plus Description'], axis=1)\n",
    "    train_y_cluster_labels= train_y.groupby(list(category_columns)).ngroup()\n",
    "    cluster_center = train_y.copy(deep=True) \n",
    "    cluster_center['Labels']=train_y_cluster_labels\n",
    "    cluster_center = cluster_center.drop_duplicates()\n",
    "    cluster_center = cluster_center.reset_index().set_index(['Labels']).sort_index().drop('index', axis=1)\n",
    "\n",
    "    category_columns = train_y.columns\n",
    "\n",
    "\n",
    "    pipeline = Pipeline([\n",
    "                ('tfidf', TfidfVectorizer()),\n",
    "                ('clf', MultinomialNB(fit_prior=True, class_prior=None))\n",
    "            ])\n",
    "    # sorted(pipeline.get_params().keys()) # -- to obtain the GridSearchCV parameter names\n",
    "    parameters = {\n",
    "                    'tfidf__max_df': [0.25, 0.5, 0.75],\n",
    "                    'tfidf__ngram_range': [(1, 1)],\n",
    "                    'tfidf__min_df': [1, 2, 5, 10],\n",
    "                    'clf__alpha': [0.001, 0.01, 0.1, 1]\n",
    "                }\n",
    "\n",
    "    overall_f1_score_v2_cv = make_scorer(overall_f1_score_v2, greater_is_better=True, class_to_genre_map = cluster_center)\n",
    "    grid_search_cv = GridSearchCV(pipeline, parameters, cv=2, scoring=overall_f1_score_v2_cv)\n",
    "    grid_search_cv.fit(train_X, train_y_cluster_labels)\n",
    "\n",
    "    print()\n",
    "    print(\"Best parameters set:\")\n",
    "    print (grid_search_cv.best_estimator_.steps)\n",
    "    print()\n",
    "\n",
    "    # measuring performance on test set\n",
    "    print (\"Applying best classifier on test data:\")\n",
    "    best_clf = grid_search_cv.best_estimator_\n",
    "    predictions = multi_class_predict(best_clf, test_X, cluster_center)  \n",
    "    report = classification_report(test_y, predictions, output_dict = True)\n",
    "    for key, value in report.items():\n",
    "    \n",
    "        if(key in ['weighted avg']):\n",
    "            if(key in weightedavgScore):\n",
    "                weightedavgScore['f1-score'] += float(value['f1-score'])\n",
    "                weightedavgScore['precision'] += float(value['precision'])\n",
    "                weightedavgScore['recall'] += float(value['recall'])\n",
    "                continue\n",
    "            else:\n",
    "                weightedavgScore['f1-score'] = float(value['f1-score'])\n",
    "                weightedavgScore['precision'] = float(value['precision'])\n",
    "                weightedavgScore['recall'] = float(value['recall'])\n",
    "                continue\n",
    "        if(key not in ['macro avg', 'micro avg', 'macro avg', 'samples avg']):\n",
    "            if(category_columns[int(key)] in f1Score.keys()):\n",
    "                \n",
    "                f1Score[category_columns[int(key)]] += float(value['f1-score'])\n",
    "                accuracyScore[category_columns[int(key)]] += float(value['precision'])\n",
    "                precisionScore[category_columns[int(key)]] += float(value['recall'])\n",
    "            else:\n",
    "                \n",
    "                f1Score[category_columns[int(key)]] = float(value['f1-score'])\n",
    "                accuracyScore[category_columns[int(key)]] = float(value['precision'])\n",
    "                precisionScore[category_columns[int(key)]] = float(value['recall'])\n",
    "\n",
    "for key in f1Score:\n",
    "    f1Score[key] = f1Score[key]/10\n",
    "    accuracyScore[key] = accuracyScore[key]/10\n",
    "    precisionScore[key] = precisionScore[key]/10\n",
    "for key in weightedavgScore:\n",
    "    weightedavgScore[key] = weightedavgScore[key] / 10\n",
    "\n",
    "print(f1Score)\n",
    "print(accuracyScore)\n",
    "print(precisionScore)\n",
    "print(weightedavgScore)\n"
   ]
  },
  {
   "cell_type": "code",
   "execution_count": null,
   "metadata": {},
   "outputs": [],
   "source": []
  }
 ],
 "metadata": {
  "kernelspec": {
   "display_name": "problemsClassifierEnv",
   "language": "python",
   "name": "problemsclassifierenv"
  },
  "language_info": {
   "codemirror_mode": {
    "name": "ipython",
    "version": 2
   },
   "file_extension": ".py",
   "mimetype": "text/x-python",
   "name": "python",
   "nbconvert_exporter": "python",
   "pygments_lexer": "ipython2",
   "version": "2.7.15"
  }
 },
 "nbformat": 4,
 "nbformat_minor": 2
}
